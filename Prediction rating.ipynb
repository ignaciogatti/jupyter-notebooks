{
 "cells": [
  {
   "cell_type": "markdown",
   "metadata": {},
   "source": [
    "## Prediction rating"
   ]
  },
  {
   "cell_type": "code",
   "execution_count": 1,
   "metadata": {
    "collapsed": true
   },
   "outputs": [],
   "source": [
    "import pandas as pd\n",
    "import numpy as np\n",
    "import scipy\n",
    "from sklearn.feature_extraction.text import CountVectorizer, TfidfVectorizer"
   ]
  },
  {
   "cell_type": "code",
   "execution_count": 3,
   "metadata": {
    "collapsed": false
   },
   "outputs": [
    {
     "data": {
      "text/html": [
       "<div>\n",
       "<style>\n",
       "    .dataframe thead tr:only-child th {\n",
       "        text-align: right;\n",
       "    }\n",
       "\n",
       "    .dataframe thead th {\n",
       "        text-align: left;\n",
       "    }\n",
       "\n",
       "    .dataframe tbody tr th {\n",
       "        vertical-align: top;\n",
       "    }\n",
       "</style>\n",
       "<table border=\"1\" class=\"dataframe\">\n",
       "  <thead>\n",
       "    <tr style=\"text-align: right;\">\n",
       "      <th></th>\n",
       "      <th>userId</th>\n",
       "      <th>asin</th>\n",
       "      <th>rating</th>\n",
       "      <th>reviewTime</th>\n",
       "      <th>movieId</th>\n",
       "    </tr>\n",
       "  </thead>\n",
       "  <tbody>\n",
       "    <tr>\n",
       "      <th>0</th>\n",
       "      <td>AGEIT17HENDIS</td>\n",
       "      <td>0764003828</td>\n",
       "      <td>3.0</td>\n",
       "      <td>1185062400</td>\n",
       "      <td>1963</td>\n",
       "    </tr>\n",
       "    <tr>\n",
       "      <th>1</th>\n",
       "      <td>A34PAZQ73SL163</td>\n",
       "      <td>0764003828</td>\n",
       "      <td>5.0</td>\n",
       "      <td>1110585600</td>\n",
       "      <td>1963</td>\n",
       "    </tr>\n",
       "    <tr>\n",
       "      <th>2</th>\n",
       "      <td>A20IIR0422G3A5</td>\n",
       "      <td>0764003828</td>\n",
       "      <td>5.0</td>\n",
       "      <td>1115078400</td>\n",
       "      <td>1963</td>\n",
       "    </tr>\n",
       "    <tr>\n",
       "      <th>3</th>\n",
       "      <td>AW3VZ5O895LRK</td>\n",
       "      <td>0764003828</td>\n",
       "      <td>4.0</td>\n",
       "      <td>1379116800</td>\n",
       "      <td>1963</td>\n",
       "    </tr>\n",
       "    <tr>\n",
       "      <th>4</th>\n",
       "      <td>A161ANWB62G3M8</td>\n",
       "      <td>0764003828</td>\n",
       "      <td>5.0</td>\n",
       "      <td>1222041600</td>\n",
       "      <td>1963</td>\n",
       "    </tr>\n",
       "  </tbody>\n",
       "</table>\n",
       "</div>"
      ],
      "text/plain": [
       "           userId        asin  rating  reviewTime  movieId\n",
       "0   AGEIT17HENDIS  0764003828     3.0  1185062400     1963\n",
       "1  A34PAZQ73SL163  0764003828     5.0  1110585600     1963\n",
       "2  A20IIR0422G3A5  0764003828     5.0  1115078400     1963\n",
       "3   AW3VZ5O895LRK  0764003828     4.0  1379116800     1963\n",
       "4  A161ANWB62G3M8  0764003828     5.0  1222041600     1963"
      ]
     },
     "execution_count": 3,
     "metadata": {},
     "output_type": "execute_result"
    }
   ],
   "source": [
    "df_movie_ratings = pd.read_csv('/home/ignacio/Datasets/Amazon/Data cleaned/ratings_movie_intersect_greater_1.csv')\n",
    "df_movie_ratings.head()"
   ]
  },
  {
   "cell_type": "code",
   "execution_count": null,
   "metadata": {
    "collapsed": false
   },
   "outputs": [],
   "source": [
    "df_books = pd.read_csv('/home/ignacio/Datasets/Amazon/Data cleaned/movie_meta_valid_genres.csv')\n",
    "df_books.head()"
   ]
  },
  {
   "cell_type": "code",
   "execution_count": null,
   "metadata": {
    "collapsed": false
   },
   "outputs": [],
   "source": [
    "mean_rating = df_book_ratings['rating'].mean()\n",
    "mean_rating"
   ]
  },
  {
   "cell_type": "markdown",
   "metadata": {},
   "source": [
    "## Estimate bi"
   ]
  },
  {
   "cell_type": "code",
   "execution_count": null,
   "metadata": {
    "collapsed": false
   },
   "outputs": [],
   "source": [
    "df_book_ratings_norm = df_book_ratings.copy()\n",
    "df_book_ratings_norm['rating'] = df_book_ratings_norm['rating'] - mean_rating\n",
    "df_book_ratings_norm.head()"
   ]
  },
  {
   "cell_type": "code",
   "execution_count": null,
   "metadata": {
    "collapsed": false
   },
   "outputs": [],
   "source": [
    "movie_rating_sum = df_book_ratings_norm[['movieId', 'rating']].groupby('movieId').agg('sum')\n",
    "movie_rating_sum.head()"
   ]
  },
  {
   "cell_type": "code",
   "execution_count": null,
   "metadata": {
    "collapsed": false
   },
   "outputs": [],
   "source": [
    "movie_rating_count_user = df_book_ratings[['movieId', 'userId']].groupby('movieId').count()\n",
    "movie_rating_count_user.head()"
   ]
  },
  {
   "cell_type": "code",
   "execution_count": null,
   "metadata": {
    "collapsed": false
   },
   "outputs": [],
   "source": [
    "movie_rating_count_user['userId'] = movie_rating_count_user['userId'] + 25\n",
    "movie_rating_count_user.head()"
   ]
  },
  {
   "cell_type": "code",
   "execution_count": null,
   "metadata": {
    "collapsed": false
   },
   "outputs": [],
   "source": [
    "movie_bi = pd.merge(movie_rating_sum, movie_rating_count_user, how='inner', right_index=True, left_index=True)\n",
    "movie_bi.head()"
   ]
  },
  {
   "cell_type": "code",
   "execution_count": null,
   "metadata": {
    "collapsed": false
   },
   "outputs": [],
   "source": [
    "movie_bi['bi'] = movie_bi['rating'] / movie_bi['userId']\n",
    "movie_bi.head()"
   ]
  },
  {
   "cell_type": "code",
   "execution_count": null,
   "metadata": {
    "collapsed": false
   },
   "outputs": [],
   "source": [
    "movie_bi = movie_bi.reset_index()\n",
    "movie_bi.head()"
   ]
  },
  {
   "cell_type": "code",
   "execution_count": null,
   "metadata": {
    "collapsed": true
   },
   "outputs": [],
   "source": [
    "movie_bi[['movieId', 'bi']].to_csv('/home/ignacio/Datasets/Amazon/Data cleaned/movie_bi.csv', index=False)"
   ]
  },
  {
   "cell_type": "markdown",
   "metadata": {},
   "source": [
    "## Estimate bu"
   ]
  },
  {
   "cell_type": "code",
   "execution_count": null,
   "metadata": {
    "collapsed": false
   },
   "outputs": [],
   "source": [
    "df_book_ratings_norm['rating'] = df_book_ratings_norm.apply(\n",
    "    lambda row : row['rating'] - movie_bi[movie_bi['asin'] == row['asin']]['bi'].values[0], axis = 1)\n",
    "df_book_ratings_norm.head()"
   ]
  },
  {
   "cell_type": "code",
   "execution_count": null,
   "metadata": {
    "collapsed": false
   },
   "outputs": [],
   "source": [
    "movie_norm_sum = df_book_ratings_norm[['userId', 'rating']].groupby(['userId']).agg('sum')\n",
    "movie_norm_sum.head()"
   ]
  },
  {
   "cell_type": "code",
   "execution_count": null,
   "metadata": {
    "collapsed": false
   },
   "outputs": [],
   "source": [
    "movie_norm_count = df_book_ratings_norm[['userId', 'asin']].groupby(['userId']).count()\n",
    "movie_norm_count.head()"
   ]
  },
  {
   "cell_type": "code",
   "execution_count": null,
   "metadata": {
    "collapsed": false
   },
   "outputs": [],
   "source": [
    "movie_norm_count['asin'] = movie_norm_count['asin'] + 10\n",
    "movie_norm_count.head()"
   ]
  },
  {
   "cell_type": "code",
   "execution_count": null,
   "metadata": {
    "collapsed": false
   },
   "outputs": [],
   "source": [
    "movie_bu = pd.merge(movie_norm_sum, movie_norm_count, left_index=True, right_index=True)\n",
    "movie_bu.head()"
   ]
  },
  {
   "cell_type": "code",
   "execution_count": null,
   "metadata": {
    "collapsed": false
   },
   "outputs": [],
   "source": [
    "movie_bu['bu'] = movie_bu['rating'] / movie_bu['asin']\n",
    "movie_bu.head()"
   ]
  },
  {
   "cell_type": "code",
   "execution_count": null,
   "metadata": {
    "collapsed": false
   },
   "outputs": [],
   "source": [
    "movie_bu = movie_bu.reset_index()\n",
    "movie_bu.head()"
   ]
  },
  {
   "cell_type": "code",
   "execution_count": null,
   "metadata": {
    "collapsed": true
   },
   "outputs": [],
   "source": [
    "movie_bu[['userId', 'bu']].to_csv('/home/ignacio/Datasets/Amazon/Data cleaned/movie_bu.csv', index=False)"
   ]
  },
  {
   "cell_type": "code",
   "execution_count": null,
   "metadata": {
    "collapsed": true
   },
   "outputs": [],
   "source": []
  },
  {
   "cell_type": "markdown",
   "metadata": {},
   "source": [
    "## MAE proof"
   ]
  },
  {
   "cell_type": "code",
   "execution_count": 18,
   "metadata": {
    "collapsed": false
   },
   "outputs": [
    {
     "data": {
      "text/html": [
       "<div>\n",
       "<style>\n",
       "    .dataframe thead tr:only-child th {\n",
       "        text-align: right;\n",
       "    }\n",
       "\n",
       "    .dataframe thead th {\n",
       "        text-align: left;\n",
       "    }\n",
       "\n",
       "    .dataframe tbody tr th {\n",
       "        vertical-align: top;\n",
       "    }\n",
       "</style>\n",
       "<table border=\"1\" class=\"dataframe\">\n",
       "  <thead>\n",
       "    <tr style=\"text-align: right;\">\n",
       "      <th></th>\n",
       "      <th>movieId</th>\n",
       "      <th>title</th>\n",
       "      <th>genres</th>\n",
       "      <th>director</th>\n",
       "      <th>similarity</th>\n",
       "      <th>rating</th>\n",
       "    </tr>\n",
       "  </thead>\n",
       "  <tbody>\n",
       "    <tr>\n",
       "      <th>0</th>\n",
       "      <td>2973</td>\n",
       "      <td>Crimes and Misdemeanors</td>\n",
       "      <td>comedy|crime|drama</td>\n",
       "      <td>Woody Allen</td>\n",
       "      <td>0.881196</td>\n",
       "      <td>4.750639</td>\n",
       "    </tr>\n",
       "    <tr>\n",
       "      <th>1</th>\n",
       "      <td>1701</td>\n",
       "      <td>Deconstructing Harry</td>\n",
       "      <td>comedy|drama</td>\n",
       "      <td>Woody Allen</td>\n",
       "      <td>0.867732</td>\n",
       "      <td>4.737176</td>\n",
       "    </tr>\n",
       "    <tr>\n",
       "      <th>2</th>\n",
       "      <td>1701</td>\n",
       "      <td>Deconstructing Harry</td>\n",
       "      <td>comedy|drama</td>\n",
       "      <td>Woody Allen</td>\n",
       "      <td>0.867732</td>\n",
       "      <td>4.737176</td>\n",
       "    </tr>\n",
       "    <tr>\n",
       "      <th>3</th>\n",
       "      <td>32291</td>\n",
       "      <td>Melinda and Melinda</td>\n",
       "      <td>comedy|drama</td>\n",
       "      <td>Woody Allen</td>\n",
       "      <td>0.867732</td>\n",
       "      <td>4.737176</td>\n",
       "    </tr>\n",
       "    <tr>\n",
       "      <th>4</th>\n",
       "      <td>5348</td>\n",
       "      <td>Hollywood Ending</td>\n",
       "      <td>comedy|drama</td>\n",
       "      <td>Woody Allen</td>\n",
       "      <td>0.867732</td>\n",
       "      <td>4.737176</td>\n",
       "    </tr>\n",
       "  </tbody>\n",
       "</table>\n",
       "</div>"
      ],
      "text/plain": [
       "   movieId                    title              genres     director  \\\n",
       "0     2973  Crimes and Misdemeanors  comedy|crime|drama  Woody Allen   \n",
       "1     1701     Deconstructing Harry        comedy|drama  Woody Allen   \n",
       "2     1701     Deconstructing Harry        comedy|drama  Woody Allen   \n",
       "3    32291      Melinda and Melinda        comedy|drama  Woody Allen   \n",
       "4     5348         Hollywood Ending        comedy|drama  Woody Allen   \n",
       "\n",
       "   similarity    rating  \n",
       "0    0.881196  4.750639  \n",
       "1    0.867732  4.737176  \n",
       "2    0.867732  4.737176  \n",
       "3    0.867732  4.737176  \n",
       "4    0.867732  4.737176  "
      ]
     },
     "execution_count": 18,
     "metadata": {},
     "output_type": "execute_result"
    }
   ],
   "source": [
    "df_prediction = pd.read_csv('/home/ignacio/Datasets/Amazon/Data cleaned/Recommendation/recommendation_rating_proof.csv')\n",
    "df_prediction.head()"
   ]
  },
  {
   "cell_type": "code",
   "execution_count": 19,
   "metadata": {
    "collapsed": false
   },
   "outputs": [
    {
     "data": {
      "text/plain": [
       "560"
      ]
     },
     "execution_count": 19,
     "metadata": {},
     "output_type": "execute_result"
    }
   ],
   "source": [
    "len(df_prediction)"
   ]
  },
  {
   "cell_type": "code",
   "execution_count": 20,
   "metadata": {
    "collapsed": false
   },
   "outputs": [
    {
     "data": {
      "text/html": [
       "<div>\n",
       "<style>\n",
       "    .dataframe thead tr:only-child th {\n",
       "        text-align: right;\n",
       "    }\n",
       "\n",
       "    .dataframe thead th {\n",
       "        text-align: left;\n",
       "    }\n",
       "\n",
       "    .dataframe tbody tr th {\n",
       "        vertical-align: top;\n",
       "    }\n",
       "</style>\n",
       "<table border=\"1\" class=\"dataframe\">\n",
       "  <thead>\n",
       "    <tr style=\"text-align: right;\">\n",
       "      <th></th>\n",
       "      <th>userId</th>\n",
       "      <th>asin</th>\n",
       "      <th>rating</th>\n",
       "      <th>reviewTime</th>\n",
       "      <th>movieId</th>\n",
       "    </tr>\n",
       "  </thead>\n",
       "  <tbody>\n",
       "    <tr>\n",
       "      <th>0</th>\n",
       "      <td>AGEIT17HENDIS</td>\n",
       "      <td>0764003828</td>\n",
       "      <td>3.0</td>\n",
       "      <td>1185062400</td>\n",
       "      <td>1963</td>\n",
       "    </tr>\n",
       "    <tr>\n",
       "      <th>73</th>\n",
       "      <td>AGEIT17HENDIS</td>\n",
       "      <td>0767819764</td>\n",
       "      <td>3.0</td>\n",
       "      <td>1185667200</td>\n",
       "      <td>492</td>\n",
       "    </tr>\n",
       "    <tr>\n",
       "      <th>207</th>\n",
       "      <td>AGEIT17HENDIS</td>\n",
       "      <td>0780621654</td>\n",
       "      <td>3.0</td>\n",
       "      <td>1212364800</td>\n",
       "      <td>1701</td>\n",
       "    </tr>\n",
       "    <tr>\n",
       "      <th>346</th>\n",
       "      <td>AGEIT17HENDIS</td>\n",
       "      <td>0783226039</td>\n",
       "      <td>4.0</td>\n",
       "      <td>1223596800</td>\n",
       "      <td>2728</td>\n",
       "    </tr>\n",
       "    <tr>\n",
       "      <th>401</th>\n",
       "      <td>AGEIT17HENDIS</td>\n",
       "      <td>0783226152</td>\n",
       "      <td>5.0</td>\n",
       "      <td>1282867200</td>\n",
       "      <td>3363</td>\n",
       "    </tr>\n",
       "  </tbody>\n",
       "</table>\n",
       "</div>"
      ],
      "text/plain": [
       "            userId        asin  rating  reviewTime  movieId\n",
       "0    AGEIT17HENDIS  0764003828     3.0  1185062400     1963\n",
       "73   AGEIT17HENDIS  0767819764     3.0  1185667200      492\n",
       "207  AGEIT17HENDIS  0780621654     3.0  1212364800     1701\n",
       "346  AGEIT17HENDIS  0783226039     4.0  1223596800     2728\n",
       "401  AGEIT17HENDIS  0783226152     5.0  1282867200     3363"
      ]
     },
     "execution_count": 20,
     "metadata": {},
     "output_type": "execute_result"
    }
   ],
   "source": [
    "df_ratings = df_movie_ratings[df_movie_ratings['userId'] == 'AGEIT17HENDIS']\n",
    "df_ratings.head()"
   ]
  },
  {
   "cell_type": "code",
   "execution_count": 22,
   "metadata": {
    "collapsed": false
   },
   "outputs": [
    {
     "data": {
      "text/html": [
       "<div>\n",
       "<style>\n",
       "    .dataframe thead tr:only-child th {\n",
       "        text-align: right;\n",
       "    }\n",
       "\n",
       "    .dataframe thead th {\n",
       "        text-align: left;\n",
       "    }\n",
       "\n",
       "    .dataframe tbody tr th {\n",
       "        vertical-align: top;\n",
       "    }\n",
       "</style>\n",
       "<table border=\"1\" class=\"dataframe\">\n",
       "  <thead>\n",
       "    <tr style=\"text-align: right;\">\n",
       "      <th></th>\n",
       "      <th>userId</th>\n",
       "      <th>asin</th>\n",
       "      <th>rating_x</th>\n",
       "      <th>reviewTime</th>\n",
       "      <th>movieId</th>\n",
       "      <th>rating_y</th>\n",
       "    </tr>\n",
       "  </thead>\n",
       "  <tbody>\n",
       "    <tr>\n",
       "      <th>0</th>\n",
       "      <td>AGEIT17HENDIS</td>\n",
       "      <td>0764003828</td>\n",
       "      <td>3.0</td>\n",
       "      <td>1185062400</td>\n",
       "      <td>1963</td>\n",
       "      <td>4.706887</td>\n",
       "    </tr>\n",
       "    <tr>\n",
       "      <th>1</th>\n",
       "      <td>AGEIT17HENDIS</td>\n",
       "      <td>0767819764</td>\n",
       "      <td>3.0</td>\n",
       "      <td>1185667200</td>\n",
       "      <td>492</td>\n",
       "      <td>4.674300</td>\n",
       "    </tr>\n",
       "    <tr>\n",
       "      <th>2</th>\n",
       "      <td>AGEIT17HENDIS</td>\n",
       "      <td>0767819764</td>\n",
       "      <td>3.0</td>\n",
       "      <td>1185667200</td>\n",
       "      <td>492</td>\n",
       "      <td>4.674300</td>\n",
       "    </tr>\n",
       "    <tr>\n",
       "      <th>3</th>\n",
       "      <td>AGEIT17HENDIS</td>\n",
       "      <td>0767819764</td>\n",
       "      <td>3.0</td>\n",
       "      <td>1185667200</td>\n",
       "      <td>492</td>\n",
       "      <td>4.584083</td>\n",
       "    </tr>\n",
       "    <tr>\n",
       "      <th>4</th>\n",
       "      <td>AGEIT17HENDIS</td>\n",
       "      <td>0767819764</td>\n",
       "      <td>3.0</td>\n",
       "      <td>1185667200</td>\n",
       "      <td>492</td>\n",
       "      <td>4.584083</td>\n",
       "    </tr>\n",
       "  </tbody>\n",
       "</table>\n",
       "</div>"
      ],
      "text/plain": [
       "          userId        asin  rating_x  reviewTime  movieId  rating_y\n",
       "0  AGEIT17HENDIS  0764003828       3.0  1185062400     1963  4.706887\n",
       "1  AGEIT17HENDIS  0767819764       3.0  1185667200      492  4.674300\n",
       "2  AGEIT17HENDIS  0767819764       3.0  1185667200      492  4.674300\n",
       "3  AGEIT17HENDIS  0767819764       3.0  1185667200      492  4.584083\n",
       "4  AGEIT17HENDIS  0767819764       3.0  1185667200      492  4.584083"
      ]
     },
     "execution_count": 22,
     "metadata": {},
     "output_type": "execute_result"
    }
   ],
   "source": [
    "df_ratings_join = pd.merge(df_ratings, df_prediction[['movieId', 'rating']], how='left', left_on='movieId', right_on='movieId')\n",
    "df_ratings_join.head()"
   ]
  },
  {
   "cell_type": "code",
   "execution_count": 23,
   "metadata": {
    "collapsed": false
   },
   "outputs": [
    {
     "data": {
      "text/plain": [
       "0.96643251946304032"
      ]
     },
     "execution_count": 23,
     "metadata": {},
     "output_type": "execute_result"
    }
   ],
   "source": [
    "from sklearn.metrics import mean_absolute_error, mean_squared_error\n",
    "\n",
    "mean_absolute_error(df_ratings_join['rating_x'], df_ratings_join['rating_y'])"
   ]
  },
  {
   "cell_type": "code",
   "execution_count": 24,
   "metadata": {
    "collapsed": false
   },
   "outputs": [
    {
     "data": {
      "text/plain": [
       "1.4013778339630074"
      ]
     },
     "execution_count": 24,
     "metadata": {},
     "output_type": "execute_result"
    }
   ],
   "source": [
    "mean_squared_error(df_ratings_join['rating_x'], df_ratings_join['rating_y'])"
   ]
  }
 ],
 "metadata": {
  "kernelspec": {
   "display_name": "Python 3",
   "language": "python",
   "name": "python3"
  },
  "language_info": {
   "codemirror_mode": {
    "name": "ipython",
    "version": 3
   },
   "file_extension": ".py",
   "mimetype": "text/x-python",
   "name": "python",
   "nbconvert_exporter": "python",
   "pygments_lexer": "ipython3",
   "version": "3.5.2"
  }
 },
 "nbformat": 4,
 "nbformat_minor": 2
}
