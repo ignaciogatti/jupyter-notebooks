{
 "cells": [
  {
   "cell_type": "code",
   "execution_count": 1,
   "metadata": {
    "collapsed": true
   },
   "outputs": [],
   "source": [
    "import pandas as pd\n",
    "import numpy as np\n",
    "import math"
   ]
  },
  {
   "cell_type": "code",
   "execution_count": null,
   "metadata": {
    "collapsed": false
   },
   "outputs": [],
   "source": [
    "import pandas as pd \n",
    "import gzip \n",
    "\n",
    "def parse(path): \n",
    "    g = gzip.open(path, 'rb') \n",
    "    for l in g: \n",
    "        yield eval(l) \n",
    "\n",
    "def getDF(path): \n",
    "    i = 0 \n",
    "    df = {} \n",
    "    for d in parse(path): \n",
    "        df[i] = d \n",
    "        i += 1 \n",
    "    return pd.DataFrame.from_dict(df, orient='index') \n"
   ]
  },
  {
   "cell_type": "markdown",
   "metadata": {},
   "source": [
    "## Amazon Movie data"
   ]
  },
  {
   "cell_type": "markdown",
   "metadata": {},
   "source": [
    "#### Save json.gz as csv"
   ]
  },
  {
   "cell_type": "code",
   "execution_count": null,
   "metadata": {
    "collapsed": true
   },
   "outputs": [],
   "source": [
    "df_movie_data = getDF('/home/ignacio/Datasets/Amazon/meta_Movies_and_TV.json.gz')\n",
    "df_movie_data.head()"
   ]
  },
  {
   "cell_type": "code",
   "execution_count": null,
   "metadata": {
    "collapsed": false
   },
   "outputs": [],
   "source": [
    "len(df_movie_data)"
   ]
  },
  {
   "cell_type": "code",
   "execution_count": null,
   "metadata": {
    "collapsed": true
   },
   "outputs": [],
   "source": [
    "df_movie_data.to_csv('/home/ignacio/Datasets/Amazon/movie_meta.csv', index=False)"
   ]
  },
  {
   "cell_type": "markdown",
   "metadata": {},
   "source": [
    "### Clean data: intersect with movies in ml"
   ]
  },
  {
   "cell_type": "code",
   "execution_count": 2,
   "metadata": {
    "collapsed": false
   },
   "outputs": [
    {
     "name": "stderr",
     "output_type": "stream",
     "text": [
      "/usr/local/lib/python3.5/dist-packages/IPython/core/interactiveshell.py:2698: DtypeWarning: Columns (4,8) have mixed types. Specify dtype option on import or set low_memory=False.\n",
      "  interactivity=interactivity, compiler=compiler, result=result)\n"
     ]
    },
    {
     "data": {
      "text/html": [
       "<div>\n",
       "<style>\n",
       "    .dataframe thead tr:only-child th {\n",
       "        text-align: right;\n",
       "    }\n",
       "\n",
       "    .dataframe thead th {\n",
       "        text-align: left;\n",
       "    }\n",
       "\n",
       "    .dataframe tbody tr th {\n",
       "        vertical-align: top;\n",
       "    }\n",
       "</style>\n",
       "<table border=\"1\" class=\"dataframe\">\n",
       "  <thead>\n",
       "    <tr style=\"text-align: right;\">\n",
       "      <th></th>\n",
       "      <th>asin</th>\n",
       "      <th>salesRank</th>\n",
       "      <th>categories</th>\n",
       "      <th>description</th>\n",
       "      <th>title</th>\n",
       "      <th>related</th>\n",
       "      <th>price</th>\n",
       "      <th>imUrl</th>\n",
       "      <th>brand</th>\n",
       "    </tr>\n",
       "  </thead>\n",
       "  <tbody>\n",
       "    <tr>\n",
       "      <th>0</th>\n",
       "      <td>0000143561</td>\n",
       "      <td>{'Movies &amp; TV': 376041}</td>\n",
       "      <td>[['Movies &amp; TV', 'Movies']]</td>\n",
       "      <td>3Pack DVD set - Italian Classics, Parties and ...</td>\n",
       "      <td>Everyday Italian (with Giada de Laurentiis), V...</td>\n",
       "      <td>{'buy_after_viewing': ['B0036FO6SI', 'B000KL8O...</td>\n",
       "      <td>12.99</td>\n",
       "      <td>http://g-ecx.images-amazon.com/images/G/01/x-s...</td>\n",
       "      <td>NaN</td>\n",
       "    </tr>\n",
       "    <tr>\n",
       "      <th>1</th>\n",
       "      <td>0000589012</td>\n",
       "      <td>{'Movies &amp; TV': 1084845}</td>\n",
       "      <td>[['Movies &amp; TV', 'Movies']]</td>\n",
       "      <td>NaN</td>\n",
       "      <td>Why Don't They Just Quit? DVD Roundtable Discu...</td>\n",
       "      <td>{'buy_after_viewing': ['B003AC98V2', 'B007VI5A...</td>\n",
       "      <td>15.95</td>\n",
       "      <td>http://ecx.images-amazon.com/images/I/519%2B1k...</td>\n",
       "      <td>NaN</td>\n",
       "    </tr>\n",
       "    <tr>\n",
       "      <th>2</th>\n",
       "      <td>0000695009</td>\n",
       "      <td>{'Movies &amp; TV': 1022732}</td>\n",
       "      <td>[['Movies &amp; TV', 'Movies']]</td>\n",
       "      <td>NaN</td>\n",
       "      <td>Understanding Seizures and Epilepsy DVD</td>\n",
       "      <td>NaN</td>\n",
       "      <td>NaN</td>\n",
       "      <td>http://g-ecx.images-amazon.com/images/G/01/x-s...</td>\n",
       "      <td>NaN</td>\n",
       "    </tr>\n",
       "    <tr>\n",
       "      <th>3</th>\n",
       "      <td>000107461X</td>\n",
       "      <td>{'Movies &amp; TV': 954116}</td>\n",
       "      <td>[['Movies &amp; TV', 'Movies']]</td>\n",
       "      <td>NaN</td>\n",
       "      <td>Live in Houston [VHS]</td>\n",
       "      <td>NaN</td>\n",
       "      <td>NaN</td>\n",
       "      <td>http://ecx.images-amazon.com/images/I/41WY47gL...</td>\n",
       "      <td>NaN</td>\n",
       "    </tr>\n",
       "    <tr>\n",
       "      <th>4</th>\n",
       "      <td>0000143529</td>\n",
       "      <td>{'Movies &amp; TV': 463562}</td>\n",
       "      <td>[['Movies &amp; TV', 'Movies']]</td>\n",
       "      <td>Disc 1: Flour Power (Scones; Shortcakes; South...</td>\n",
       "      <td>My Fair Pastry (Good Eats Vol. 9)</td>\n",
       "      <td>{'buy_after_viewing': ['B0018Y5NVI', 'B003RLLS...</td>\n",
       "      <td>19.99</td>\n",
       "      <td>http://ecx.images-amazon.com/images/I/51QY79CD...</td>\n",
       "      <td>NaN</td>\n",
       "    </tr>\n",
       "  </tbody>\n",
       "</table>\n",
       "</div>"
      ],
      "text/plain": [
       "         asin                 salesRank                   categories  \\\n",
       "0  0000143561   {'Movies & TV': 376041}  [['Movies & TV', 'Movies']]   \n",
       "1  0000589012  {'Movies & TV': 1084845}  [['Movies & TV', 'Movies']]   \n",
       "2  0000695009  {'Movies & TV': 1022732}  [['Movies & TV', 'Movies']]   \n",
       "3  000107461X   {'Movies & TV': 954116}  [['Movies & TV', 'Movies']]   \n",
       "4  0000143529   {'Movies & TV': 463562}  [['Movies & TV', 'Movies']]   \n",
       "\n",
       "                                         description  \\\n",
       "0  3Pack DVD set - Italian Classics, Parties and ...   \n",
       "1                                                NaN   \n",
       "2                                                NaN   \n",
       "3                                                NaN   \n",
       "4  Disc 1: Flour Power (Scones; Shortcakes; South...   \n",
       "\n",
       "                                               title  \\\n",
       "0  Everyday Italian (with Giada de Laurentiis), V...   \n",
       "1  Why Don't They Just Quit? DVD Roundtable Discu...   \n",
       "2            Understanding Seizures and Epilepsy DVD   \n",
       "3                              Live in Houston [VHS]   \n",
       "4                  My Fair Pastry (Good Eats Vol. 9)   \n",
       "\n",
       "                                             related  price  \\\n",
       "0  {'buy_after_viewing': ['B0036FO6SI', 'B000KL8O...  12.99   \n",
       "1  {'buy_after_viewing': ['B003AC98V2', 'B007VI5A...  15.95   \n",
       "2                                                NaN    NaN   \n",
       "3                                                NaN    NaN   \n",
       "4  {'buy_after_viewing': ['B0018Y5NVI', 'B003RLLS...  19.99   \n",
       "\n",
       "                                               imUrl brand  \n",
       "0  http://g-ecx.images-amazon.com/images/G/01/x-s...   NaN  \n",
       "1  http://ecx.images-amazon.com/images/I/519%2B1k...   NaN  \n",
       "2  http://g-ecx.images-amazon.com/images/G/01/x-s...   NaN  \n",
       "3  http://ecx.images-amazon.com/images/I/41WY47gL...   NaN  \n",
       "4  http://ecx.images-amazon.com/images/I/51QY79CD...   NaN  "
      ]
     },
     "execution_count": 2,
     "metadata": {},
     "output_type": "execute_result"
    }
   ],
   "source": [
    "df_movie_data = pd.read_csv('/home/ignacio/Datasets/Amazon/movie_meta.csv')\n",
    "df_movie_data.head()"
   ]
  },
  {
   "cell_type": "code",
   "execution_count": 10,
   "metadata": {
    "collapsed": false
   },
   "outputs": [
    {
     "data": {
      "text/plain": [
       "0    Everyday Italian (with Giada de Laurentiis), V...\n",
       "1    Why Don't They Just Quit? DVD Roundtable Discu...\n",
       "2              Understanding Seizures and Epilepsy DVD\n",
       "3                                Live in Houston [VHS]\n",
       "4                    My Fair Pastry (Good Eats Vol. 9)\n",
       "Name: title, dtype: object"
      ]
     },
     "execution_count": 10,
     "metadata": {},
     "output_type": "execute_result"
    }
   ],
   "source": [
    "amazon_titles = df_movie_data['title']\n",
    "amazon_titles = amazon_titles.dropna()\n",
    "amazon_titles.head()"
   ]
  },
  {
   "cell_type": "code",
   "execution_count": 11,
   "metadata": {
    "collapsed": false
   },
   "outputs": [
    {
     "data": {
      "text/plain": [
       "0    Everyday Italian (with Giada de Laurentiis), V...\n",
       "1    Why Don't They Just Quit? Roundtable Discussio...\n",
       "2                 Understanding Seizures and Epilepsy \n",
       "3                                     Live in Houston \n",
       "4                    My Fair Pastry (Good Eats Vol. 9)\n",
       "Name: title, dtype: object"
      ]
     },
     "execution_count": 11,
     "metadata": {},
     "output_type": "execute_result"
    }
   ],
   "source": [
    "amazon_titles = amazon_titles.str.replace(r'\\[VHS\\] ?', '')\n",
    "amazon_titles = amazon_titles.str.replace(r'DVD ?', '')\n",
    "amazon_titles =amazon_titles.str.lower()\n",
    "amazon_titles.head()"
   ]
  },
  {
   "cell_type": "code",
   "execution_count": null,
   "metadata": {
    "collapsed": true
   },
   "outputs": [],
   "source": []
  },
  {
   "cell_type": "code",
   "execution_count": 12,
   "metadata": {
    "collapsed": false
   },
   "outputs": [
    {
     "data": {
      "text/plain": [
       "{}"
      ]
     },
     "execution_count": 12,
     "metadata": {},
     "output_type": "execute_result"
    }
   ],
   "source": [
    "amazon_titles[amazon_titles.str.contains('casino')].to_dict()"
   ]
  },
  {
   "cell_type": "code",
   "execution_count": null,
   "metadata": {
    "collapsed": false
   },
   "outputs": [],
   "source": [
    "df_ml_movies = pd.read_csv('/home/ignacio/Datasets/Graph analysis/ml-valid-movies.csv')\n",
    "df_ml_movies.head()"
   ]
  },
  {
   "cell_type": "code",
   "execution_count": null,
   "metadata": {
    "collapsed": false
   },
   "outputs": [],
   "source": [
    "ml_titles = df_ml_movies['title']\n",
    "ml_titles = ml_titles.str.lower()\n",
    "ml_titles.head()"
   ]
  },
  {
   "cell_type": "code",
   "execution_count": null,
   "metadata": {
    "collapsed": true
   },
   "outputs": [],
   "source": [
    "import re\n",
    "\n",
    "def exist_in_ml(x, amazon_titles):\n",
    "    #print(x)\n",
    "    pattern = re.compile('^' + x + '$')\n",
    "    result = amazon_titles[amazon_titles.str.contains(pattern)]\n",
    "    return result.to_dict()"
   ]
  },
  {
   "cell_type": "code",
   "execution_count": null,
   "metadata": {
    "collapsed": false
   },
   "outputs": [],
   "source": [
    "intersect_movies = ml_titles.apply(exist_in_ml, amazon_titles=amazon_titles)\n",
    "intersect_movies.head()"
   ]
  },
  {
   "cell_type": "code",
   "execution_count": null,
   "metadata": {
    "collapsed": false
   },
   "outputs": [],
   "source": [
    "list(intersect_movies[0].keys())"
   ]
  },
  {
   "cell_type": "code",
   "execution_count": null,
   "metadata": {
    "collapsed": false
   },
   "outputs": [],
   "source": [
    "intersect_keys = intersect_movies.apply(lambda x : list(x.keys()) )\n",
    "intersect_keys.head()"
   ]
  },
  {
   "cell_type": "code",
   "execution_count": null,
   "metadata": {
    "collapsed": false
   },
   "outputs": [],
   "source": [
    "idx = intersect_keys.values\n",
    "idx_list = [x for index in idx for x in index]"
   ]
  },
  {
   "cell_type": "code",
   "execution_count": null,
   "metadata": {
    "collapsed": false
   },
   "outputs": [],
   "source": [
    "idx_serie = pd.Series(idx_list, name='idx')\n",
    "idx_serie.head()"
   ]
  },
  {
   "cell_type": "code",
   "execution_count": null,
   "metadata": {
    "collapsed": true
   },
   "outputs": [],
   "source": [
    "idx_serie=idx_serie.drop_duplicates()"
   ]
  },
  {
   "cell_type": "code",
   "execution_count": null,
   "metadata": {
    "collapsed": false
   },
   "outputs": [],
   "source": [
    "df_moves_valid = df_movie_data.iloc[idx_serie]\n",
    "df_moves_valid.head()"
   ]
  },
  {
   "cell_type": "code",
   "execution_count": null,
   "metadata": {
    "collapsed": true
   },
   "outputs": [],
   "source": [
    "df_moves_valid.to_csv('/home/ignacio/Datasets/Amazon/movie_meta_valid.csv', index=False)"
   ]
  },
  {
   "cell_type": "markdown",
   "metadata": {
    "collapsed": true
   },
   "source": [
    "#### movies intersection"
   ]
  },
  {
   "cell_type": "code",
   "execution_count": null,
   "metadata": {
    "collapsed": false
   },
   "outputs": [],
   "source": [
    "df_movies_valid = pd.read_csv('/home/ignacio/Datasets/Amazon/movie_meta_valid.csv')\n",
    "df_movies_valid.head()"
   ]
  },
  {
   "cell_type": "code",
   "execution_count": null,
   "metadata": {
    "collapsed": false
   },
   "outputs": [],
   "source": [
    "len(df_movies_valid)"
   ]
  },
  {
   "cell_type": "code",
   "execution_count": null,
   "metadata": {
    "collapsed": true
   },
   "outputs": [],
   "source": []
  },
  {
   "cell_type": "markdown",
   "metadata": {},
   "source": [
    "#### Movie ratings valid"
   ]
  },
  {
   "cell_type": "code",
   "execution_count": null,
   "metadata": {
    "collapsed": false
   },
   "outputs": [],
   "source": [
    "df_movie_rating = pd.read_csv('/home/ignacio/Datasets/Amazon/ratings_Movies_and_TV.csv', header=None, names=['reviewerID', 'asin', 'rating', 'reviewTime'])\n",
    "df_movie_rating.head()"
   ]
  },
  {
   "cell_type": "code",
   "execution_count": null,
   "metadata": {
    "collapsed": false
   },
   "outputs": [],
   "source": [
    "len(df_movie_rating)"
   ]
  },
  {
   "cell_type": "code",
   "execution_count": null,
   "metadata": {
    "collapsed": false
   },
   "outputs": [],
   "source": [
    "df_movie_rating_valid = df_movie_rating[df_movie_rating['asin'].isin(df_movies_valid['asin'])]\n",
    "df_movie_rating_valid.head()"
   ]
  },
  {
   "cell_type": "code",
   "execution_count": null,
   "metadata": {
    "collapsed": false
   },
   "outputs": [],
   "source": [
    "len(df_movie_rating_valid)"
   ]
  },
  {
   "cell_type": "code",
   "execution_count": null,
   "metadata": {
    "collapsed": true
   },
   "outputs": [],
   "source": [
    "df_movie_rating_valid.to_csv('/home/ignacio/Datasets/Amazon/ratings_movies_valid.csv', index=False)"
   ]
  },
  {
   "cell_type": "code",
   "execution_count": null,
   "metadata": {
    "collapsed": true
   },
   "outputs": [],
   "source": []
  },
  {
   "cell_type": "markdown",
   "metadata": {},
   "source": [
    "## Amazon Book data"
   ]
  },
  {
   "cell_type": "markdown",
   "metadata": {},
   "source": [
    "#### Save json.gz as csv"
   ]
  },
  {
   "cell_type": "code",
   "execution_count": null,
   "metadata": {
    "collapsed": false
   },
   "outputs": [],
   "source": [
    "df_book_data = getDF(path='/home/ignacio/Datasets/Amazon/meta_Books.json.gz')\n",
    "df_book_data.head()"
   ]
  },
  {
   "cell_type": "code",
   "execution_count": null,
   "metadata": {
    "collapsed": false
   },
   "outputs": [],
   "source": [
    "len(df_book_data)"
   ]
  },
  {
   "cell_type": "code",
   "execution_count": null,
   "metadata": {
    "collapsed": true
   },
   "outputs": [],
   "source": [
    "df_book_data.to_csv('/home/ignacio/Datasets/Amazon/book_meta.csv', index=False)"
   ]
  },
  {
   "cell_type": "markdown",
   "metadata": {},
   "source": [
    "### Clean data: intersect with goodreads books"
   ]
  },
  {
   "cell_type": "code",
   "execution_count": null,
   "metadata": {
    "collapsed": false
   },
   "outputs": [],
   "source": [
    "df_book_data = pd.read_csv('/home/ignacio/Datasets/Amazon/book_meta.csv')\n",
    "df_book_data.head()"
   ]
  },
  {
   "cell_type": "code",
   "execution_count": null,
   "metadata": {
    "collapsed": false
   },
   "outputs": [],
   "source": [
    "df_book_valid = pd.read_csv('/home/ignacio/Datasets/Graph analysis/bx-valid-book.csv')\n",
    "df_book_valid.head()"
   ]
  },
  {
   "cell_type": "code",
   "execution_count": null,
   "metadata": {
    "collapsed": false
   },
   "outputs": [],
   "source": [
    "amazon_book_title = df_book_data['title']\n",
    "amazon_book_title = amazon_book_title.dropna()\n",
    "amazon_book_title = amazon_book_title.str.lower()\n",
    "amazon_book_title = amazon_book_title.str.replace(r'[\\]\\(\\)\\\\\\'\\\":;]', '')\n",
    "amazon_book_title = amazon_book_title.str.replace(r'\\[', ' ')\n",
    "amazon_book_title = amazon_book_title.drop_duplicates()\n",
    "amazon_book_title.head()"
   ]
  },
  {
   "cell_type": "code",
   "execution_count": null,
   "metadata": {
    "collapsed": false
   },
   "outputs": [],
   "source": [
    "len(amazon_book_title)"
   ]
  },
  {
   "cell_type": "code",
   "execution_count": null,
   "metadata": {
    "collapsed": false
   },
   "outputs": [],
   "source": [
    "bx_book_title = df_book_valid['Book-Title']\n",
    "bx_book_title = bx_book_title.dropna()\n",
    "bx_book_title = bx_book_title.str.lower()\n",
    "bx_book_title = bx_book_title.str.replace(r'[\\(\\)\\\\\\'\\\":;]', '')\n",
    "bx_book_title = bx_book_title.drop([11911])\n",
    "bx_book_title = bx_book_title.drop_duplicates()\n",
    "bx_book_title.head()"
   ]
  },
  {
   "cell_type": "code",
   "execution_count": null,
   "metadata": {
    "collapsed": false
   },
   "outputs": [],
   "source": [
    "len(bx_book_title)"
   ]
  },
  {
   "cell_type": "code",
   "execution_count": null,
   "metadata": {
    "collapsed": false
   },
   "outputs": [],
   "source": [
    "frame = 2000\n",
    "max_frames = math.floor(len(bx_book_title)/frame)\n",
    "max_frames"
   ]
  },
  {
   "cell_type": "code",
   "execution_count": null,
   "metadata": {
    "collapsed": false
   },
   "outputs": [],
   "source": [
    "for i in np.arange(5, max_frames):\n",
    "    s_aux = bx_book_title[ i*frame:(i+1)*frame ].copy()\n",
    "    intersect_book = s_aux.apply(exist_in_ml, amazon_titles=amazon_book_title)\n",
    "    intersect_book.to_csv('/home/ignacio/Datasets/Graph analysis/intersect-book'+ str(i) +'.csv', index=False)\n",
    "    print('Iteration: '+ str(i))\n",
    "\n",
    "if len(bx_book_title) % frame != 0:\n",
    "    s_aux = bx_book_title[ max_frames*frame:len(bx_book_title) ].copy()\n",
    "    intersect_book = s_aux.apply(exist_in_ml, amazon_titles=amazon_book_title)\n",
    "    intersect_book.to_csv('/home/ignacio/Datasets/Graph analysis/intersect-book'+ str(max_frames) +'.csv', index=False)"
   ]
  },
  {
   "cell_type": "code",
   "execution_count": null,
   "metadata": {
    "collapsed": false
   },
   "outputs": [],
   "source": [
    "df_book_intersection = pd.read_csv('/home/ignacio/Datasets/Amazon/Book selection/intersect-book0.csv', header=None, names=['titles'])\n",
    "df_book_intersection.head()"
   ]
  },
  {
   "cell_type": "code",
   "execution_count": null,
   "metadata": {
    "collapsed": false
   },
   "outputs": [],
   "source": [
    "for i in np.arange(1, 11):\n",
    "    df_aux = pd.read_csv('/home/ignacio/Datasets/Amazon/Book selection/intersect-book'+str(i)+'.csv', header=None, names=['titles'])\n",
    "    df_book_intersection = pd.concat([df_book_intersection, df_aux])\n",
    "len(df_book_intersection)"
   ]
  },
  {
   "cell_type": "code",
   "execution_count": null,
   "metadata": {
    "collapsed": false
   },
   "outputs": [],
   "source": [
    "book_intersection = df_book_intersection['titles']\n",
    "book_intersection = book_intersection.str.replace(r'[\\{\\}]', '')\n",
    "book_intersection = book_intersection[book_intersection != '']\n",
    "book_intersection.head()"
   ]
  },
  {
   "cell_type": "code",
   "execution_count": null,
   "metadata": {
    "collapsed": false
   },
   "outputs": [],
   "source": [
    "len(book_intersection)"
   ]
  },
  {
   "cell_type": "code",
   "execution_count": null,
   "metadata": {
    "collapsed": true
   },
   "outputs": [],
   "source": [
    "book_intersection.to_csv('/home/ignacio/Datasets/Amazon/Book selection/book-intersect.csv', index=False)"
   ]
  },
  {
   "cell_type": "code",
   "execution_count": null,
   "metadata": {
    "collapsed": false
   },
   "outputs": [],
   "source": [
    "index_intersection = book_intersection.str.extract(r'(?P<index>\\d+):')\n",
    "index_intersection.head()"
   ]
  },
  {
   "cell_type": "code",
   "execution_count": null,
   "metadata": {
    "collapsed": false
   },
   "outputs": [],
   "source": [
    "index_intersection = index_intersection.apply(lambda x: int(x))"
   ]
  },
  {
   "cell_type": "code",
   "execution_count": null,
   "metadata": {
    "collapsed": false
   },
   "outputs": [],
   "source": [
    "df_book_intersection = df_book_data.iloc[index_intersection]\n",
    "df_book_intersection.head()"
   ]
  },
  {
   "cell_type": "code",
   "execution_count": null,
   "metadata": {
    "collapsed": true
   },
   "outputs": [],
   "source": [
    "df_book_intersection.to_csv('/home/ignacio/Datasets/Amazon/book-meta-valid.csv', index=False)"
   ]
  },
  {
   "cell_type": "markdown",
   "metadata": {},
   "source": [
    "#### Book meta valid"
   ]
  },
  {
   "cell_type": "code",
   "execution_count": null,
   "metadata": {
    "collapsed": false
   },
   "outputs": [],
   "source": [
    "book_meta_valid = pd.read_csv('/home/ignacio/Datasets/Amazon/book-meta-valid.csv')\n",
    "book_meta_valid.head()"
   ]
  },
  {
   "cell_type": "markdown",
   "metadata": {},
   "source": [
    "#### Book ratings valid"
   ]
  },
  {
   "cell_type": "code",
   "execution_count": null,
   "metadata": {
    "collapsed": false
   },
   "outputs": [],
   "source": [
    "book_ratings = pd.read_csv('/home/ignacio/Datasets/Amazon/ratings_Books.csv', header=None, names=['reviewerID', 'asin', 'rating', 'reviewTime'])\n",
    "book_ratings.head()"
   ]
  },
  {
   "cell_type": "code",
   "execution_count": null,
   "metadata": {
    "collapsed": false
   },
   "outputs": [],
   "source": [
    "df_books_ratings_valid = book_ratings[book_ratings['asin'].isin(book_meta_valid['asin'])]\n",
    "df_books_ratings_valid.head()"
   ]
  },
  {
   "cell_type": "code",
   "execution_count": null,
   "metadata": {
    "collapsed": false
   },
   "outputs": [],
   "source": [
    "len(df_books_ratings_valid)"
   ]
  },
  {
   "cell_type": "code",
   "execution_count": null,
   "metadata": {
    "collapsed": true
   },
   "outputs": [],
   "source": [
    "df_books_ratings_valid.to_csv('/home/ignacio/Datasets/Amazon/ratings_book_valid.csv', index=False)"
   ]
  },
  {
   "cell_type": "markdown",
   "metadata": {},
   "source": [
    "### Users in books and movie ratings "
   ]
  },
  {
   "cell_type": "code",
   "execution_count": null,
   "metadata": {
    "collapsed": false
   },
   "outputs": [],
   "source": [
    "df_movie_ratings = pd.read_csv('/home/ignacio/Datasets/Amazon/ratings_movies_valid.csv')\n",
    "df_movie_ratings.head()"
   ]
  },
  {
   "cell_type": "code",
   "execution_count": null,
   "metadata": {
    "collapsed": false
   },
   "outputs": [],
   "source": [
    "len(df_movie_ratings)"
   ]
  },
  {
   "cell_type": "code",
   "execution_count": null,
   "metadata": {
    "collapsed": false
   },
   "outputs": [],
   "source": [
    "df_book_ratings = pd.read_csv('/home/ignacio/Datasets/Amazon/ratings_book_valid.csv')\n",
    "df_book_ratings.head()"
   ]
  },
  {
   "cell_type": "code",
   "execution_count": null,
   "metadata": {
    "collapsed": false
   },
   "outputs": [],
   "source": [
    "len(df_book_ratings)"
   ]
  },
  {
   "cell_type": "code",
   "execution_count": null,
   "metadata": {
    "collapsed": false
   },
   "outputs": [],
   "source": [
    "users_movie = df_movie_ratings['reviewerID']\n",
    "users_movie = users_movie.drop_duplicates()\n",
    "users_movie.head()"
   ]
  },
  {
   "cell_type": "code",
   "execution_count": null,
   "metadata": {
    "collapsed": false
   },
   "outputs": [],
   "source": [
    "users_book = df_book_ratings['reviewerID']\n",
    "users_book = users_book.drop_duplicates()\n",
    "users_book.head()"
   ]
  },
  {
   "cell_type": "code",
   "execution_count": null,
   "metadata": {
    "collapsed": false
   },
   "outputs": [],
   "source": [
    "len(users_book)"
   ]
  },
  {
   "cell_type": "code",
   "execution_count": null,
   "metadata": {
    "collapsed": false
   },
   "outputs": [],
   "source": [
    "users_intersect = users_movie[users_movie.isin(users_book)]\n",
    "users_intersect.head()"
   ]
  },
  {
   "cell_type": "code",
   "execution_count": null,
   "metadata": {
    "collapsed": false
   },
   "outputs": [],
   "source": [
    "len(users_intersect)"
   ]
  },
  {
   "cell_type": "markdown",
   "metadata": {},
   "source": [
    "#### Movie ratings common users"
   ]
  },
  {
   "cell_type": "code",
   "execution_count": null,
   "metadata": {
    "collapsed": false
   },
   "outputs": [],
   "source": [
    "df_movie_ratings_intersect = df_movie_ratings[df_movie_ratings['reviewerID'].isin(users_intersect)]\n",
    "df_movie_ratings_intersect.head()"
   ]
  },
  {
   "cell_type": "code",
   "execution_count": null,
   "metadata": {
    "collapsed": false
   },
   "outputs": [],
   "source": [
    "df_movie_ratings_intersect.to_csv('/home/ignacio/Datasets/Amazon/Data cleaned/ratings_movie_intersect.csv', index=False)"
   ]
  },
  {
   "cell_type": "markdown",
   "metadata": {},
   "source": [
    "#### Book ratings common users"
   ]
  },
  {
   "cell_type": "code",
   "execution_count": null,
   "metadata": {
    "collapsed": false
   },
   "outputs": [],
   "source": [
    "df_book_ratings_intersect = df_book_ratings[df_book_ratings['reviewerID'].isin(users_intersect)]\n",
    "df_book_ratings_intersect.head()"
   ]
  },
  {
   "cell_type": "code",
   "execution_count": null,
   "metadata": {
    "collapsed": false
   },
   "outputs": [],
   "source": [
    "df_book_ratings_intersect.to_csv('/home/ignacio/Datasets/Amazon/Data cleaned/ratings_book_intersect.csv', index=False)"
   ]
  }
 ],
 "metadata": {
  "kernelspec": {
   "display_name": "Python 3",
   "language": "python",
   "name": "python3"
  },
  "language_info": {
   "codemirror_mode": {
    "name": "ipython",
    "version": 3
   },
   "file_extension": ".py",
   "mimetype": "text/x-python",
   "name": "python",
   "nbconvert_exporter": "python",
   "pygments_lexer": "ipython3",
   "version": "3.5.2"
  }
 },
 "nbformat": 4,
 "nbformat_minor": 2
}
