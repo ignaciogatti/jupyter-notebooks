{
 "cells": [
  {
   "cell_type": "markdown",
   "metadata": {},
   "source": [
    "## MAE/MSE metrics"
   ]
  },
  {
   "cell_type": "markdown",
   "metadata": {},
   "source": [
    "### Book to origen space"
   ]
  },
  {
   "cell_type": "code",
   "execution_count": 2,
   "metadata": {
    "collapsed": true
   },
   "outputs": [],
   "source": [
    "import pandas as pd\n",
    "import numpy as np\n",
    "from sklearn.metrics import mean_absolute_error, mean_squared_error"
   ]
  },
  {
   "cell_type": "code",
   "execution_count": 7,
   "metadata": {
    "collapsed": false
   },
   "outputs": [
    {
     "data": {
      "text/html": [
       "<div>\n",
       "<style>\n",
       "    .dataframe thead tr:only-child th {\n",
       "        text-align: right;\n",
       "    }\n",
       "\n",
       "    .dataframe thead th {\n",
       "        text-align: left;\n",
       "    }\n",
       "\n",
       "    .dataframe tbody tr th {\n",
       "        vertical-align: top;\n",
       "    }\n",
       "</style>\n",
       "<table border=\"1\" class=\"dataframe\">\n",
       "  <thead>\n",
       "    <tr style=\"text-align: right;\">\n",
       "      <th></th>\n",
       "      <th>ISBN</th>\n",
       "      <th>Book-Title</th>\n",
       "      <th>Book-Author</th>\n",
       "      <th>common-shelves</th>\n",
       "      <th>similarity</th>\n",
       "      <th>rating</th>\n",
       "    </tr>\n",
       "  </thead>\n",
       "  <tbody>\n",
       "    <tr>\n",
       "      <th>0</th>\n",
       "      <td>8433914871</td>\n",
       "      <td>Pulp</td>\n",
       "      <td>Charles Bukowski</td>\n",
       "      <td>mystery-thriller|crime-noir|sci-fi|crime-ficti...</td>\n",
       "      <td>0.494541</td>\n",
       "      <td>3.898848</td>\n",
       "    </tr>\n",
       "    <tr>\n",
       "      <th>1</th>\n",
       "      <td>0679756450</td>\n",
       "      <td>Portnoy's Complaint</td>\n",
       "      <td>Philip Roth</td>\n",
       "      <td>comedy</td>\n",
       "      <td>0.494541</td>\n",
       "      <td>3.918848</td>\n",
       "    </tr>\n",
       "    <tr>\n",
       "      <th>2</th>\n",
       "      <td>0140180923</td>\n",
       "      <td>Lord Jim (Penguin Classics)</td>\n",
       "      <td>Joseph Conrad</td>\n",
       "      <td>adventure</td>\n",
       "      <td>0.494541</td>\n",
       "      <td>3.828848</td>\n",
       "    </tr>\n",
       "    <tr>\n",
       "      <th>3</th>\n",
       "      <td>0140180923</td>\n",
       "      <td>Lord Jim</td>\n",
       "      <td>Joseph Conrad</td>\n",
       "      <td>adventure|romance|mystery-and-suspense|mystery</td>\n",
       "      <td>0.494541</td>\n",
       "      <td>3.828848</td>\n",
       "    </tr>\n",
       "    <tr>\n",
       "      <th>4</th>\n",
       "      <td>0553279300</td>\n",
       "      <td>Being There</td>\n",
       "      <td>Jerzy Kosinski</td>\n",
       "      <td>fantasy|comedy|drama</td>\n",
       "      <td>0.494541</td>\n",
       "      <td>4.078848</td>\n",
       "    </tr>\n",
       "  </tbody>\n",
       "</table>\n",
       "</div>"
      ],
      "text/plain": [
       "         ISBN                   Book-Title       Book-Author  \\\n",
       "0  8433914871                         Pulp  Charles Bukowski   \n",
       "1  0679756450          Portnoy's Complaint       Philip Roth   \n",
       "2  0140180923  Lord Jim (Penguin Classics)     Joseph Conrad   \n",
       "3  0140180923                     Lord Jim     Joseph Conrad   \n",
       "4  0553279300                  Being There    Jerzy Kosinski   \n",
       "\n",
       "                                      common-shelves  similarity    rating  \n",
       "0  mystery-thriller|crime-noir|sci-fi|crime-ficti...    0.494541  3.898848  \n",
       "1                                             comedy    0.494541  3.918848  \n",
       "2                                          adventure    0.494541  3.828848  \n",
       "3     adventure|romance|mystery-and-suspense|mystery    0.494541  3.828848  \n",
       "4                               fantasy|comedy|drama    0.494541  4.078848  "
      ]
     },
     "execution_count": 7,
     "metadata": {},
     "output_type": "execute_result"
    }
   ],
   "source": [
    "df_prediction = pd.read_csv('/home/ignacio/Datasets/Amazon/Data cleaned/Recommendation/recommendation_book_to_origen_space.csv', index_col=0)\n",
    "df_prediction = df_prediction.reset_index(drop=True)\n",
    "df_prediction.head()"
   ]
  },
  {
   "cell_type": "code",
   "execution_count": 5,
   "metadata": {
    "collapsed": false
   },
   "outputs": [
    {
     "data": {
      "text/html": [
       "<div>\n",
       "<style>\n",
       "    .dataframe thead tr:only-child th {\n",
       "        text-align: right;\n",
       "    }\n",
       "\n",
       "    .dataframe thead th {\n",
       "        text-align: left;\n",
       "    }\n",
       "\n",
       "    .dataframe tbody tr th {\n",
       "        vertical-align: top;\n",
       "    }\n",
       "</style>\n",
       "<table border=\"1\" class=\"dataframe\">\n",
       "  <thead>\n",
       "    <tr style=\"text-align: right;\">\n",
       "      <th></th>\n",
       "      <th>userId</th>\n",
       "      <th>asin</th>\n",
       "      <th>rating</th>\n",
       "      <th>reviewTime</th>\n",
       "      <th>ISBN</th>\n",
       "    </tr>\n",
       "  </thead>\n",
       "  <tbody>\n",
       "    <tr>\n",
       "      <th>0</th>\n",
       "      <td>AGEIT17HENDIS</td>\n",
       "      <td>0002051850</td>\n",
       "      <td>4.0</td>\n",
       "      <td>1148860800</td>\n",
       "      <td>0684803356</td>\n",
       "    </tr>\n",
       "    <tr>\n",
       "      <th>1</th>\n",
       "      <td>AHCVWPLA1O4X8</td>\n",
       "      <td>0002051850</td>\n",
       "      <td>5.0</td>\n",
       "      <td>1059696000</td>\n",
       "      <td>0684803356</td>\n",
       "    </tr>\n",
       "    <tr>\n",
       "      <th>2</th>\n",
       "      <td>A4BNZ1OSBO77S</td>\n",
       "      <td>0002051850</td>\n",
       "      <td>5.0</td>\n",
       "      <td>1059350400</td>\n",
       "      <td>0684803356</td>\n",
       "    </tr>\n",
       "    <tr>\n",
       "      <th>3</th>\n",
       "      <td>A4X7FBQ5SKPI6</td>\n",
       "      <td>0002051850</td>\n",
       "      <td>5.0</td>\n",
       "      <td>1186185600</td>\n",
       "      <td>0684803356</td>\n",
       "    </tr>\n",
       "    <tr>\n",
       "      <th>4</th>\n",
       "      <td>AI37YX1U4KB1L</td>\n",
       "      <td>0002051850</td>\n",
       "      <td>5.0</td>\n",
       "      <td>1046822400</td>\n",
       "      <td>0684803356</td>\n",
       "    </tr>\n",
       "  </tbody>\n",
       "</table>\n",
       "</div>"
      ],
      "text/plain": [
       "          userId        asin  rating  reviewTime        ISBN\n",
       "0  AGEIT17HENDIS  0002051850     4.0  1148860800  0684803356\n",
       "1  AHCVWPLA1O4X8  0002051850     5.0  1059696000  0684803356\n",
       "2  A4BNZ1OSBO77S  0002051850     5.0  1059350400  0684803356\n",
       "3  A4X7FBQ5SKPI6  0002051850     5.0  1186185600  0684803356\n",
       "4  AI37YX1U4KB1L  0002051850     5.0  1046822400  0684803356"
      ]
     },
     "execution_count": 5,
     "metadata": {},
     "output_type": "execute_result"
    }
   ],
   "source": [
    "df_book_ratings = pd.read_csv('/home/ignacio/Datasets/Amazon/Data cleaned/ratings_book_intersect_greater_1.csv')\n",
    "df_book_ratings.head()"
   ]
  },
  {
   "cell_type": "code",
   "execution_count": 15,
   "metadata": {
    "collapsed": false
   },
   "outputs": [
    {
     "data": {
      "text/plain": [
       "56"
      ]
     },
     "execution_count": 15,
     "metadata": {},
     "output_type": "execute_result"
    }
   ],
   "source": [
    "df_ratings = df_book_ratings[df_book_ratings['userId'] == 'AGEIT17HENDIS']\n",
    "len(df_ratings)"
   ]
  },
  {
   "cell_type": "code",
   "execution_count": 16,
   "metadata": {
    "collapsed": false
   },
   "outputs": [
    {
     "data": {
      "text/plain": [
       "55"
      ]
     },
     "execution_count": 16,
     "metadata": {},
     "output_type": "execute_result"
    }
   ],
   "source": [
    "df_ratings_join = pd.merge(df_ratings, df_prediction[['ISBN', 'rating']], how='left', left_on='ISBN', right_on='ISBN')\n",
    "df_ratings_join = df_ratings_join.dropna()\n",
    "len(df_ratings_join)"
   ]
  },
  {
   "cell_type": "code",
   "execution_count": 17,
   "metadata": {
    "collapsed": false
   },
   "outputs": [
    {
     "data": {
      "text/plain": [
       "0.4459629827060741"
      ]
     },
     "execution_count": 17,
     "metadata": {},
     "output_type": "execute_result"
    }
   ],
   "source": [
    "mean_absolute_error(y_true=df_ratings_join['rating_x'], y_pred=df_ratings_join['rating_y'])"
   ]
  },
  {
   "cell_type": "code",
   "execution_count": 18,
   "metadata": {
    "collapsed": false
   },
   "outputs": [
    {
     "data": {
      "text/plain": [
       "0.29246911412945165"
      ]
     },
     "execution_count": 18,
     "metadata": {},
     "output_type": "execute_result"
    }
   ],
   "source": [
    "mean_squared_error(y_true=df_ratings_join['rating_x'], y_pred=df_ratings_join['rating_y'])"
   ]
  },
  {
   "cell_type": "markdown",
   "metadata": {},
   "source": [
    "### User to target space"
   ]
  },
  {
   "cell_type": "code",
   "execution_count": 19,
   "metadata": {
    "collapsed": false
   },
   "outputs": [
    {
     "data": {
      "text/html": [
       "<div>\n",
       "<style>\n",
       "    .dataframe thead tr:only-child th {\n",
       "        text-align: right;\n",
       "    }\n",
       "\n",
       "    .dataframe thead th {\n",
       "        text-align: left;\n",
       "    }\n",
       "\n",
       "    .dataframe tbody tr th {\n",
       "        vertical-align: top;\n",
       "    }\n",
       "</style>\n",
       "<table border=\"1\" class=\"dataframe\">\n",
       "  <thead>\n",
       "    <tr style=\"text-align: right;\">\n",
       "      <th></th>\n",
       "      <th>ISBN</th>\n",
       "      <th>Book-Title</th>\n",
       "      <th>Book-Author</th>\n",
       "      <th>common-shelves</th>\n",
       "      <th>similarity</th>\n",
       "      <th>rating</th>\n",
       "    </tr>\n",
       "  </thead>\n",
       "  <tbody>\n",
       "    <tr>\n",
       "      <th>0</th>\n",
       "      <td>1562827049</td>\n",
       "      <td>Ripper</td>\n",
       "      <td>Jack</td>\n",
       "      <td>true-crime-jack-the-ripper|historical-true-cri...</td>\n",
       "      <td>0.076934</td>\n",
       "      <td>3.401241</td>\n",
       "    </tr>\n",
       "    <tr>\n",
       "      <th>1</th>\n",
       "      <td>044651716X</td>\n",
       "      <td>30 Seconds</td>\n",
       "      <td>Sam</td>\n",
       "      <td>adventure|mystery-suspense</td>\n",
       "      <td>0.069824</td>\n",
       "      <td>2.504130</td>\n",
       "    </tr>\n",
       "    <tr>\n",
       "      <th>2</th>\n",
       "      <td>0804111618</td>\n",
       "      <td>Chicago Loop</td>\n",
       "      <td>Paul Theroux</td>\n",
       "      <td>action-thrillers|thriller|horror|mystery|actio...</td>\n",
       "      <td>0.064038</td>\n",
       "      <td>2.708345</td>\n",
       "    </tr>\n",
       "    <tr>\n",
       "      <th>3</th>\n",
       "      <td>0393318680</td>\n",
       "      <td>Filth</td>\n",
       "      <td>Irvine Welsh</td>\n",
       "      <td>black-comedy|crime-fiction|comedy|thriller|cri...</td>\n",
       "      <td>0.063691</td>\n",
       "      <td>3.557998</td>\n",
       "    </tr>\n",
       "    <tr>\n",
       "      <th>4</th>\n",
       "      <td>0425184129</td>\n",
       "      <td>Big Trouble</td>\n",
       "      <td>Dave Barry</td>\n",
       "      <td>action-adventure|adventure|romance|comedy|thri...</td>\n",
       "      <td>0.062960</td>\n",
       "      <td>3.597267</td>\n",
       "    </tr>\n",
       "  </tbody>\n",
       "</table>\n",
       "</div>"
      ],
      "text/plain": [
       "         ISBN    Book-Title   Book-Author  \\\n",
       "0  1562827049        Ripper          Jack   \n",
       "1  044651716X    30 Seconds           Sam   \n",
       "2  0804111618  Chicago Loop  Paul Theroux   \n",
       "3  0393318680         Filth  Irvine Welsh   \n",
       "4  0425184129   Big Trouble    Dave Barry   \n",
       "\n",
       "                                      common-shelves  similarity    rating  \n",
       "0  true-crime-jack-the-ripper|historical-true-cri...    0.076934  3.401241  \n",
       "1                         adventure|mystery-suspense    0.069824  2.504130  \n",
       "2  action-thrillers|thriller|horror|mystery|actio...    0.064038  2.708345  \n",
       "3  black-comedy|crime-fiction|comedy|thriller|cri...    0.063691  3.557998  \n",
       "4  action-adventure|adventure|romance|comedy|thri...    0.062960  3.597267  "
      ]
     },
     "execution_count": 19,
     "metadata": {},
     "output_type": "execute_result"
    }
   ],
   "source": [
    "df_prediction_u = pd.read_csv('/home/ignacio/Datasets/Amazon/Data cleaned/Recommendation/recommendation_user_to_target_space.csv', index_col=0)\n",
    "df_prediction_u = df_prediction_u.reset_index(drop=True)\n",
    "df_prediction_u.head()"
   ]
  },
  {
   "cell_type": "code",
   "execution_count": 21,
   "metadata": {
    "collapsed": false
   },
   "outputs": [
    {
     "data": {
      "text/html": [
       "<div>\n",
       "<style>\n",
       "    .dataframe thead tr:only-child th {\n",
       "        text-align: right;\n",
       "    }\n",
       "\n",
       "    .dataframe thead th {\n",
       "        text-align: left;\n",
       "    }\n",
       "\n",
       "    .dataframe tbody tr th {\n",
       "        vertical-align: top;\n",
       "    }\n",
       "</style>\n",
       "<table border=\"1\" class=\"dataframe\">\n",
       "  <thead>\n",
       "    <tr style=\"text-align: right;\">\n",
       "      <th></th>\n",
       "      <th>userId</th>\n",
       "      <th>asin</th>\n",
       "      <th>rating</th>\n",
       "      <th>reviewTime</th>\n",
       "      <th>ISBN</th>\n",
       "    </tr>\n",
       "  </thead>\n",
       "  <tbody>\n",
       "    <tr>\n",
       "      <th>0</th>\n",
       "      <td>AGEIT17HENDIS</td>\n",
       "      <td>0002051850</td>\n",
       "      <td>4.0</td>\n",
       "      <td>1148860800</td>\n",
       "      <td>0684803356</td>\n",
       "    </tr>\n",
       "    <tr>\n",
       "      <th>1</th>\n",
       "      <td>AHCVWPLA1O4X8</td>\n",
       "      <td>0002051850</td>\n",
       "      <td>5.0</td>\n",
       "      <td>1059696000</td>\n",
       "      <td>0684803356</td>\n",
       "    </tr>\n",
       "    <tr>\n",
       "      <th>2</th>\n",
       "      <td>A4BNZ1OSBO77S</td>\n",
       "      <td>0002051850</td>\n",
       "      <td>5.0</td>\n",
       "      <td>1059350400</td>\n",
       "      <td>0684803356</td>\n",
       "    </tr>\n",
       "    <tr>\n",
       "      <th>3</th>\n",
       "      <td>A4X7FBQ5SKPI6</td>\n",
       "      <td>0002051850</td>\n",
       "      <td>5.0</td>\n",
       "      <td>1186185600</td>\n",
       "      <td>0684803356</td>\n",
       "    </tr>\n",
       "    <tr>\n",
       "      <th>4</th>\n",
       "      <td>AI37YX1U4KB1L</td>\n",
       "      <td>0002051850</td>\n",
       "      <td>5.0</td>\n",
       "      <td>1046822400</td>\n",
       "      <td>0684803356</td>\n",
       "    </tr>\n",
       "  </tbody>\n",
       "</table>\n",
       "</div>"
      ],
      "text/plain": [
       "          userId        asin  rating  reviewTime        ISBN\n",
       "0  AGEIT17HENDIS  0002051850     4.0  1148860800  0684803356\n",
       "1  AHCVWPLA1O4X8  0002051850     5.0  1059696000  0684803356\n",
       "2  A4BNZ1OSBO77S  0002051850     5.0  1059350400  0684803356\n",
       "3  A4X7FBQ5SKPI6  0002051850     5.0  1186185600  0684803356\n",
       "4  AI37YX1U4KB1L  0002051850     5.0  1046822400  0684803356"
      ]
     },
     "execution_count": 21,
     "metadata": {},
     "output_type": "execute_result"
    }
   ],
   "source": [
    "df_book_ratings = pd.read_csv('/home/ignacio/Datasets/Amazon/Data cleaned/ratings_book_intersect_greater_1.csv')\n",
    "df_book_ratings.head()"
   ]
  },
  {
   "cell_type": "code",
   "execution_count": 22,
   "metadata": {
    "collapsed": false
   },
   "outputs": [
    {
     "data": {
      "text/plain": [
       "65"
      ]
     },
     "execution_count": 22,
     "metadata": {},
     "output_type": "execute_result"
    }
   ],
   "source": [
    "df_ratings_join_u = pd.merge(df_ratings, df_prediction_u[['ISBN', 'rating']], how='left', left_on='ISBN', right_on='ISBN')\n",
    "df_ratings_join_u = df_ratings_join_u.dropna()\n",
    "len(df_ratings_join_u)"
   ]
  },
  {
   "cell_type": "code",
   "execution_count": 23,
   "metadata": {
    "collapsed": false
   },
   "outputs": [
    {
     "data": {
      "text/plain": [
       "0.64838584546704314"
      ]
     },
     "execution_count": 23,
     "metadata": {},
     "output_type": "execute_result"
    }
   ],
   "source": [
    "mean_absolute_error(y_true=df_ratings_join_u['rating_x'], y_pred=df_ratings_join_u['rating_y'])"
   ]
  },
  {
   "cell_type": "code",
   "execution_count": 24,
   "metadata": {
    "collapsed": false
   },
   "outputs": [
    {
     "data": {
      "text/plain": [
       "0.54179756760222608"
      ]
     },
     "execution_count": 24,
     "metadata": {},
     "output_type": "execute_result"
    }
   ],
   "source": [
    "mean_squared_error(y_true=df_ratings_join_u['rating_x'], y_pred=df_ratings_join_u['rating_y'])"
   ]
  }
 ],
 "metadata": {
  "kernelspec": {
   "display_name": "Python 3",
   "language": "python",
   "name": "python3"
  },
  "language_info": {
   "codemirror_mode": {
    "name": "ipython",
    "version": 3
   },
   "file_extension": ".py",
   "mimetype": "text/x-python",
   "name": "python",
   "nbconvert_exporter": "python",
   "pygments_lexer": "ipython3",
   "version": "3.5.2"
  }
 },
 "nbformat": 4,
 "nbformat_minor": 2
}
