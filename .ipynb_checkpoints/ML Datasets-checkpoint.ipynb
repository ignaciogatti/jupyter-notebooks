{
 "cells": [
  {
   "cell_type": "code",
   "execution_count": 1,
   "metadata": {
    "collapsed": true
   },
   "outputs": [],
   "source": [
    "import pandas as pd\n",
    "import rdflib as rdf\n",
    "from SPARQLWrapper import SPARQLWrapper, JSON\n",
    "import math\n",
    "import numpy as np"
   ]
  },
  {
   "cell_type": "code",
   "execution_count": null,
   "metadata": {
    "collapsed": false
   },
   "outputs": [],
   "source": [
    "df_ml = pd.read_csv('/home/ignacio/Datasets/ml-latest-small/ratings.csv')\n",
    "df_ml.head()"
   ]
  },
  {
   "cell_type": "code",
   "execution_count": null,
   "metadata": {
    "collapsed": true
   },
   "outputs": [],
   "source": [
    "df_ml_links = pd.read_csv('/home/ignacio/Datasets/ml-latest-small/links.csv')\n",
    "df_ml_links.head()"
   ]
  },
  {
   "cell_type": "markdown",
   "metadata": {},
   "source": [
    "## Add director link for dbpedia"
   ]
  },
  {
   "cell_type": "markdown",
   "metadata": {},
   "source": [
    "### Clean title for dbpedia"
   ]
  },
  {
   "cell_type": "code",
   "execution_count": null,
   "metadata": {
    "collapsed": false,
    "scrolled": false
   },
   "outputs": [],
   "source": [
    "df_ml_movies = pd.read_csv('/home/ignacio/Datasets/ml-latest-small/movies.csv')\n",
    "df_ml_movies.head()"
   ]
  },
  {
   "cell_type": "code",
   "execution_count": null,
   "metadata": {
    "collapsed": false
   },
   "outputs": [],
   "source": [
    "s_titles = df_ml_movies['title']\n",
    "s_titles.head()"
   ]
  },
  {
   "cell_type": "code",
   "execution_count": null,
   "metadata": {
    "collapsed": false
   },
   "outputs": [],
   "source": [
    "s_titles = s_titles.str.split(r'(').str[0]"
   ]
  },
  {
   "cell_type": "code",
   "execution_count": null,
   "metadata": {
    "collapsed": false
   },
   "outputs": [],
   "source": [
    "s_titles = s_titles.str[:-1]"
   ]
  },
  {
   "cell_type": "code",
   "execution_count": null,
   "metadata": {
    "collapsed": false
   },
   "outputs": [],
   "source": [
    "s_titles.head()"
   ]
  },
  {
   "cell_type": "code",
   "execution_count": null,
   "metadata": {
    "collapsed": false
   },
   "outputs": [],
   "source": [
    "len(s_titles)"
   ]
  },
  {
   "cell_type": "code",
   "execution_count": null,
   "metadata": {
    "collapsed": false
   },
   "outputs": [],
   "source": [
    "s_year = df_ml_movies['title'].str.extract(r'(\\d\\d\\d\\d)')\n",
    "s_year.head()"
   ]
  },
  {
   "cell_type": "code",
   "execution_count": null,
   "metadata": {
    "collapsed": false
   },
   "outputs": [],
   "source": [
    "s_year = s_year.str[:-1]\n",
    "s_year.head()"
   ]
  },
  {
   "cell_type": "code",
   "execution_count": null,
   "metadata": {
    "collapsed": false
   },
   "outputs": [],
   "source": [
    "s_titles_The = s_titles.str.findall(r'.+, The')\n",
    "s_titles_The = s_titles[s_titles_The.str.len() > 0]\n",
    "s_titles_The.head()"
   ]
  },
  {
   "cell_type": "code",
   "execution_count": null,
   "metadata": {
    "collapsed": false
   },
   "outputs": [],
   "source": [
    "s_titles_The = s_titles.str.findall(r'.+, An$')\n",
    "s_titles_The = s_titles[s_titles_The.str.len() > 0]\n",
    "s_titles_The.head()"
   ]
  },
  {
   "cell_type": "code",
   "execution_count": null,
   "metadata": {
    "collapsed": false
   },
   "outputs": [],
   "source": [
    "len(s_titles_The)"
   ]
  },
  {
   "cell_type": "code",
   "execution_count": null,
   "metadata": {
    "collapsed": false
   },
   "outputs": [],
   "source": [
    "s_titles_The = s_titles_The.str.replace(r'.+, The',lambda x: x.group(0)[-3:]+ ' ' +x.group()[:-5])\n",
    "s_titles_The.head()"
   ]
  },
  {
   "cell_type": "code",
   "execution_count": null,
   "metadata": {
    "collapsed": false
   },
   "outputs": [],
   "source": [
    "s_titles_The = s_titles_The.str.replace(r'.+, An$',lambda x: x.group(0)[-2:]+ ' ' +x.group()[:-4])\n",
    "s_titles_The = s_titles_The.str.replace(r'(\\s|,\\s)', '_')\n",
    "s_titles_The.head()"
   ]
  },
  {
   "cell_type": "code",
   "execution_count": null,
   "metadata": {
    "collapsed": true
   },
   "outputs": [],
   "source": [
    "s_titles_The = s_titles_The.str.replace(r'(\\s|,\\s)', '_')"
   ]
  },
  {
   "cell_type": "code",
   "execution_count": null,
   "metadata": {
    "collapsed": false
   },
   "outputs": [],
   "source": [
    "s_titles_The.head()"
   ]
  },
  {
   "cell_type": "code",
   "execution_count": null,
   "metadata": {
    "collapsed": false
   },
   "outputs": [],
   "source": [
    "s_titles = s_titles.str.replace(r'.+, The$',lambda x: x.group(0)[-3:]+ ' ' +x.group()[:-5])\n",
    "s_titles = s_titles.str.replace(r'.+, Les$',lambda x: x.group(0)[-3:]+ ' ' +x.group()[:-5])\n",
    "s_titles = s_titles.str.replace(r'.+, A$',lambda x: x.group(0)[-1:]+ ' ' +x.group()[:-3])\n",
    "s_titles = s_titles.str.replace(r'.+, An$',lambda x: x.group(0)[-2:]+ ' ' +x.group()[:-4])\n",
    "s_titles = s_titles.str.replace(r'.+, Le$',lambda x: x.group(0)[-2:]+ ' ' +x.group()[:-4])\n",
    "s_titles = s_titles.str.replace(r'.+, La$',lambda x: x.group(0)[-2:]+ ' ' +x.group()[:-4])\n",
    "#s_titles = s_titles.str.replace(r'(\\s|,\\s)', '_')\n",
    "s_titles.head()"
   ]
  },
  {
   "cell_type": "code",
   "execution_count": null,
   "metadata": {
    "collapsed": false
   },
   "outputs": [],
   "source": [
    "s_titles[0]"
   ]
  },
  {
   "cell_type": "code",
   "execution_count": null,
   "metadata": {
    "collapsed": false
   },
   "outputs": [],
   "source": [
    "len(s_titles)"
   ]
  },
  {
   "cell_type": "code",
   "execution_count": null,
   "metadata": {
    "collapsed": false
   },
   "outputs": [],
   "source": [
    "df_ml_movies['title_mod'] = s_titles\n",
    "df_ml_movies['year'] = s_year\n",
    "df_ml_movies.head()"
   ]
  },
  {
   "cell_type": "code",
   "execution_count": null,
   "metadata": {
    "collapsed": true
   },
   "outputs": [],
   "source": [
    "df_ml_movies.to_csv('/home/ignacio/Datasets/ml-latest-small/movies_mod.csv', index=False)"
   ]
  },
  {
   "cell_type": "markdown",
   "metadata": {},
   "source": [
    "### Find director on dbpedia"
   ]
  },
  {
   "cell_type": "code",
   "execution_count": null,
   "metadata": {
    "collapsed": false
   },
   "outputs": [],
   "source": [
    "df_ml_movies = pd.read_csv('/home/ignacio/Datasets/ml-latest-small/movies_mod.csv')\n",
    "df_ml_movies.head()"
   ]
  },
  {
   "cell_type": "code",
   "execution_count": null,
   "metadata": {
    "collapsed": false
   },
   "outputs": [],
   "source": [
    "df_ml_movies['year'].dtype"
   ]
  },
  {
   "cell_type": "code",
   "execution_count": null,
   "metadata": {
    "collapsed": true
   },
   "outputs": [],
   "source": [
    "df_ml_movies['year'] = df_ml_movies['year'].fillna(method='ffill')"
   ]
  },
  {
   "cell_type": "code",
   "execution_count": null,
   "metadata": {
    "collapsed": false
   },
   "outputs": [],
   "source": [
    "df_ml_movies['year'] = df_ml_movies['year'].astype('int64')\n",
    "df_ml_movies['year'] = df_ml_movies['year'].astype('str')\n",
    "df_ml_movies.head()"
   ]
  },
  {
   "cell_type": "markdown",
   "metadata": {},
   "source": [
    "#### Change outliers"
   ]
  },
  {
   "cell_type": "code",
   "execution_count": null,
   "metadata": {
    "collapsed": true
   },
   "outputs": [],
   "source": [
    "df_ml_movies['title_mod'] = df_ml_movies['title_mod'].str.replace('La Femme Nikita', 'Nikita')"
   ]
  },
  {
   "cell_type": "code",
   "execution_count": null,
   "metadata": {
    "collapsed": true
   },
   "outputs": [],
   "source": [
    "df_ml_movies = df_ml_movies[df_ml_movies['title_mod'] != '11\\'09\"01 - September 11']"
   ]
  },
  {
   "cell_type": "code",
   "execution_count": null,
   "metadata": {
    "collapsed": true
   },
   "outputs": [],
   "source": [
    "df_ml_movies = df_ml_movies[df_ml_movies['title_mod'] != '\"Great Performances\" Cats']"
   ]
  },
  {
   "cell_type": "code",
   "execution_count": null,
   "metadata": {
    "collapsed": true
   },
   "outputs": [],
   "source": [
    "df_ml_movies = df_ml_movies.drop([7269])"
   ]
  },
  {
   "cell_type": "code",
   "execution_count": null,
   "metadata": {
    "collapsed": false
   },
   "outputs": [],
   "source": [
    "df_ml_movies.head()"
   ]
  },
  {
   "cell_type": "code",
   "execution_count": null,
   "metadata": {
    "collapsed": true
   },
   "outputs": [],
   "source": [
    "df_ml_movies.to_csv('/home/ignacio/Datasets/ml-latest-small/movies_mod.csv', index=False)"
   ]
  },
  {
   "cell_type": "markdown",
   "metadata": {},
   "source": [
    "#### DBpedia query"
   ]
  },
  {
   "cell_type": "code",
   "execution_count": null,
   "metadata": {
    "collapsed": true
   },
   "outputs": [],
   "source": [
    "sparql = SPARQLWrapper(\"http://dbpedia.org/sparql\")"
   ]
  },
  {
   "cell_type": "code",
   "execution_count": null,
   "metadata": {
    "collapsed": true
   },
   "outputs": [],
   "source": [
    "title = df_ml_movies['title_mod'][0]"
   ]
  },
  {
   "cell_type": "code",
   "execution_count": null,
   "metadata": {
    "collapsed": false
   },
   "outputs": [],
   "source": [
    "title"
   ]
  },
  {
   "cell_type": "code",
   "execution_count": null,
   "metadata": {
    "collapsed": false
   },
   "outputs": [],
   "source": [
    "def find_director( row ):\n",
    "    \n",
    "    sparql = SPARQLWrapper(\"http://dbpedia.org/sparql\")\n",
    "    \n",
    "    stm = \"\"\"\n",
    "        PREFIX rdfs: <http://www.w3.org/2000/01/rdf-schema#>\n",
    "        PREFIX dbr: <http://dbpedia.org/resource/>\n",
    "        PREFIX dbo: <http://dbpedia.org/ontology/>\n",
    "        SELECT DISTINCT ?directorName\n",
    "        WHERE {\n",
    "           ?f a dbo:Film ;\n",
    "           rdfs:label ?label .\n",
    "           ?f dbo:abstract ?abs .\n",
    "           ?f dbo:director ?director .\n",
    "           ?director foaf:name ?directorName.\n",
    "         FILTER (contains(str(?label),\\\"\"\"\" + row['title_mod'] + \"\"\"\\\"))\n",
    "         FILTER (lang(?label) = 'en')\n",
    "         FILTER (contains(str(?abs),\\\"\"\"\" + row['year'] + \"\\\")) }\" \n",
    "         \n",
    "    sparql.setQuery(stm)\n",
    "    sparql.setReturnFormat(JSON)\n",
    "    results = sparql.query().convert()\n",
    "    director = []\n",
    "    for result in results[\"results\"][\"bindings\"]:\n",
    "        director.append(result[\"directorName\"][\"value\"])\n",
    "    return director"
   ]
  },
  {
   "cell_type": "code",
   "execution_count": null,
   "metadata": {
    "collapsed": false
   },
   "outputs": [],
   "source": [
    "df_test = df_ml_movies.iloc[7266:7272]\n",
    "df_test = df_test.drop([7269])\n",
    "df_test"
   ]
  },
  {
   "cell_type": "code",
   "execution_count": null,
   "metadata": {
    "collapsed": false
   },
   "outputs": [],
   "source": [
    "df_test['director'] = df_test.apply(find_director, axis=1)\n",
    "df_test.head()"
   ]
  },
  {
   "cell_type": "code",
   "execution_count": null,
   "metadata": {
    "collapsed": false
   },
   "outputs": [],
   "source": [
    "directors = df_test.iloc[0]['director']"
   ]
  },
  {
   "cell_type": "code",
   "execution_count": null,
   "metadata": {
    "collapsed": false
   },
   "outputs": [],
   "source": [
    "len(directors)"
   ]
  },
  {
   "cell_type": "code",
   "execution_count": null,
   "metadata": {
    "collapsed": false
   },
   "outputs": [],
   "source": [
    "frame = 1000\n",
    "max_complete_frames = math.floor(len(df_ml_movies)/frame)\n",
    "max_complete_frames"
   ]
  },
  {
   "cell_type": "code",
   "execution_count": null,
   "metadata": {
    "collapsed": false
   },
   "outputs": [],
   "source": [
    "for i in np.arange(7,max_complete_frames):\n",
    "    df_test = df_ml_movies.loc[i*frame : (i+1)*frame]\n",
    "    df_test['director'] = df_test.apply(find_director, axis=1)\n",
    "    df_test.to_csv('/home/ignacio/Datasets/ml-latest-small/movies_mod_'+ str(i) +'.csv', index=False)\n",
    "    print('Iteration ' + str(i) + ' finished')\n",
    "\n",
    "if len(df_ml_movies) % frame != 0:\n",
    "    df_test = df_ml_movies.loc[max_complete_frames*frame : len(df_ml_movies) ]\n",
    "    df_test['director'] = df_test.apply(find_director, axis=1)\n",
    "    df_test.to_csv('/home/ignacio/Datasets/ml-latest-small/movies_mod_'+ str(max_complete_frames + 1) +'.csv', index=False)"
   ]
  },
  {
   "cell_type": "markdown",
   "metadata": {},
   "source": [
    "#### Join Results"
   ]
  },
  {
   "cell_type": "code",
   "execution_count": null,
   "metadata": {
    "collapsed": false
   },
   "outputs": [],
   "source": [
    "df_ml_movies_directors = pd.read_csv('/home/ignacio/Datasets/ml-latest-small/movies_mod_0.csv')\n",
    "\n",
    "for i in np.arange(1, max_complete_frames+1):\n",
    "    df = pd.read_csv('/home/ignacio/Datasets/ml-latest-small/movies_mod_'+ str(i) +'.csv')\n",
    "    df_ml_movies_directors = pd.concat([df_ml_movies_directors, df], ignore_index=True)\n",
    "\n",
    "print(len(df_ml_movies_directors))"
   ]
  },
  {
   "cell_type": "code",
   "execution_count": null,
   "metadata": {
    "collapsed": true
   },
   "outputs": [],
   "source": [
    "df_ml_movies_directors.to_csv('/home/ignacio/Datasets/ml-latest-small/movies_directors.csv', index=False)"
   ]
  },
  {
   "cell_type": "markdown",
   "metadata": {},
   "source": [
    "## Find directors influences"
   ]
  },
  {
   "cell_type": "markdown",
   "metadata": {},
   "source": [
    "#### Clean director format"
   ]
  },
  {
   "cell_type": "code",
   "execution_count": null,
   "metadata": {
    "collapsed": true
   },
   "outputs": [],
   "source": [
    "df_ml_movies_directors = pd.read_csv('/home/ignacio/Datasets/ml-latest-small/movies_directors.csv')"
   ]
  },
  {
   "cell_type": "code",
   "execution_count": null,
   "metadata": {
    "collapsed": false
   },
   "outputs": [],
   "source": [
    "df_ml_movies_directors.head()"
   ]
  },
  {
   "cell_type": "code",
   "execution_count": null,
   "metadata": {
    "collapsed": false
   },
   "outputs": [],
   "source": [
    "df_directors = df_ml_movies_directors['director']\n",
    "df_directors.head()"
   ]
  },
  {
   "cell_type": "code",
   "execution_count": null,
   "metadata": {
    "collapsed": false
   },
   "outputs": [],
   "source": [
    "len(df_directors)"
   ]
  },
  {
   "cell_type": "code",
   "execution_count": null,
   "metadata": {
    "collapsed": false
   },
   "outputs": [],
   "source": [
    "df_directors = df_directors.str.replace(r'[\\[\\]\\'\\']', '')\n",
    "df_directors = df_directors.str.split(r',\\s')\n",
    "df_directors.head()"
   ]
  },
  {
   "cell_type": "code",
   "execution_count": null,
   "metadata": {
    "collapsed": false
   },
   "outputs": [],
   "source": [
    "l_directors = list(df_directors)\n",
    "l_directors_unified = [x for d in l_directors for x in d]\n",
    "l_directors_unified[0:10]"
   ]
  },
  {
   "cell_type": "code",
   "execution_count": null,
   "metadata": {
    "collapsed": false
   },
   "outputs": [],
   "source": [
    "df_directors = pd.Series(data=l_directors_unified, name='directors')\n",
    "df_directors.head()"
   ]
  },
  {
   "cell_type": "code",
   "execution_count": null,
   "metadata": {
    "collapsed": false
   },
   "outputs": [],
   "source": [
    "df_directors = df_directors.drop_duplicates()\n",
    "len(df_directors)"
   ]
  },
  {
   "cell_type": "code",
   "execution_count": null,
   "metadata": {
    "collapsed": true
   },
   "outputs": [],
   "source": [
    "df_directors.to_csv('/home/ignacio/Datasets/ml-latest-small/directors.csv', index=False)"
   ]
  },
  {
   "cell_type": "markdown",
   "metadata": {},
   "source": [
    "#### DBpedia query"
   ]
  },
  {
   "cell_type": "code",
   "execution_count": 2,
   "metadata": {
    "collapsed": false
   },
   "outputs": [
    {
     "data": {
      "text/plain": [
       "0    John Lasseter\n",
       "1      Lee Unkrich\n",
       "2     Joe Johnston\n",
       "3      Jake Kasdan\n",
       "4    Howard Deutch\n",
       "Name: Director, dtype: object"
      ]
     },
     "execution_count": 2,
     "metadata": {},
     "output_type": "execute_result"
    }
   ],
   "source": [
    "df_directors = pd.read_csv('/home/ignacio/Datasets/ml-latest-small/directors.csv')\n",
    "df_directors = df_directors['Director']\n",
    "df_directors.head()"
   ]
  },
  {
   "cell_type": "code",
   "execution_count": null,
   "metadata": {
    "collapsed": false
   },
   "outputs": [],
   "source": [
    "df_directors['Director'] = df_directors['Director'].str.replace('\\\"', '')\n",
    "df_directors.head()"
   ]
  },
  {
   "cell_type": "code",
   "execution_count": null,
   "metadata": {
    "collapsed": false
   },
   "outputs": [],
   "source": [
    "df_directors = df_directors.drop([499,500])\n",
    "df_directors.head()"
   ]
  },
  {
   "cell_type": "code",
   "execution_count": null,
   "metadata": {
    "collapsed": false
   },
   "outputs": [],
   "source": [
    "len(df_directors)"
   ]
  },
  {
   "cell_type": "code",
   "execution_count": 3,
   "metadata": {
    "collapsed": true
   },
   "outputs": [],
   "source": [
    "sparql = SPARQLWrapper(\"http://dbpedia.org/sparql\")"
   ]
  },
  {
   "cell_type": "code",
   "execution_count": 4,
   "metadata": {
    "collapsed": true
   },
   "outputs": [],
   "source": [
    "def find_influence( row ):\n",
    "    \n",
    "    sparql = SPARQLWrapper(\"http://dbpedia.org/sparql\")\n",
    "    \n",
    "    stm = \"\"\"\n",
    "        SELECT DISTINCT ?Aname \n",
    "        where {\n",
    "          ?A dbo:influenced ?B.\n",
    "          ?A a dbo:Person.\n",
    "          ?B a dbo:Person.\n",
    "          ?B foaf:name ?Bname .\n",
    "          ?A foaf:name ?Aname \n",
    "          FILTER(regex(?Bname, \\\"\"\"\"+ row +\"\"\"\\\"))\n",
    "         }\"\"\"\n",
    "         \n",
    "    sparql.setQuery(stm)\n",
    "    sparql.setReturnFormat(JSON)\n",
    "    results = sparql.query().convert()\n",
    "    director = []\n",
    "    for result in results[\"results\"][\"bindings\"]:\n",
    "        director.append(result[\"Aname\"][\"value\"])\n",
    "    return director"
   ]
  },
  {
   "cell_type": "code",
   "execution_count": 9,
   "metadata": {
    "collapsed": false
   },
   "outputs": [
    {
     "data": {
      "text/plain": [
       "4"
      ]
     },
     "execution_count": 9,
     "metadata": {},
     "output_type": "execute_result"
    }
   ],
   "source": [
    "frame = 1000\n",
    "max_complete_frames = math.floor(len(df_directors)/frame)\n",
    "max_complete_frames"
   ]
  },
  {
   "cell_type": "code",
   "execution_count": 11,
   "metadata": {
    "collapsed": false
   },
   "outputs": [
    {
     "name": "stdout",
     "output_type": "stream",
     "text": [
      "Iteration 0\n",
      "Iteration 1\n",
      "Iteration 2\n",
      "Iteration 3\n"
     ]
    }
   ],
   "source": [
    "for i in np.arange(0, max_complete_frames):\n",
    "    df_test = df_directors.loc[i*frame : (i+1)*frame]\n",
    "    df_test_influenced = df_test.apply(find_influence)\n",
    "    df_to_save = pd.DataFrame({'Director':df_test, 'Influence':df_test_influenced})\n",
    "    df_to_save.to_csv('/home/ignacio/Datasets/ml-latest-small/ml-directors-influence_'+ str(i) +'.csv', index=False)\n",
    "    print(\"Iteration \" + str(i) )\n",
    "    \n",
    "if len(df_directors) % frame != 0:\n",
    "    df_test = df_directors.loc[max_complete_frames*frame : len(df_directors) ]\n",
    "    df_test_influenced = df_test.apply(find_influence)\n",
    "    df_to_save = pd.DataFrame({'Director':df_test, 'Influence':df_test_influenced})\n",
    "    df_to_save.to_csv('/home/ignacio/Datasets/ml-latest-small/ml-directors-influence_'+ str(max_complete_frames ) +'.csv', index=False)"
   ]
  },
  {
   "cell_type": "markdown",
   "metadata": {},
   "source": [
    "#### Join Results"
   ]
  },
  {
   "cell_type": "code",
   "execution_count": 12,
   "metadata": {
    "collapsed": false
   },
   "outputs": [
    {
     "name": "stdout",
     "output_type": "stream",
     "text": [
      "4685\n"
     ]
    }
   ],
   "source": [
    "df_ml_influences = pd.read_csv('/home/ignacio/Datasets/ml-latest-small/ml-directors-influence_0.csv')\n",
    "\n",
    "for i in np.arange(1, max_complete_frames+1):\n",
    "    df = pd.read_csv('/home/ignacio/Datasets/ml-latest-small/ml-directors-influence_'+ str(i) +'.csv')\n",
    "    df_ml_influences = pd.concat([df_ml_influences, df], ignore_index=True)\n",
    "\n",
    "print(len(df_ml_influences))"
   ]
  },
  {
   "cell_type": "code",
   "execution_count": 13,
   "metadata": {
    "collapsed": true
   },
   "outputs": [],
   "source": [
    "df_ml_influences.to_csv('/home/ignacio/Datasets/ml-latest-small/ml-directors-influences', index=False)"
   ]
  },
  {
   "cell_type": "code",
   "execution_count": null,
   "metadata": {
    "collapsed": true
   },
   "outputs": [],
   "source": [
    "df_ml_influences['Influence'] = df_ml_influences['Influence'].str.replace(r'[\\[\\]\\'\\']', '')\n",
    "df_ml_influences = df_ml_influences[df_ml_influences['Influence'].str.len() > 0]\n",
    "df_ml_influences.head()"
   ]
  },
  {
   "cell_type": "code",
   "execution_count": null,
   "metadata": {
    "collapsed": true
   },
   "outputs": [],
   "source": [
    "df_ml_influences = df_ml_influences[df_ml_influences['Director'] != '()']\n",
    "df_ml_influences['Influence'] = df_ml_influences['Influence'].str.split(',')\n",
    "df_ml_influences.head()"
   ]
  },
  {
   "cell_type": "code",
   "execution_count": null,
   "metadata": {
    "collapsed": true
   },
   "outputs": [],
   "source": [
    "df_director_edges.to_csv('/home/ignacio/Datasets/ml-latest-small/ml-directors-influences-edges.csv', index=False)"
   ]
  },
  {
   "cell_type": "code",
   "execution_count": null,
   "metadata": {
    "collapsed": true
   },
   "outputs": [],
   "source": []
  },
  {
   "cell_type": "code",
   "execution_count": 5,
   "metadata": {
    "collapsed": false
   },
   "outputs": [
    {
     "data": {
      "text/plain": [
       "0    John Lasseter\n",
       "1      Lee Unkrich\n",
       "Name: Director, dtype: object"
      ]
     },
     "execution_count": 5,
     "metadata": {},
     "output_type": "execute_result"
    }
   ],
   "source": [
    "df_test = df_directors.loc[0:1]\n",
    "df_test"
   ]
  },
  {
   "cell_type": "code",
   "execution_count": 6,
   "metadata": {
    "collapsed": false
   },
   "outputs": [
    {
     "data": {
      "text/plain": [
       "0    [Walt Stanchfield]\n",
       "1                    []\n",
       "Name: Director, dtype: object"
      ]
     },
     "execution_count": 6,
     "metadata": {},
     "output_type": "execute_result"
    }
   ],
   "source": [
    "df_influenced =df_test.apply(find_influence)\n",
    "df_influenced"
   ]
  },
  {
   "cell_type": "code",
   "execution_count": 8,
   "metadata": {
    "collapsed": false
   },
   "outputs": [
    {
     "data": {
      "text/html": [
       "<div>\n",
       "<style>\n",
       "    .dataframe thead tr:only-child th {\n",
       "        text-align: right;\n",
       "    }\n",
       "\n",
       "    .dataframe thead th {\n",
       "        text-align: left;\n",
       "    }\n",
       "\n",
       "    .dataframe tbody tr th {\n",
       "        vertical-align: top;\n",
       "    }\n",
       "</style>\n",
       "<table border=\"1\" class=\"dataframe\">\n",
       "  <thead>\n",
       "    <tr style=\"text-align: right;\">\n",
       "      <th></th>\n",
       "      <th>Director</th>\n",
       "      <th>Influence</th>\n",
       "    </tr>\n",
       "  </thead>\n",
       "  <tbody>\n",
       "    <tr>\n",
       "      <th>0</th>\n",
       "      <td>John Lasseter</td>\n",
       "      <td>[Walt Stanchfield]</td>\n",
       "    </tr>\n",
       "    <tr>\n",
       "      <th>1</th>\n",
       "      <td>Lee Unkrich</td>\n",
       "      <td>[]</td>\n",
       "    </tr>\n",
       "  </tbody>\n",
       "</table>\n",
       "</div>"
      ],
      "text/plain": [
       "        Director           Influence\n",
       "0  John Lasseter  [Walt Stanchfield]\n",
       "1    Lee Unkrich                  []"
      ]
     },
     "execution_count": 8,
     "metadata": {},
     "output_type": "execute_result"
    }
   ],
   "source": [
    "df_to_save = pd.DataFrame({'Director':df_test, 'Influence':df_influenced})\n",
    "df_to_save"
   ]
  },
  {
   "cell_type": "code",
   "execution_count": null,
   "metadata": {
    "collapsed": false
   },
   "outputs": [],
   "source": [
    "df_directors.iloc[0]"
   ]
  },
  {
   "cell_type": "code",
   "execution_count": null,
   "metadata": {
    "collapsed": true
   },
   "outputs": [],
   "source": [
    "df_directors = df_directors.drop_duplicates()"
   ]
  },
  {
   "cell_type": "code",
   "execution_count": null,
   "metadata": {
    "collapsed": false
   },
   "outputs": [],
   "source": [
    "len(df_directors)"
   ]
  },
  {
   "cell_type": "code",
   "execution_count": null,
   "metadata": {
    "collapsed": false
   },
   "outputs": [],
   "source": [
    "df_directors.head()"
   ]
  },
  {
   "cell_type": "code",
   "execution_count": null,
   "metadata": {
    "collapsed": true
   },
   "outputs": [],
   "source": []
  },
  {
   "cell_type": "code",
   "execution_count": null,
   "metadata": {
    "collapsed": false
   },
   "outputs": [],
   "source": [
    "df_ml_movies.loc[[7269]]['title_mod'] = df_ml_movies.loc[[7269]]['title']\n",
    "df_ml_movies.loc[[7269]]"
   ]
  },
  {
   "cell_type": "code",
   "execution_count": null,
   "metadata": {
    "collapsed": false
   },
   "outputs": [],
   "source": [
    "df['title'] = df['title'].astype('str')"
   ]
  },
  {
   "cell_type": "code",
   "execution_count": null,
   "metadata": {
    "collapsed": false
   },
   "outputs": [],
   "source": [
    "df['title'].dtype"
   ]
  },
  {
   "cell_type": "code",
   "execution_count": null,
   "metadata": {
    "collapsed": false
   },
   "outputs": [],
   "source": [
    "df_test.head(20)"
   ]
  },
  {
   "cell_type": "code",
   "execution_count": null,
   "metadata": {
    "collapsed": false
   },
   "outputs": [],
   "source": [
    "df_ml_movies['director'] = df_ml_movies.apply(find_director, axis=1)"
   ]
  },
  {
   "cell_type": "code",
   "execution_count": null,
   "metadata": {
    "collapsed": false
   },
   "outputs": [],
   "source": [
    "len(df_ml_movies)"
   ]
  },
  {
   "cell_type": "code",
   "execution_count": null,
   "metadata": {
    "collapsed": false
   },
   "outputs": [],
   "source": []
  }
 ],
 "metadata": {
  "kernelspec": {
   "display_name": "Python 3",
   "language": "python",
   "name": "python3"
  },
  "language_info": {
   "codemirror_mode": {
    "name": "ipython",
    "version": 3
   },
   "file_extension": ".py",
   "mimetype": "text/x-python",
   "name": "python",
   "nbconvert_exporter": "python",
   "pygments_lexer": "ipython3",
   "version": "3.5.2"
  }
 },
 "nbformat": 4,
 "nbformat_minor": 2
}
