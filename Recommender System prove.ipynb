{
 "cells": [
  {
   "cell_type": "code",
   "execution_count": 1,
   "metadata": {
    "collapsed": true
   },
   "outputs": [],
   "source": [
    "import pandas as pd\n",
    "import numpy as np\n",
    "import networkx as nx\n",
    "import scipy\n",
    "from sklearn.feature_extraction.text import CountVectorizer, TfidfVectorizer"
   ]
  },
  {
   "cell_type": "markdown",
   "metadata": {},
   "source": [
    "## Movie vector space"
   ]
  },
  {
   "cell_type": "code",
   "execution_count": 2,
   "metadata": {
    "collapsed": false
   },
   "outputs": [
    {
     "data": {
      "text/html": [
       "<div>\n",
       "<style>\n",
       "    .dataframe thead tr:only-child th {\n",
       "        text-align: right;\n",
       "    }\n",
       "\n",
       "    .dataframe thead th {\n",
       "        text-align: left;\n",
       "    }\n",
       "\n",
       "    .dataframe tbody tr th {\n",
       "        vertical-align: top;\n",
       "    }\n",
       "</style>\n",
       "<table border=\"1\" class=\"dataframe\">\n",
       "  <thead>\n",
       "    <tr style=\"text-align: right;\">\n",
       "      <th></th>\n",
       "      <th>movieId</th>\n",
       "      <th>title</th>\n",
       "      <th>year</th>\n",
       "      <th>genres</th>\n",
       "      <th>director</th>\n",
       "      <th>valid</th>\n",
       "    </tr>\n",
       "  </thead>\n",
       "  <tbody>\n",
       "    <tr>\n",
       "      <th>0</th>\n",
       "      <td>1</td>\n",
       "      <td>Toy Story</td>\n",
       "      <td>1995</td>\n",
       "      <td>adventure|animation|children|comedy|fantasy</td>\n",
       "      <td>John Lasseter, Lee Unkrich</td>\n",
       "      <td>True</td>\n",
       "    </tr>\n",
       "    <tr>\n",
       "      <th>1</th>\n",
       "      <td>7</td>\n",
       "      <td>Sabrina</td>\n",
       "      <td>1995</td>\n",
       "      <td>comedy|romance</td>\n",
       "      <td>Billy Wilder, Sydney Pollack</td>\n",
       "      <td>True</td>\n",
       "    </tr>\n",
       "    <tr>\n",
       "      <th>2</th>\n",
       "      <td>12</td>\n",
       "      <td>Dracula: Dead and Loving It</td>\n",
       "      <td>1995</td>\n",
       "      <td>comedy|horror</td>\n",
       "      <td>Mel Brooks</td>\n",
       "      <td>True</td>\n",
       "    </tr>\n",
       "    <tr>\n",
       "      <th>3</th>\n",
       "      <td>16</td>\n",
       "      <td>Casino</td>\n",
       "      <td>1995</td>\n",
       "      <td>crime|drama</td>\n",
       "      <td>Martin Scorsese, Martin Campbell</td>\n",
       "      <td>True</td>\n",
       "    </tr>\n",
       "    <tr>\n",
       "      <th>4</th>\n",
       "      <td>18</td>\n",
       "      <td>Four Rooms</td>\n",
       "      <td>1995</td>\n",
       "      <td>comedy</td>\n",
       "      <td>Allison Anders, Alexandre Rockwell, Quentin Ta...</td>\n",
       "      <td>True</td>\n",
       "    </tr>\n",
       "  </tbody>\n",
       "</table>\n",
       "</div>"
      ],
      "text/plain": [
       "   movieId                        title  year  \\\n",
       "0        1                    Toy Story  1995   \n",
       "1        7                      Sabrina  1995   \n",
       "2       12  Dracula: Dead and Loving It  1995   \n",
       "3       16                       Casino  1995   \n",
       "4       18                   Four Rooms  1995   \n",
       "\n",
       "                                        genres  \\\n",
       "0  adventure|animation|children|comedy|fantasy   \n",
       "1                               comedy|romance   \n",
       "2                                comedy|horror   \n",
       "3                                  crime|drama   \n",
       "4                                       comedy   \n",
       "\n",
       "                                            director  valid  \n",
       "0                         John Lasseter, Lee Unkrich   True  \n",
       "1                       Billy Wilder, Sydney Pollack   True  \n",
       "2                                         Mel Brooks   True  \n",
       "3                   Martin Scorsese, Martin Campbell   True  \n",
       "4  Allison Anders, Alexandre Rockwell, Quentin Ta...   True  "
      ]
     },
     "execution_count": 2,
     "metadata": {},
     "output_type": "execute_result"
    }
   ],
   "source": [
    "df_ml_movies = pd.read_csv('/home/ignacio/Datasets/Graph analysis/ml-valid-movies.csv')\n",
    "df_ml_movies.head()"
   ]
  },
  {
   "cell_type": "code",
   "execution_count": null,
   "metadata": {
    "collapsed": false
   },
   "outputs": [],
   "source": [
    "len(df_ml_movies)"
   ]
  },
  {
   "cell_type": "markdown",
   "metadata": {},
   "source": [
    "#### define directors dict"
   ]
  },
  {
   "cell_type": "code",
   "execution_count": null,
   "metadata": {
    "collapsed": false
   },
   "outputs": [],
   "source": [
    "directors = df_ml_movies['director']\n",
    "directors = directors.str.split(r', ')\n",
    "directors_list = list(directors.values)\n",
    "directors_list = [d for director in directors_list for d in director]\n",
    "directors = pd.DataFrame(directors_list, columns=['director'])\n",
    "directors = directors.drop_duplicates()\n",
    "directors['normalize'] = directors['director'].str.lower()\n",
    "directors['normalize'] = directors['normalize'].str.normalize('NFKD').str.encode('ascii', errors='ignore').str.decode('utf-8')\n",
    "directors['normalize'] = directors['normalize'].str.replace(r'[\\.\\-\\\" ]', '')\n",
    "directors = directors.drop_duplicates(subset=['normalize'])\n",
    "directors = directors.set_index(['normalize'])\n",
    "directors_dict = directors.to_dict()\n",
    "directors.head(10)"
   ]
  },
  {
   "cell_type": "code",
   "execution_count": null,
   "metadata": {
    "collapsed": false
   },
   "outputs": [],
   "source": [
    "directors_dict = directors_dict['director']"
   ]
  },
  {
   "cell_type": "markdown",
   "metadata": {},
   "source": [
    "#### define \"soap\""
   ]
  },
  {
   "cell_type": "code",
   "execution_count": null,
   "metadata": {
    "collapsed": false
   },
   "outputs": [],
   "source": [
    "df_ml_movies['director'] = df_ml_movies['director'].str.lower()\n",
    "df_ml_movies['director'] = df_ml_movies['director'].str.normalize('NFKD').str.encode('ascii', errors='ignore').str.decode('utf-8')\n",
    "df_ml_movies['director'] = df_ml_movies['director'].str.replace(r'[\\.\\-\\\" ]', '')\n",
    "df_ml_movies['director'] = df_ml_movies['director'].str.replace(',', ' ')\n",
    "df_ml_movies['genres'] = df_ml_movies['genres'].str.replace('|', ' ')\n",
    "df_ml_movies.head()"
   ]
  },
  {
   "cell_type": "code",
   "execution_count": null,
   "metadata": {
    "collapsed": false
   },
   "outputs": [],
   "source": [
    "df_ml_movies['soap'] = df_ml_movies.apply(lambda x : x['genres'] + ' ' + x['director'], axis=1)\n",
    "df_ml_movies.head()"
   ]
  },
  {
   "cell_type": "markdown",
   "metadata": {},
   "source": [
    "#### define vocabulary movie"
   ]
  },
  {
   "cell_type": "code",
   "execution_count": null,
   "metadata": {
    "collapsed": true
   },
   "outputs": [],
   "source": [
    "vocabulary_movie = list(directors.index)\n",
    "#vocabulary_movie = [x for x in vocabulary_movie if x != '']"
   ]
  },
  {
   "cell_type": "code",
   "execution_count": null,
   "metadata": {
    "collapsed": false
   },
   "outputs": [],
   "source": [
    "len(vocabulary_movie)"
   ]
  },
  {
   "cell_type": "code",
   "execution_count": null,
   "metadata": {
    "collapsed": true
   },
   "outputs": [],
   "source": [
    "genres = df_ml_movies['genres']\n",
    "genres = genres.str.split(' ')\n",
    "genres_list = list(genres.values)\n",
    "genres_list = [g for gen in genres_list for g in gen]\n",
    "genres = pd.DataFrame( genres_list, columns=['genre'])\n",
    "genres = genres.drop_duplicates()\n",
    "genres_list = list(genres['genre'].values)"
   ]
  },
  {
   "cell_type": "code",
   "execution_count": null,
   "metadata": {
    "collapsed": false
   },
   "outputs": [],
   "source": [
    "len(genres)"
   ]
  },
  {
   "cell_type": "code",
   "execution_count": null,
   "metadata": {
    "collapsed": false
   },
   "outputs": [],
   "source": [
    "vocabulary_movie.extend(genres_list)\n",
    "len(vocabulary_movie)"
   ]
  },
  {
   "cell_type": "markdown",
   "metadata": {},
   "source": [
    "#### tfidf vectorizer"
   ]
  },
  {
   "cell_type": "code",
   "execution_count": null,
   "metadata": {
    "collapsed": true
   },
   "outputs": [],
   "source": [
    "count = CountVectorizer(stop_words='english')\n",
    "count_matrix = count.fit_transform(df_ml_movies['soap'])"
   ]
  },
  {
   "cell_type": "code",
   "execution_count": null,
   "metadata": {
    "collapsed": false
   },
   "outputs": [],
   "source": [
    "len(count.get_feature_names())"
   ]
  },
  {
   "cell_type": "code",
   "execution_count": null,
   "metadata": {
    "collapsed": false
   },
   "outputs": [],
   "source": [
    "tfidf = TfidfVectorizer(stop_words='english', vocabulary= vocabulary_movie)\n",
    "tf_idf_matrix = tfidf.fit_transform(df_ml_movies['soap'])"
   ]
  },
  {
   "cell_type": "code",
   "execution_count": null,
   "metadata": {
    "collapsed": false
   },
   "outputs": [],
   "source": [
    "directors.loc['tiborhernadi']"
   ]
  },
  {
   "cell_type": "code",
   "execution_count": null,
   "metadata": {
    "collapsed": false
   },
   "outputs": [],
   "source": [
    "feature_names = tfidf.get_feature_names()"
   ]
  },
  {
   "cell_type": "code",
   "execution_count": null,
   "metadata": {
    "collapsed": false
   },
   "outputs": [],
   "source": [
    "len(feature_names)"
   ]
  },
  {
   "cell_type": "code",
   "execution_count": null,
   "metadata": {
    "collapsed": false
   },
   "outputs": [],
   "source": [
    "df_feature_name = pd.DataFrame(tfidf.get_feature_names(), columns=['feature name'])\n",
    "df_feature_name.to_csv('/home/ignacio/Datasets/Graph analysis/feature_name.csv', index=False)"
   ]
  },
  {
   "cell_type": "code",
   "execution_count": null,
   "metadata": {
    "collapsed": false
   },
   "outputs": [],
   "source": [
    "df_feature_name.head()"
   ]
  },
  {
   "cell_type": "code",
   "execution_count": null,
   "metadata": {
    "collapsed": false
   },
   "outputs": [],
   "source": [
    "tf_idf_matrix"
   ]
  },
  {
   "cell_type": "code",
   "execution_count": null,
   "metadata": {
    "collapsed": false
   },
   "outputs": [],
   "source": [
    "df_ml_movies[df_ml_movies['movieId']==1]"
   ]
  },
  {
   "cell_type": "code",
   "execution_count": null,
   "metadata": {
    "collapsed": false
   },
   "outputs": [],
   "source": [
    "idx = df_ml_movies.index[df_ml_movies['movieId']==1].tolist()[0]"
   ]
  },
  {
   "cell_type": "code",
   "execution_count": null,
   "metadata": {
    "collapsed": false
   },
   "outputs": [],
   "source": [
    "toy_story_tf_idf = tf_idf_matrix[idx:idx+1]"
   ]
  },
  {
   "cell_type": "code",
   "execution_count": null,
   "metadata": {
    "collapsed": false
   },
   "outputs": [],
   "source": [
    "toy_story_matrix = toy_story_tf_idf.todense()"
   ]
  },
  {
   "cell_type": "code",
   "execution_count": null,
   "metadata": {
    "collapsed": false
   },
   "outputs": [],
   "source": [
    "df_toy_story = pd.DataFrame(toy_story_matrix)\n",
    "df_toy_story = df_toy_story.transpose()\n",
    "df_toy_story.to_csv('/home/ignacio/Datasets/Graph analysis/toy_story.csv', index=False)\n",
    "df_toy_story.head()"
   ]
  },
  {
   "cell_type": "markdown",
   "metadata": {},
   "source": [
    "## Graph model"
   ]
  },
  {
   "cell_type": "code",
   "execution_count": null,
   "metadata": {
    "collapsed": true
   },
   "outputs": [],
   "source": [
    "df_nodes = pd.read_csv('/home/ignacio/Datasets/Graph analysis/artists_nodes.csv')\n",
    "df_edges = pd.read_csv('/home/ignacio/Datasets/Graph analysis/artists_edges.csv')"
   ]
  },
  {
   "cell_type": "code",
   "execution_count": null,
   "metadata": {
    "collapsed": false
   },
   "outputs": [],
   "source": [
    "df_nodes = df_nodes.set_index('Artists')\n",
    "type_dict = df_nodes.to_dict()\n",
    "df_edges = df_edges.set_index(['Node 1', 'Node 2'])\n",
    "color_dict = df_edges.to_dict()"
   ]
  },
  {
   "cell_type": "code",
   "execution_count": null,
   "metadata": {
    "collapsed": true
   },
   "outputs": [],
   "source": [
    "g_artist = nx.Graph()\n",
    "g_artist.add_nodes_from(list(type_dict['type'].keys()))\n",
    "g_artist.add_edges_from(list(color_dict['color'].keys()))"
   ]
  },
  {
   "cell_type": "code",
   "execution_count": null,
   "metadata": {
    "collapsed": true
   },
   "outputs": [],
   "source": [
    "nx.set_node_attributes(g_artist, name='type', values=type_dict['type'])\n",
    "nx.set_edge_attributes(g_artist, name='color', values=color_dict['color'])"
   ]
  },
  {
   "cell_type": "code",
   "execution_count": null,
   "metadata": {
    "collapsed": false
   },
   "outputs": [],
   "source": [
    "g_artist.has_node('Philip Saville')"
   ]
  },
  {
   "cell_type": "code",
   "execution_count": null,
   "metadata": {
    "collapsed": false
   },
   "outputs": [],
   "source": [
    "df_nodes = df_nodes.reset_index()\n",
    "df_nodes.head()"
   ]
  },
  {
   "cell_type": "code",
   "execution_count": null,
   "metadata": {
    "collapsed": false
   },
   "outputs": [],
   "source": [
    "df_nodes[df_nodes['Artists'].str.contains('Philip')]"
   ]
  },
  {
   "cell_type": "markdown",
   "metadata": {},
   "source": [
    "## Book vector space"
   ]
  },
  {
   "cell_type": "code",
   "execution_count": null,
   "metadata": {
    "collapsed": false
   },
   "outputs": [],
   "source": [
    "df_bx_book = pd.read_csv('/home/ignacio/Datasets/Graph analysis/bx-valid-book.csv')\n",
    "df_bx_book['common-shelves'] = df_bx_book['common-shelves'].fillna('')\n",
    "df_bx_book.head()"
   ]
  },
  {
   "cell_type": "code",
   "execution_count": null,
   "metadata": {
    "collapsed": false
   },
   "outputs": [],
   "source": [
    "len(df_bx_book)"
   ]
  },
  {
   "cell_type": "markdown",
   "metadata": {},
   "source": [
    "#### define author dict"
   ]
  },
  {
   "cell_type": "code",
   "execution_count": null,
   "metadata": {
    "collapsed": false
   },
   "outputs": [],
   "source": [
    "authors = df_bx_book['Book-Author']\n",
    "authors_list = list(authors.unique())\n",
    "df_authors = pd.DataFrame(authors_list, columns=['author'])\n",
    "df_authors = df_authors.drop_duplicates()\n",
    "df_authors['normalize'] = df_authors['author'].str.lower()\n",
    "df_authors['normalize'] = df_authors['normalize'].str.normalize('NFKD').str.encode('ascii', errors='ignore').str.decode('utf-8')\n",
    "df_authors['normalize'] = df_authors['normalize'].str.replace(r'[\\.\\-\\\" ]', '')\n",
    "df_authors = df_authors.drop_duplicates(subset=['normalize'])\n",
    "df_authors = df_authors.set_index(['normalize'])\n",
    "authors_dict = df_authors.to_dict()\n",
    "df_authors.head(10)"
   ]
  },
  {
   "cell_type": "markdown",
   "metadata": {},
   "source": [
    "#### define \"soap\""
   ]
  },
  {
   "cell_type": "code",
   "execution_count": null,
   "metadata": {
    "collapsed": false
   },
   "outputs": [],
   "source": [
    "df_bx_book['common-shelves'] = df_bx_book['common-shelves'].str.replace('|', ' ')\n",
    "df_bx_book.head()"
   ]
  },
  {
   "cell_type": "code",
   "execution_count": null,
   "metadata": {
    "collapsed": false
   },
   "outputs": [],
   "source": [
    "df_bx_book['Book-Author'] = df_bx_book['Book-Author'].str.lower()\n",
    "df_bx_book['Book-Author'] = df_bx_book['Book-Author'].str.normalize('NFKD').str.encode('ascii', errors='ignore').str.decode('utf-8')\n",
    "df_bx_book['Book-Author'] = df_bx_book['Book-Author'].str.replace(r'[\\.\\-\\\" ]', '')\n",
    "df_bx_book.head()"
   ]
  },
  {
   "cell_type": "code",
   "execution_count": null,
   "metadata": {
    "collapsed": false
   },
   "outputs": [],
   "source": [
    "df_bx_book['soap'] = df_bx_book.apply(lambda row: row['Book-Author'] + ' ' + row['common-shelves'], axis = 1 )\n",
    "df_bx_book.head()"
   ]
  },
  {
   "cell_type": "markdown",
   "metadata": {},
   "source": [
    "#### define vocabulary"
   ]
  },
  {
   "cell_type": "code",
   "execution_count": null,
   "metadata": {
    "collapsed": true
   },
   "outputs": [],
   "source": [
    "vocabulary_book = list(df_authors.index)\n",
    "#vocabulary_book = [x for x in vocabulary_book if x != '']"
   ]
  },
  {
   "cell_type": "code",
   "execution_count": null,
   "metadata": {
    "collapsed": false
   },
   "outputs": [],
   "source": [
    "len(vocabulary_book)"
   ]
  },
  {
   "cell_type": "code",
   "execution_count": null,
   "metadata": {
    "collapsed": true
   },
   "outputs": [],
   "source": [
    "authors_dict = df_authors.to_dict()['author']"
   ]
  },
  {
   "cell_type": "code",
   "execution_count": null,
   "metadata": {
    "collapsed": false
   },
   "outputs": [],
   "source": [
    "vocabulary_book.extend(list(genres['genre'].values))\n",
    "len(vocabulary_book)"
   ]
  },
  {
   "cell_type": "markdown",
   "metadata": {},
   "source": [
    "#### tfidf vectorizer"
   ]
  },
  {
   "cell_type": "code",
   "execution_count": null,
   "metadata": {
    "collapsed": false
   },
   "outputs": [],
   "source": [
    "tfidf_book = TfidfVectorizer(vocabulary=vocabulary_book)\n",
    "#tfidf_book = TfidfVectorizer()\n",
    "tfidf_book_matrix = tfidf_book.fit_transform(df_bx_book['soap'])\n",
    "tfidf_book_matrix"
   ]
  },
  {
   "cell_type": "code",
   "execution_count": null,
   "metadata": {
    "collapsed": false
   },
   "outputs": [],
   "source": [
    "feature_names_book = tfidf_book.get_feature_names()\n",
    "df_features_name_book = pd.DataFrame(feature_names_book, columns=['feature names'])\n",
    "df_features_name_book.head()"
   ]
  },
  {
   "cell_type": "code",
   "execution_count": null,
   "metadata": {
    "collapsed": true
   },
   "outputs": [],
   "source": [
    "df_features_name_book.to_csv('/home/ignacio/Datasets/Graph analysis/feature_name_book.csv', index=False)"
   ]
  },
  {
   "cell_type": "code",
   "execution_count": null,
   "metadata": {
    "collapsed": true
   },
   "outputs": [],
   "source": []
  },
  {
   "cell_type": "code",
   "execution_count": null,
   "metadata": {
    "collapsed": false
   },
   "outputs": [],
   "source": [
    "tfidf_pride = tfidf_book_matrix[4:5]\n",
    "tfidf_pride"
   ]
  },
  {
   "cell_type": "code",
   "execution_count": null,
   "metadata": {
    "collapsed": false
   },
   "outputs": [],
   "source": [
    "tfidf_pride = tfidf_book_matrix[4:5]\n",
    "df_pride_tfidf = pd.DataFrame(tfidf_pride.todense())\n",
    "df_pride_tfidf = df_pride_tfidf.transpose()\n",
    "df_pride_tfidf.head()"
   ]
  },
  {
   "cell_type": "code",
   "execution_count": null,
   "metadata": {
    "collapsed": false
   },
   "outputs": [],
   "source": [
    "df_pride = df_features_name_book['feature names'].apply( lambda x : authors_dict[x] if x in authors_dict.keys() else x )\n",
    "df_pride.head(10)"
   ]
  },
  {
   "cell_type": "code",
   "execution_count": null,
   "metadata": {
    "collapsed": false
   },
   "outputs": [],
   "source": [
    "df_pride = pd.DataFrame(df_pride, columns=[df_pride.name])\n",
    "df_pride['tfidf'] = df_pride_tfidf[0]\n",
    "df_pride.head()"
   ]
  },
  {
   "cell_type": "code",
   "execution_count": null,
   "metadata": {
    "collapsed": true
   },
   "outputs": [],
   "source": [
    "df_pride.to_csv('/home/ignacio/Datasets/Graph analysis/pride_tfidf.csv', index=False)"
   ]
  },
  {
   "cell_type": "code",
   "execution_count": null,
   "metadata": {
    "collapsed": false
   },
   "outputs": [],
   "source": [
    "df_authors = df_bx_book['Book-Author']\n",
    "df_authors = df_authors.drop_duplicates()\n",
    "df_authors.head()"
   ]
  },
  {
   "cell_type": "markdown",
   "metadata": {},
   "source": [
    "## User vector space"
   ]
  },
  {
   "cell_type": "markdown",
   "metadata": {},
   "source": [
    "#### User space book"
   ]
  },
  {
   "cell_type": "code",
   "execution_count": null,
   "metadata": {
    "collapsed": false
   },
   "outputs": [],
   "source": [
    "matrix_user_profiles = np.load('/home/ignacio/Datasets/Graph analysis/user_book_space.npy')\n",
    "matrix_user_profiles.shape"
   ]
  },
  {
   "cell_type": "code",
   "execution_count": null,
   "metadata": {
    "collapsed": false
   },
   "outputs": [],
   "source": [
    "matrix_user_profiles[0].reshape(1,-1)"
   ]
  },
  {
   "cell_type": "markdown",
   "metadata": {},
   "source": [
    "#### User space from rating matrix"
   ]
  },
  {
   "cell_type": "code",
   "execution_count": 3,
   "metadata": {
    "collapsed": false
   },
   "outputs": [
    {
     "data": {
      "text/html": [
       "<div>\n",
       "<style>\n",
       "    .dataframe thead tr:only-child th {\n",
       "        text-align: right;\n",
       "    }\n",
       "\n",
       "    .dataframe thead th {\n",
       "        text-align: left;\n",
       "    }\n",
       "\n",
       "    .dataframe tbody tr th {\n",
       "        vertical-align: top;\n",
       "    }\n",
       "</style>\n",
       "<table border=\"1\" class=\"dataframe\">\n",
       "  <thead>\n",
       "    <tr style=\"text-align: right;\">\n",
       "      <th></th>\n",
       "      <th>userId</th>\n",
       "      <th>movieId</th>\n",
       "      <th>rating</th>\n",
       "      <th>timestamp</th>\n",
       "    </tr>\n",
       "  </thead>\n",
       "  <tbody>\n",
       "    <tr>\n",
       "      <th>0</th>\n",
       "      <td>1</td>\n",
       "      <td>1339</td>\n",
       "      <td>3.5</td>\n",
       "      <td>1260759125</td>\n",
       "    </tr>\n",
       "    <tr>\n",
       "      <th>1</th>\n",
       "      <td>1</td>\n",
       "      <td>1343</td>\n",
       "      <td>2.0</td>\n",
       "      <td>1260759131</td>\n",
       "    </tr>\n",
       "    <tr>\n",
       "      <th>2</th>\n",
       "      <td>1</td>\n",
       "      <td>1953</td>\n",
       "      <td>4.0</td>\n",
       "      <td>1260759191</td>\n",
       "    </tr>\n",
       "    <tr>\n",
       "      <th>3</th>\n",
       "      <td>1</td>\n",
       "      <td>2455</td>\n",
       "      <td>2.5</td>\n",
       "      <td>1260759113</td>\n",
       "    </tr>\n",
       "    <tr>\n",
       "      <th>4</th>\n",
       "      <td>1</td>\n",
       "      <td>3671</td>\n",
       "      <td>3.0</td>\n",
       "      <td>1260759117</td>\n",
       "    </tr>\n",
       "  </tbody>\n",
       "</table>\n",
       "</div>"
      ],
      "text/plain": [
       "   userId  movieId  rating   timestamp\n",
       "0       1     1339     3.5  1260759125\n",
       "1       1     1343     2.0  1260759131\n",
       "2       1     1953     4.0  1260759191\n",
       "3       1     2455     2.5  1260759113\n",
       "4       1     3671     3.0  1260759117"
      ]
     },
     "execution_count": 3,
     "metadata": {},
     "output_type": "execute_result"
    }
   ],
   "source": [
    "df_movie_ratings = pd.read_csv('/home/ignacio/Datasets/Graph analysis/ml-ratings.csv')\n",
    "df_movie_ratings.head()"
   ]
  },
  {
   "cell_type": "code",
   "execution_count": 5,
   "metadata": {
    "collapsed": false
   },
   "outputs": [],
   "source": [
    "ids = (df_movie_ratings[df_movie_ratings['userId'] == 1]['movieId']).tolist()"
   ]
  },
  {
   "cell_type": "code",
   "execution_count": 6,
   "metadata": {
    "collapsed": false
   },
   "outputs": [
    {
     "data": {
      "text/plain": [
       "[1339, 1343, 1953, 2455, 3671]"
      ]
     },
     "execution_count": 6,
     "metadata": {},
     "output_type": "execute_result"
    }
   ],
   "source": [
    "ids"
   ]
  },
  {
   "cell_type": "markdown",
   "metadata": {},
   "source": [
    "#### Define movie rated by user 1 (example)"
   ]
  },
  {
   "cell_type": "code",
   "execution_count": 7,
   "metadata": {
    "collapsed": false
   },
   "outputs": [
    {
     "data": {
      "text/html": [
       "<div>\n",
       "<style>\n",
       "    .dataframe thead tr:only-child th {\n",
       "        text-align: right;\n",
       "    }\n",
       "\n",
       "    .dataframe thead th {\n",
       "        text-align: left;\n",
       "    }\n",
       "\n",
       "    .dataframe tbody tr th {\n",
       "        vertical-align: top;\n",
       "    }\n",
       "</style>\n",
       "<table border=\"1\" class=\"dataframe\">\n",
       "  <thead>\n",
       "    <tr style=\"text-align: right;\">\n",
       "      <th></th>\n",
       "      <th>movieId</th>\n",
       "      <th>title</th>\n",
       "      <th>year</th>\n",
       "      <th>genres</th>\n",
       "      <th>director</th>\n",
       "      <th>valid</th>\n",
       "    </tr>\n",
       "  </thead>\n",
       "  <tbody>\n",
       "    <tr>\n",
       "      <th>75</th>\n",
       "      <td>1339</td>\n",
       "      <td>Dracula</td>\n",
       "      <td>1992</td>\n",
       "      <td>fantasy|horror|romance|thriller</td>\n",
       "      <td>Philip Saville, Francis Ford Coppola, Mel Brooks</td>\n",
       "      <td>True</td>\n",
       "    </tr>\n",
       "    <tr>\n",
       "      <th>76</th>\n",
       "      <td>1343</td>\n",
       "      <td>Cape Fear</td>\n",
       "      <td>1991</td>\n",
       "      <td>thriller</td>\n",
       "      <td>Martin Scorsese, J. Lee Thompson</td>\n",
       "      <td>True</td>\n",
       "    </tr>\n",
       "    <tr>\n",
       "      <th>109</th>\n",
       "      <td>1953</td>\n",
       "      <td>The French Connection</td>\n",
       "      <td>1971</td>\n",
       "      <td>action|crime|thriller</td>\n",
       "      <td>William Friedkin</td>\n",
       "      <td>True</td>\n",
       "    </tr>\n",
       "    <tr>\n",
       "      <th>144</th>\n",
       "      <td>2455</td>\n",
       "      <td>The Fly</td>\n",
       "      <td>1986</td>\n",
       "      <td>drama|horror|sci-fi|thriller</td>\n",
       "      <td>David Cronenberg, Kurt Neumann, Chris Walas</td>\n",
       "      <td>True</td>\n",
       "    </tr>\n",
       "    <tr>\n",
       "      <th>214</th>\n",
       "      <td>3671</td>\n",
       "      <td>Blazing Saddles</td>\n",
       "      <td>1974</td>\n",
       "      <td>comedy|western</td>\n",
       "      <td>Mel Brooks</td>\n",
       "      <td>True</td>\n",
       "    </tr>\n",
       "  </tbody>\n",
       "</table>\n",
       "</div>"
      ],
      "text/plain": [
       "     movieId                  title  year                           genres  \\\n",
       "75      1339                Dracula  1992  fantasy|horror|romance|thriller   \n",
       "76      1343              Cape Fear  1991                         thriller   \n",
       "109     1953  The French Connection  1971            action|crime|thriller   \n",
       "144     2455                The Fly  1986     drama|horror|sci-fi|thriller   \n",
       "214     3671        Blazing Saddles  1974                   comedy|western   \n",
       "\n",
       "                                             director  valid  \n",
       "75   Philip Saville, Francis Ford Coppola, Mel Brooks   True  \n",
       "76                   Martin Scorsese, J. Lee Thompson   True  \n",
       "109                                  William Friedkin   True  \n",
       "144       David Cronenberg, Kurt Neumann, Chris Walas   True  \n",
       "214                                        Mel Brooks   True  "
      ]
     },
     "execution_count": 7,
     "metadata": {},
     "output_type": "execute_result"
    }
   ],
   "source": [
    "df_movies_rated = df_ml_movies[df_ml_movies['movieId'].isin(ids)]\n",
    "df_movies_rated"
   ]
  },
  {
   "cell_type": "code",
   "execution_count": 8,
   "metadata": {
    "collapsed": false
   },
   "outputs": [
    {
     "data": {
      "text/html": [
       "<div>\n",
       "<style>\n",
       "    .dataframe thead tr:only-child th {\n",
       "        text-align: right;\n",
       "    }\n",
       "\n",
       "    .dataframe thead th {\n",
       "        text-align: left;\n",
       "    }\n",
       "\n",
       "    .dataframe tbody tr th {\n",
       "        vertical-align: top;\n",
       "    }\n",
       "</style>\n",
       "<table border=\"1\" class=\"dataframe\">\n",
       "  <thead>\n",
       "    <tr style=\"text-align: right;\">\n",
       "      <th></th>\n",
       "      <th>userId</th>\n",
       "      <th>movieId</th>\n",
       "      <th>rating</th>\n",
       "      <th>timestamp</th>\n",
       "    </tr>\n",
       "  </thead>\n",
       "  <tbody>\n",
       "    <tr>\n",
       "      <th>0</th>\n",
       "      <td>1</td>\n",
       "      <td>1339</td>\n",
       "      <td>3.5</td>\n",
       "      <td>1260759125</td>\n",
       "    </tr>\n",
       "    <tr>\n",
       "      <th>1</th>\n",
       "      <td>1</td>\n",
       "      <td>1343</td>\n",
       "      <td>2.0</td>\n",
       "      <td>1260759131</td>\n",
       "    </tr>\n",
       "    <tr>\n",
       "      <th>2</th>\n",
       "      <td>1</td>\n",
       "      <td>1953</td>\n",
       "      <td>4.0</td>\n",
       "      <td>1260759191</td>\n",
       "    </tr>\n",
       "    <tr>\n",
       "      <th>3</th>\n",
       "      <td>1</td>\n",
       "      <td>2455</td>\n",
       "      <td>2.5</td>\n",
       "      <td>1260759113</td>\n",
       "    </tr>\n",
       "    <tr>\n",
       "      <th>4</th>\n",
       "      <td>1</td>\n",
       "      <td>3671</td>\n",
       "      <td>3.0</td>\n",
       "      <td>1260759117</td>\n",
       "    </tr>\n",
       "  </tbody>\n",
       "</table>\n",
       "</div>"
      ],
      "text/plain": [
       "   userId  movieId  rating   timestamp\n",
       "0       1     1339     3.5  1260759125\n",
       "1       1     1343     2.0  1260759131\n",
       "2       1     1953     4.0  1260759191\n",
       "3       1     2455     2.5  1260759113\n",
       "4       1     3671     3.0  1260759117"
      ]
     },
     "execution_count": 8,
     "metadata": {},
     "output_type": "execute_result"
    }
   ],
   "source": [
    "df_ratings_user = df_movie_ratings[df_movie_ratings['userId'] == 1]\n",
    "df_ratings_user"
   ]
  },
  {
   "cell_type": "code",
   "execution_count": 9,
   "metadata": {
    "collapsed": false
   },
   "outputs": [
    {
     "data": {
      "text/html": [
       "<div>\n",
       "<style>\n",
       "    .dataframe thead tr:only-child th {\n",
       "        text-align: right;\n",
       "    }\n",
       "\n",
       "    .dataframe thead th {\n",
       "        text-align: left;\n",
       "    }\n",
       "\n",
       "    .dataframe tbody tr th {\n",
       "        vertical-align: top;\n",
       "    }\n",
       "</style>\n",
       "<table border=\"1\" class=\"dataframe\">\n",
       "  <thead>\n",
       "    <tr style=\"text-align: right;\">\n",
       "      <th></th>\n",
       "      <th>userId</th>\n",
       "      <th>movieId</th>\n",
       "      <th>rating</th>\n",
       "      <th>title</th>\n",
       "      <th>director</th>\n",
       "    </tr>\n",
       "  </thead>\n",
       "  <tbody>\n",
       "    <tr>\n",
       "      <th>0</th>\n",
       "      <td>1</td>\n",
       "      <td>1339</td>\n",
       "      <td>3.5</td>\n",
       "      <td>Dracula</td>\n",
       "      <td>Philip Saville, Francis Ford Coppola, Mel Brooks</td>\n",
       "    </tr>\n",
       "    <tr>\n",
       "      <th>1</th>\n",
       "      <td>1</td>\n",
       "      <td>1343</td>\n",
       "      <td>2.0</td>\n",
       "      <td>Cape Fear</td>\n",
       "      <td>Martin Scorsese, J. Lee Thompson</td>\n",
       "    </tr>\n",
       "    <tr>\n",
       "      <th>2</th>\n",
       "      <td>1</td>\n",
       "      <td>1953</td>\n",
       "      <td>4.0</td>\n",
       "      <td>The French Connection</td>\n",
       "      <td>William Friedkin</td>\n",
       "    </tr>\n",
       "    <tr>\n",
       "      <th>3</th>\n",
       "      <td>1</td>\n",
       "      <td>2455</td>\n",
       "      <td>2.5</td>\n",
       "      <td>The Fly</td>\n",
       "      <td>David Cronenberg, Kurt Neumann, Chris Walas</td>\n",
       "    </tr>\n",
       "    <tr>\n",
       "      <th>4</th>\n",
       "      <td>1</td>\n",
       "      <td>3671</td>\n",
       "      <td>3.0</td>\n",
       "      <td>Blazing Saddles</td>\n",
       "      <td>Mel Brooks</td>\n",
       "    </tr>\n",
       "  </tbody>\n",
       "</table>\n",
       "</div>"
      ],
      "text/plain": [
       "   userId  movieId  rating                  title  \\\n",
       "0       1     1339     3.5                Dracula   \n",
       "1       1     1343     2.0              Cape Fear   \n",
       "2       1     1953     4.0  The French Connection   \n",
       "3       1     2455     2.5                The Fly   \n",
       "4       1     3671     3.0        Blazing Saddles   \n",
       "\n",
       "                                           director  \n",
       "0  Philip Saville, Francis Ford Coppola, Mel Brooks  \n",
       "1                  Martin Scorsese, J. Lee Thompson  \n",
       "2                                  William Friedkin  \n",
       "3       David Cronenberg, Kurt Neumann, Chris Walas  \n",
       "4                                        Mel Brooks  "
      ]
     },
     "execution_count": 9,
     "metadata": {},
     "output_type": "execute_result"
    }
   ],
   "source": [
    "df_ratings_user = pd.merge(df_ratings_user[['userId','movieId', 'rating']], df_movies_rated[['movieId', 'title', 'director']], right_on='movieId', left_on='movieId')\n",
    "df_ratings_user"
   ]
  },
  {
   "cell_type": "code",
   "execution_count": 10,
   "metadata": {
    "collapsed": true
   },
   "outputs": [],
   "source": [
    "df_ratings_user.to_csv('/home/ignacio/Datasets/Graph analysis/Recommendation/rating_user_example.csv', index=False)"
   ]
  },
  {
   "cell_type": "markdown",
   "metadata": {},
   "source": [
    "#### Define vector user space (from movies)"
   ]
  },
  {
   "cell_type": "code",
   "execution_count": null,
   "metadata": {
    "collapsed": false
   },
   "outputs": [],
   "source": [
    "item_profiles_list = []\n",
    "for i in ids: \n",
    "    idx = df_ml_movies.index[df_ml_movies['movieId']==i].tolist()[0]\n",
    "    item_profiles_list.append(tf_idf_matrix[idx:idx+1])\n",
    "item_profiles_list"
   ]
  },
  {
   "cell_type": "code",
   "execution_count": null,
   "metadata": {
    "collapsed": false
   },
   "outputs": [],
   "source": [
    "item_profiles = scipy.sparse.vstack(item_profiles_list)\n",
    "item_profiles"
   ]
  },
  {
   "cell_type": "code",
   "execution_count": null,
   "metadata": {
    "collapsed": false
   },
   "outputs": [],
   "source": [
    "ratings = (df_movie_ratings[df_movie_ratings['userId'] == 1]['rating']).reshape(-1,1)\n",
    "ratings"
   ]
  },
  {
   "cell_type": "code",
   "execution_count": null,
   "metadata": {
    "collapsed": false
   },
   "outputs": [],
   "source": [
    "from sklearn.preprocessing import normalize\n",
    "\n",
    "user_item_weighted_avg = np.sum(item_profiles.multiply(ratings), axis=0) / np.sum(ratings)\n",
    "user_profile_norm = normalize(user_item_weighted_avg)\n",
    "user_profile_norm"
   ]
  },
  {
   "cell_type": "code",
   "execution_count": null,
   "metadata": {
    "collapsed": false
   },
   "outputs": [],
   "source": [
    "user_profile_norm.shape"
   ]
  },
  {
   "cell_type": "code",
   "execution_count": null,
   "metadata": {
    "collapsed": true
   },
   "outputs": [],
   "source": [
    "users_profiles = [user_item_weighted_avg, user_profile_norm]"
   ]
  },
  {
   "cell_type": "code",
   "execution_count": null,
   "metadata": {
    "collapsed": false
   },
   "outputs": [],
   "source": [
    "np.stack(users_profiles)"
   ]
  },
  {
   "cell_type": "code",
   "execution_count": null,
   "metadata": {
    "collapsed": false
   },
   "outputs": [],
   "source": [
    "user_profile_norm.shape"
   ]
  },
  {
   "cell_type": "code",
   "execution_count": null,
   "metadata": {
    "collapsed": false
   },
   "outputs": [],
   "source": [
    "df_feature_name = pd.DataFrame(tfidf.get_feature_names(), columns=['feature name'])\n",
    "df_feature_name.head()"
   ]
  },
  {
   "cell_type": "code",
   "execution_count": null,
   "metadata": {
    "collapsed": false
   },
   "outputs": [],
   "source": [
    "df_user_item_space = pd.DataFrame(user_profile_norm)\n",
    "df_user_item_space = df_user_item_space.transpose()\n",
    "df_user_item_space.head()"
   ]
  },
  {
   "cell_type": "code",
   "execution_count": null,
   "metadata": {
    "collapsed": false
   },
   "outputs": [],
   "source": [
    "len(df_feature_name)"
   ]
  },
  {
   "cell_type": "code",
   "execution_count": null,
   "metadata": {
    "collapsed": false
   },
   "outputs": [],
   "source": [
    "#df_user_item_space = df_user_item_space.rename(index= str, columns = {0:'tfidf'})\n",
    "df_feature_name['tfidf'] = df_user_item_space[0]\n",
    "df_user_item_space = df_feature_name\n",
    "df_user_item_space.head()"
   ]
  },
  {
   "cell_type": "code",
   "execution_count": null,
   "metadata": {
    "collapsed": false
   },
   "outputs": [],
   "source": [
    "df_user_item_space['feature name'] = df_user_item_space['feature name'].apply( lambda x : directors_dict[x] if x in directors_dict.keys() else x )\n",
    "df_user_item_space.head(10)"
   ]
  },
  {
   "cell_type": "code",
   "execution_count": null,
   "metadata": {
    "collapsed": true
   },
   "outputs": [],
   "source": [
    "df_user_item_space.to_csv('/home/ignacio/Datasets/Graph analysis/user_item_space.csv', index=False)"
   ]
  },
  {
   "cell_type": "markdown",
   "metadata": {},
   "source": [
    "## Influence path"
   ]
  },
  {
   "cell_type": "markdown",
   "metadata": {},
   "source": [
    "#### Book to movie - space "
   ]
  },
  {
   "cell_type": "code",
   "execution_count": null,
   "metadata": {
    "collapsed": false
   },
   "outputs": [],
   "source": [
    "df_pride.head()"
   ]
  },
  {
   "cell_type": "code",
   "execution_count": null,
   "metadata": {
    "collapsed": false
   },
   "outputs": [],
   "source": [
    "directors_influence_pride = directors.copy()\n",
    "directors_influence_pride = directors_influence_pride.reset_index(drop=True)\n",
    "directors_influence_pride.head()"
   ]
  },
  {
   "cell_type": "code",
   "execution_count": null,
   "metadata": {
    "collapsed": false
   },
   "outputs": [],
   "source": [
    "directors_influence_pride['short path'] = directors_influence_pride['director'].apply(lambda x : nx.shortest_path_length(G=g_artist, source=x, target=df_bx_book.iloc[4]['Book-Author']) if g_artist.has_node(x) else -1) \n",
    "directors_influence_pride.head()"
   ]
  },
  {
   "cell_type": "code",
   "execution_count": null,
   "metadata": {
    "collapsed": false
   },
   "outputs": [],
   "source": [
    "directors_influence_pride = directors_influence_pride.set_index('director')\n",
    "directors_influence_proof = directors_influence_pride.head()\n",
    "directors_influence_proof.head()"
   ]
  },
  {
   "cell_type": "code",
   "execution_count": null,
   "metadata": {
    "collapsed": false
   },
   "outputs": [],
   "source": [
    "directors_influence_proof"
   ]
  },
  {
   "cell_type": "code",
   "execution_count": null,
   "metadata": {
    "collapsed": false
   },
   "outputs": [],
   "source": [
    "type(directors_influence_pride.loc['John Lasseter']['short path'])"
   ]
  },
  {
   "cell_type": "code",
   "execution_count": null,
   "metadata": {
    "collapsed": false
   },
   "outputs": [],
   "source": [
    "df_pride['tfidf'] = df_pride.apply(lambda row : 1.0/(directors_influence_pride.loc[row['feature name']]['short path']) if (row['feature name'] in directors_influence_pride.index) else row['tfidf'], axis= 1 )\n",
    "df_pride.head()"
   ]
  },
  {
   "cell_type": "code",
   "execution_count": null,
   "metadata": {
    "collapsed": false
   },
   "outputs": [],
   "source": [
    "df_pride['tfidf'] = df_pride['tfidf'].replace(-1.0, 0.0)\n",
    "df_pride.head()"
   ]
  },
  {
   "cell_type": "code",
   "execution_count": null,
   "metadata": {
    "collapsed": false
   },
   "outputs": [],
   "source": [
    "df_pride[df_pride['feature name'] == 'John Lasseter']"
   ]
  },
  {
   "cell_type": "code",
   "execution_count": null,
   "metadata": {
    "collapsed": false
   },
   "outputs": [],
   "source": [
    "tfidf_pride = df_pride['tfidf'].as_matrix()"
   ]
  },
  {
   "cell_type": "code",
   "execution_count": null,
   "metadata": {
    "collapsed": false
   },
   "outputs": [],
   "source": [
    "scipy.sparse.csr_matrix(tfidf_pride)"
   ]
  },
  {
   "cell_type": "code",
   "execution_count": null,
   "metadata": {
    "collapsed": true
   },
   "outputs": [],
   "source": [
    "df_pride.to_csv('/home/ignacio/Datasets/Graph analysis/pride_space.csv', index=False)"
   ]
  },
  {
   "cell_type": "markdown",
   "metadata": {},
   "source": [
    "#### User to book-space"
   ]
  },
  {
   "cell_type": "code",
   "execution_count": null,
   "metadata": {
    "collapsed": false
   },
   "outputs": [],
   "source": [
    "df_user_item_space.head()"
   ]
  },
  {
   "cell_type": "code",
   "execution_count": null,
   "metadata": {
    "collapsed": false
   },
   "outputs": [],
   "source": [
    "directors.head()"
   ]
  },
  {
   "cell_type": "code",
   "execution_count": null,
   "metadata": {
    "collapsed": false
   },
   "outputs": [],
   "source": [
    "len(directors)"
   ]
  },
  {
   "cell_type": "code",
   "execution_count": null,
   "metadata": {
    "collapsed": false
   },
   "outputs": [],
   "source": [
    "directors.loc['']"
   ]
  },
  {
   "cell_type": "code",
   "execution_count": null,
   "metadata": {
    "collapsed": false
   },
   "outputs": [],
   "source": [
    "len(df_user_item_space)"
   ]
  },
  {
   "cell_type": "code",
   "execution_count": null,
   "metadata": {
    "collapsed": false
   },
   "outputs": [],
   "source": [
    "len(df_authors)"
   ]
  },
  {
   "cell_type": "code",
   "execution_count": null,
   "metadata": {
    "collapsed": false
   },
   "outputs": [],
   "source": [
    "df_authors_shortest_path = pd.DataFrame(df_authors['author'], columns=['author'])\n",
    "df_authors_shortest_path = df_authors_shortest_path.reset_index(drop=True)\n",
    "df_authors_shortest_path.head()"
   ]
  },
  {
   "cell_type": "code",
   "execution_count": null,
   "metadata": {
    "collapsed": true
   },
   "outputs": [],
   "source": [
    "def tfidf_author(x, df_feature):\n",
    "    df = df_feature.copy()\n",
    "    df['shortest path'] = df.apply(lambda row : row['tfidf']* 1./(nx.shortest_path_length(G=g_artist, source=x, target=row['feature name'])) if g_artist.has_node(row['feature name']) and row['tfidf']!= 0.0 else 0.0, axis= 1 )\n",
    "    return df['shortest path'].sum()"
   ]
  },
  {
   "cell_type": "code",
   "execution_count": null,
   "metadata": {
    "collapsed": false
   },
   "outputs": [],
   "source": [
    "df_authors_shortest_path['tfidf'] = df_authors_shortest_path['author'].apply(tfidf_author, df_feature=df_user_item_space)\n",
    "df_authors_shortest_path.head()"
   ]
  },
  {
   "cell_type": "code",
   "execution_count": null,
   "metadata": {
    "collapsed": false
   },
   "outputs": [],
   "source": [
    "len(df_authors_shortest_path)"
   ]
  },
  {
   "cell_type": "code",
   "execution_count": null,
   "metadata": {
    "collapsed": false
   },
   "outputs": [],
   "source": [
    "df_user_item_space_without_directors = df_user_item_space[~df_user_item_space['feature name'].isin(directors['director'])]\n",
    "len(df_user_item_space_without_directors)"
   ]
  },
  {
   "cell_type": "code",
   "execution_count": null,
   "metadata": {
    "collapsed": false
   },
   "outputs": [],
   "source": [
    "df_authors_shortest_path = df_authors_shortest_path.rename(index=str, columns={'author': 'feature name'})\n",
    "df_authors_shortest_path.head()"
   ]
  },
  {
   "cell_type": "code",
   "execution_count": null,
   "metadata": {
    "collapsed": false
   },
   "outputs": [],
   "source": [
    "df_user_item_space_book = pd.concat([df_authors_shortest_path, df_user_item_space_without_directors])\n",
    "df_user_item_space_book.head()"
   ]
  },
  {
   "cell_type": "code",
   "execution_count": null,
   "metadata": {
    "collapsed": false
   },
   "outputs": [],
   "source": [
    "len(df_user_item_space_book)"
   ]
  },
  {
   "cell_type": "code",
   "execution_count": null,
   "metadata": {
    "collapsed": false
   },
   "outputs": [],
   "source": [
    "tfidf_user_matrix = df_user_item_space_book['tfidf'].as_matrix()\n",
    "tfidf_user_matrix"
   ]
  },
  {
   "cell_type": "code",
   "execution_count": null,
   "metadata": {
    "collapsed": false
   },
   "outputs": [],
   "source": [
    "tfidf_user_matrix.reshape((1, -1)).shape"
   ]
  },
  {
   "cell_type": "code",
   "execution_count": null,
   "metadata": {
    "collapsed": false
   },
   "outputs": [],
   "source": [
    "tfidf_user_matrix.shape"
   ]
  },
  {
   "cell_type": "markdown",
   "metadata": {},
   "source": [
    "## Content Based recomendation"
   ]
  },
  {
   "cell_type": "code",
   "execution_count": null,
   "metadata": {
    "collapsed": true
   },
   "outputs": [],
   "source": [
    "from sklearn.metrics.pairwise import  cosine_similarity"
   ]
  },
  {
   "cell_type": "code",
   "execution_count": null,
   "metadata": {
    "collapsed": false
   },
   "outputs": [],
   "source": [
    "sim = cosine_similarity(user_profile_norm, tf_idf_matrix)\n",
    "sim_index = sim.argsort().flatten()[-100:]\n",
    "sim_index"
   ]
  },
  {
   "cell_type": "code",
   "execution_count": null,
   "metadata": {
    "collapsed": false
   },
   "outputs": [],
   "source": [
    "similar_items = sorted([(df_ml_movies.iloc[i]['movieId'], sim[0,i]) for i in sim_index], key=lambda x: -x[1])\n",
    "df_recommendation = pd.DataFrame(similar_items, columns=['id', 'similarity'])\n",
    "df_recommendation.head()"
   ]
  },
  {
   "cell_type": "code",
   "execution_count": null,
   "metadata": {
    "collapsed": false
   },
   "outputs": [],
   "source": [
    "len(df_recommendation)"
   ]
  },
  {
   "cell_type": "code",
   "execution_count": null,
   "metadata": {
    "collapsed": false
   },
   "outputs": [],
   "source": [
    "df_recommendation = pd.merge(df_recommendation, df_ml_movies, how='left', left_on='id', right_on='movieId')\n",
    "df_recommendation = df_recommendation[['movieId', 'title', 'year', 'genres', 'director', 'similarity']]\n",
    "df_recommendation.head()"
   ]
  },
  {
   "cell_type": "code",
   "execution_count": null,
   "metadata": {
    "collapsed": false
   },
   "outputs": [],
   "source": [
    "df_recommendation.columns"
   ]
  },
  {
   "cell_type": "code",
   "execution_count": null,
   "metadata": {
    "collapsed": false
   },
   "outputs": [],
   "source": [
    "df_data_recommendation = df_ml_movies[['movieId','title','genres','director']][df_ml_movies['movieId'].isin(df_recommendation['id'])]\n",
    "df_data_recommendation.head()"
   ]
  },
  {
   "cell_type": "code",
   "execution_count": null,
   "metadata": {
    "collapsed": false
   },
   "outputs": [],
   "source": [
    "len(df_data_recommendation)"
   ]
  },
  {
   "cell_type": "code",
   "execution_count": null,
   "metadata": {
    "collapsed": false
   },
   "outputs": [],
   "source": [
    "df_ml_movies.iloc[sim_index[10]]['movieId']"
   ]
  },
  {
   "cell_type": "markdown",
   "metadata": {},
   "source": [
    "## Cross Content Based recommendation"
   ]
  },
  {
   "cell_type": "code",
   "execution_count": null,
   "metadata": {
    "collapsed": false
   },
   "outputs": [],
   "source": [
    "tfid_matrix_book = scipy.sparse.load_npz('/home/ignacio/Datasets/Graph analysis/tfidf_matrix_target.npz')\n",
    "tfid_matrix_book"
   ]
  },
  {
   "cell_type": "code",
   "execution_count": null,
   "metadata": {
    "collapsed": false
   },
   "outputs": [],
   "source": [
    "sim_book = cosine_similarity(user_profile_norm, tfid_matrix_book)\n",
    "sim_book_index = sim_book.argsort().flatten()[-100:]\n",
    "sim_book_index"
   ]
  },
  {
   "cell_type": "code",
   "execution_count": null,
   "metadata": {
    "collapsed": false
   },
   "outputs": [],
   "source": [
    "similar_book_items = sorted([(df_bx_book.iloc[i]['ISBN'], sim_book[0,i]) for i in sim_book_index], key=lambda x: -x[1])\n",
    "df_book_recommendation = pd.DataFrame(similar_book_items, columns=['ISBN', 'similarity'])\n",
    "df_book_recommendation.head()"
   ]
  },
  {
   "cell_type": "code",
   "execution_count": null,
   "metadata": {
    "collapsed": false
   },
   "outputs": [],
   "source": [
    "df_book_recommendation = pd.merge(df_book_recommendation, df_bx_book, how='left', left_on='ISBN', right_on='ISBN')\n",
    "df_book_recommendation.head()"
   ]
  },
  {
   "cell_type": "code",
   "execution_count": null,
   "metadata": {
    "collapsed": false
   },
   "outputs": [],
   "source": [
    "df_book_recommendation = df_book_recommendation[['ISBN', 'Book-Title', 'Book-Author', 'Year-Of-Publication', 'shelves', 'similarity']]\n",
    "df_book_recommendation.head(10)"
   ]
  },
  {
   "cell_type": "markdown",
   "metadata": {},
   "source": [
    "## Target recommendation filtering"
   ]
  },
  {
   "cell_type": "markdown",
   "metadata": {},
   "source": [
    "#### Book to origen space"
   ]
  },
  {
   "cell_type": "code",
   "execution_count": null,
   "metadata": {
    "collapsed": false
   },
   "outputs": [],
   "source": [
    "df_recommendation_book_to_origen = pd.read_csv('/home/ignacio/Datasets/Graph analysis/Recommendation/recommendation_book_to_origen_space.csv' )\n",
    "df_recommendation_book_to_origen.head()"
   ]
  },
  {
   "cell_type": "code",
   "execution_count": null,
   "metadata": {
    "collapsed": false
   },
   "outputs": [],
   "source": [
    "df_recommendation_book_to_origen = df_recommendation_book_to_origen.drop(['Unnamed: 0'], axis=1)\n",
    "df_recommendation_book_to_origen.head()"
   ]
  },
  {
   "cell_type": "code",
   "execution_count": null,
   "metadata": {
    "collapsed": false
   },
   "outputs": [],
   "source": [
    "df_recommendation_book_to_origen = df_recommendation_book_to_origen.drop([1,9], axis=0)\n",
    "df_recommendation_book_to_origen.head(10)"
   ]
  },
  {
   "cell_type": "code",
   "execution_count": null,
   "metadata": {
    "collapsed": true
   },
   "outputs": [],
   "source": [
    "df_recommendation_book_to_origen.head(10).to_csv('/home/ignacio/Datasets/Graph analysis/Recommendation/recommendation_book_to_origen_space_cleaned.csv', index=False )"
   ]
  },
  {
   "cell_type": "markdown",
   "metadata": {},
   "source": [
    "#### User to target space"
   ]
  },
  {
   "cell_type": "code",
   "execution_count": null,
   "metadata": {
    "collapsed": false
   },
   "outputs": [],
   "source": [
    "df_recommendation_target_space = pd.read_csv('/home/ignacio/Datasets/Graph analysis/Recommendation/recommendation_user_to_target_space.csv' )\n",
    "df_recommendation_target_space.head(10)"
   ]
  },
  {
   "cell_type": "code",
   "execution_count": null,
   "metadata": {
    "collapsed": false
   },
   "outputs": [],
   "source": [
    "df_recommendation_target_space = df_recommendation_target_space.drop(['Unnamed: 0'], axis=1)\n",
    "df_recommendation_target_space.head()"
   ]
  },
  {
   "cell_type": "code",
   "execution_count": null,
   "metadata": {
    "collapsed": false
   },
   "outputs": [],
   "source": [
    "df_recommendation_target_space = df_recommendation_target_space.drop([1,2,3,4,5,6,11], axis=0)\n",
    "df_recommendation_target_space.head(10)"
   ]
  },
  {
   "cell_type": "code",
   "execution_count": null,
   "metadata": {
    "collapsed": true
   },
   "outputs": [],
   "source": [
    "df_recommendation_target_space.head(10).to_csv('/home/ignacio/Datasets/Graph analysis/Recommendation/recommendation_user_to_target_space_cleaned.csv', index=False )"
   ]
  }
 ],
 "metadata": {
  "kernelspec": {
   "display_name": "Python 3",
   "language": "python",
   "name": "python3"
  },
  "language_info": {
   "codemirror_mode": {
    "name": "ipython",
    "version": 3
   },
   "file_extension": ".py",
   "mimetype": "text/x-python",
   "name": "python",
   "nbconvert_exporter": "python",
   "pygments_lexer": "ipython3",
   "version": "3.5.2"
  }
 },
 "nbformat": 4,
 "nbformat_minor": 2
}
