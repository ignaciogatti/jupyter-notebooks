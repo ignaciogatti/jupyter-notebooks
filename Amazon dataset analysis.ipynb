{
 "cells": [
  {
   "cell_type": "code",
   "execution_count": 2,
   "metadata": {
    "collapsed": true
   },
   "outputs": [],
   "source": [
    "import pandas as pd\n",
    "import numpy as np\n",
    "import math"
   ]
  },
  {
   "cell_type": "code",
   "execution_count": null,
   "metadata": {
    "collapsed": false
   },
   "outputs": [],
   "source": [
    "import pandas as pd \n",
    "import gzip \n",
    "\n",
    "def parse(path): \n",
    "    g = gzip.open(path, 'rb') \n",
    "    for l in g: \n",
    "        yield eval(l) \n",
    "\n",
    "def getDF(path): \n",
    "    i = 0 \n",
    "    df = {} \n",
    "    for d in parse(path): \n",
    "        df[i] = d \n",
    "        i += 1 \n",
    "    return pd.DataFrame.from_dict(df, orient='index') \n"
   ]
  },
  {
   "cell_type": "markdown",
   "metadata": {},
   "source": [
    "## Amazon Movie data"
   ]
  },
  {
   "cell_type": "markdown",
   "metadata": {},
   "source": [
    "#### Save json.gz as csv"
   ]
  },
  {
   "cell_type": "code",
   "execution_count": null,
   "metadata": {
    "collapsed": true
   },
   "outputs": [],
   "source": [
    "df_movie_data = getDF('/home/ignacio/Datasets/Amazon/meta_Movies_and_TV.json.gz')\n",
    "df_movie_data.head()"
   ]
  },
  {
   "cell_type": "code",
   "execution_count": null,
   "metadata": {
    "collapsed": false
   },
   "outputs": [],
   "source": [
    "len(df_movie_data)"
   ]
  },
  {
   "cell_type": "code",
   "execution_count": null,
   "metadata": {
    "collapsed": true
   },
   "outputs": [],
   "source": [
    "df_movie_data.to_csv('/home/ignacio/Datasets/Amazon/movie_meta.csv', index=False)"
   ]
  },
  {
   "cell_type": "markdown",
   "metadata": {},
   "source": [
    "### Clean data: intersect with movies in ml"
   ]
  },
  {
   "cell_type": "code",
   "execution_count": 3,
   "metadata": {
    "collapsed": false
   },
   "outputs": [
    {
     "name": "stderr",
     "output_type": "stream",
     "text": [
      "/usr/local/lib/python3.5/dist-packages/IPython/core/interactiveshell.py:2698: DtypeWarning: Columns (4,8) have mixed types. Specify dtype option on import or set low_memory=False.\n",
      "  interactivity=interactivity, compiler=compiler, result=result)\n"
     ]
    },
    {
     "data": {
      "text/html": [
       "<div>\n",
       "<style>\n",
       "    .dataframe thead tr:only-child th {\n",
       "        text-align: right;\n",
       "    }\n",
       "\n",
       "    .dataframe thead th {\n",
       "        text-align: left;\n",
       "    }\n",
       "\n",
       "    .dataframe tbody tr th {\n",
       "        vertical-align: top;\n",
       "    }\n",
       "</style>\n",
       "<table border=\"1\" class=\"dataframe\">\n",
       "  <thead>\n",
       "    <tr style=\"text-align: right;\">\n",
       "      <th></th>\n",
       "      <th>asin</th>\n",
       "      <th>salesRank</th>\n",
       "      <th>categories</th>\n",
       "      <th>description</th>\n",
       "      <th>title</th>\n",
       "      <th>related</th>\n",
       "      <th>price</th>\n",
       "      <th>imUrl</th>\n",
       "      <th>brand</th>\n",
       "    </tr>\n",
       "  </thead>\n",
       "  <tbody>\n",
       "    <tr>\n",
       "      <th>0</th>\n",
       "      <td>0000143561</td>\n",
       "      <td>{'Movies &amp; TV': 376041}</td>\n",
       "      <td>[['Movies &amp; TV', 'Movies']]</td>\n",
       "      <td>3Pack DVD set - Italian Classics, Parties and ...</td>\n",
       "      <td>Everyday Italian (with Giada de Laurentiis), V...</td>\n",
       "      <td>{'buy_after_viewing': ['B0036FO6SI', 'B000KL8O...</td>\n",
       "      <td>12.99</td>\n",
       "      <td>http://g-ecx.images-amazon.com/images/G/01/x-s...</td>\n",
       "      <td>NaN</td>\n",
       "    </tr>\n",
       "    <tr>\n",
       "      <th>1</th>\n",
       "      <td>0000589012</td>\n",
       "      <td>{'Movies &amp; TV': 1084845}</td>\n",
       "      <td>[['Movies &amp; TV', 'Movies']]</td>\n",
       "      <td>NaN</td>\n",
       "      <td>Why Don't They Just Quit? DVD Roundtable Discu...</td>\n",
       "      <td>{'buy_after_viewing': ['B003AC98V2', 'B007VI5A...</td>\n",
       "      <td>15.95</td>\n",
       "      <td>http://ecx.images-amazon.com/images/I/519%2B1k...</td>\n",
       "      <td>NaN</td>\n",
       "    </tr>\n",
       "    <tr>\n",
       "      <th>2</th>\n",
       "      <td>0000695009</td>\n",
       "      <td>{'Movies &amp; TV': 1022732}</td>\n",
       "      <td>[['Movies &amp; TV', 'Movies']]</td>\n",
       "      <td>NaN</td>\n",
       "      <td>Understanding Seizures and Epilepsy DVD</td>\n",
       "      <td>NaN</td>\n",
       "      <td>NaN</td>\n",
       "      <td>http://g-ecx.images-amazon.com/images/G/01/x-s...</td>\n",
       "      <td>NaN</td>\n",
       "    </tr>\n",
       "    <tr>\n",
       "      <th>3</th>\n",
       "      <td>000107461X</td>\n",
       "      <td>{'Movies &amp; TV': 954116}</td>\n",
       "      <td>[['Movies &amp; TV', 'Movies']]</td>\n",
       "      <td>NaN</td>\n",
       "      <td>Live in Houston [VHS]</td>\n",
       "      <td>NaN</td>\n",
       "      <td>NaN</td>\n",
       "      <td>http://ecx.images-amazon.com/images/I/41WY47gL...</td>\n",
       "      <td>NaN</td>\n",
       "    </tr>\n",
       "    <tr>\n",
       "      <th>4</th>\n",
       "      <td>0000143529</td>\n",
       "      <td>{'Movies &amp; TV': 463562}</td>\n",
       "      <td>[['Movies &amp; TV', 'Movies']]</td>\n",
       "      <td>Disc 1: Flour Power (Scones; Shortcakes; South...</td>\n",
       "      <td>My Fair Pastry (Good Eats Vol. 9)</td>\n",
       "      <td>{'buy_after_viewing': ['B0018Y5NVI', 'B003RLLS...</td>\n",
       "      <td>19.99</td>\n",
       "      <td>http://ecx.images-amazon.com/images/I/51QY79CD...</td>\n",
       "      <td>NaN</td>\n",
       "    </tr>\n",
       "  </tbody>\n",
       "</table>\n",
       "</div>"
      ],
      "text/plain": [
       "         asin                 salesRank                   categories  \\\n",
       "0  0000143561   {'Movies & TV': 376041}  [['Movies & TV', 'Movies']]   \n",
       "1  0000589012  {'Movies & TV': 1084845}  [['Movies & TV', 'Movies']]   \n",
       "2  0000695009  {'Movies & TV': 1022732}  [['Movies & TV', 'Movies']]   \n",
       "3  000107461X   {'Movies & TV': 954116}  [['Movies & TV', 'Movies']]   \n",
       "4  0000143529   {'Movies & TV': 463562}  [['Movies & TV', 'Movies']]   \n",
       "\n",
       "                                         description  \\\n",
       "0  3Pack DVD set - Italian Classics, Parties and ...   \n",
       "1                                                NaN   \n",
       "2                                                NaN   \n",
       "3                                                NaN   \n",
       "4  Disc 1: Flour Power (Scones; Shortcakes; South...   \n",
       "\n",
       "                                               title  \\\n",
       "0  Everyday Italian (with Giada de Laurentiis), V...   \n",
       "1  Why Don't They Just Quit? DVD Roundtable Discu...   \n",
       "2            Understanding Seizures and Epilepsy DVD   \n",
       "3                              Live in Houston [VHS]   \n",
       "4                  My Fair Pastry (Good Eats Vol. 9)   \n",
       "\n",
       "                                             related  price  \\\n",
       "0  {'buy_after_viewing': ['B0036FO6SI', 'B000KL8O...  12.99   \n",
       "1  {'buy_after_viewing': ['B003AC98V2', 'B007VI5A...  15.95   \n",
       "2                                                NaN    NaN   \n",
       "3                                                NaN    NaN   \n",
       "4  {'buy_after_viewing': ['B0018Y5NVI', 'B003RLLS...  19.99   \n",
       "\n",
       "                                               imUrl brand  \n",
       "0  http://g-ecx.images-amazon.com/images/G/01/x-s...   NaN  \n",
       "1  http://ecx.images-amazon.com/images/I/519%2B1k...   NaN  \n",
       "2  http://g-ecx.images-amazon.com/images/G/01/x-s...   NaN  \n",
       "3  http://ecx.images-amazon.com/images/I/41WY47gL...   NaN  \n",
       "4  http://ecx.images-amazon.com/images/I/51QY79CD...   NaN  "
      ]
     },
     "execution_count": 3,
     "metadata": {},
     "output_type": "execute_result"
    }
   ],
   "source": [
    "df_movie_data = pd.read_csv('/home/ignacio/Datasets/Amazon/movie_meta.csv')\n",
    "df_movie_data.head()"
   ]
  },
  {
   "cell_type": "code",
   "execution_count": 4,
   "metadata": {
    "collapsed": false
   },
   "outputs": [
    {
     "data": {
      "text/plain": [
       "0    Everyday Italian (with Giada de Laurentiis), V...\n",
       "1    Why Don't They Just Quit? DVD Roundtable Discu...\n",
       "2              Understanding Seizures and Epilepsy DVD\n",
       "3                                Live in Houston [VHS]\n",
       "4                    My Fair Pastry (Good Eats Vol. 9)\n",
       "Name: title, dtype: object"
      ]
     },
     "execution_count": 4,
     "metadata": {},
     "output_type": "execute_result"
    }
   ],
   "source": [
    "amazon_titles = df_movie_data['title']\n",
    "amazon_titles = amazon_titles.dropna()\n",
    "amazon_titles = amazon_titles.drop_duplicates()\n",
    "amazon_titles.head()"
   ]
  },
  {
   "cell_type": "code",
   "execution_count": 5,
   "metadata": {
    "collapsed": false
   },
   "outputs": [
    {
     "data": {
      "text/plain": [
       "0    everyday italian (with giada de laurentiis), v...\n",
       "1    why don't they just quit?roundtable discussion...\n",
       "2                  understanding seizures and epilepsy\n",
       "3                                      live in houston\n",
       "4                    my fair pastry (good eats vol. 9)\n",
       "Name: title, dtype: object"
      ]
     },
     "execution_count": 5,
     "metadata": {},
     "output_type": "execute_result"
    }
   ],
   "source": [
    "amazon_titles = amazon_titles.str.replace(r' ?\\[VHS\\] ?', '')\n",
    "amazon_titles = amazon_titles.str.replace(r' ?DVD ?', '')\n",
    "amazon_titles =amazon_titles.str.lower()\n",
    "amazon_titles.head()"
   ]
  },
  {
   "cell_type": "code",
   "execution_count": 6,
   "metadata": {
    "collapsed": false
   },
   "outputs": [
    {
     "data": {
      "text/plain": [
       "{31515: 'toy story 2',\n",
       " 31739: 'toy story 2 (mandarin chinese edition)',\n",
       " 49289: 'toy story 2 disney read-along'}"
      ]
     },
     "execution_count": 6,
     "metadata": {},
     "output_type": "execute_result"
    }
   ],
   "source": [
    "amazon_titles[amazon_titles.str.contains('^toy story 2')].to_dict()"
   ]
  },
  {
   "cell_type": "code",
   "execution_count": 7,
   "metadata": {
    "collapsed": false
   },
   "outputs": [
    {
     "data": {
      "text/html": [
       "<div>\n",
       "<style>\n",
       "    .dataframe thead tr:only-child th {\n",
       "        text-align: right;\n",
       "    }\n",
       "\n",
       "    .dataframe thead th {\n",
       "        text-align: left;\n",
       "    }\n",
       "\n",
       "    .dataframe tbody tr th {\n",
       "        vertical-align: top;\n",
       "    }\n",
       "</style>\n",
       "<table border=\"1\" class=\"dataframe\">\n",
       "  <thead>\n",
       "    <tr style=\"text-align: right;\">\n",
       "      <th></th>\n",
       "      <th>movieId</th>\n",
       "      <th>title</th>\n",
       "      <th>year</th>\n",
       "      <th>genres</th>\n",
       "      <th>director</th>\n",
       "      <th>valid</th>\n",
       "    </tr>\n",
       "  </thead>\n",
       "  <tbody>\n",
       "    <tr>\n",
       "      <th>0</th>\n",
       "      <td>1</td>\n",
       "      <td>Toy Story</td>\n",
       "      <td>1995</td>\n",
       "      <td>adventure|animation|children|comedy|fantasy</td>\n",
       "      <td>John Lasseter, Lee Unkrich</td>\n",
       "      <td>True</td>\n",
       "    </tr>\n",
       "    <tr>\n",
       "      <th>1</th>\n",
       "      <td>7</td>\n",
       "      <td>Sabrina</td>\n",
       "      <td>1995</td>\n",
       "      <td>comedy|romance</td>\n",
       "      <td>Billy Wilder, Sydney Pollack</td>\n",
       "      <td>True</td>\n",
       "    </tr>\n",
       "    <tr>\n",
       "      <th>2</th>\n",
       "      <td>12</td>\n",
       "      <td>Dracula: Dead and Loving It</td>\n",
       "      <td>1995</td>\n",
       "      <td>comedy|horror</td>\n",
       "      <td>Mel Brooks</td>\n",
       "      <td>True</td>\n",
       "    </tr>\n",
       "    <tr>\n",
       "      <th>3</th>\n",
       "      <td>16</td>\n",
       "      <td>Casino</td>\n",
       "      <td>1995</td>\n",
       "      <td>crime|drama</td>\n",
       "      <td>Martin Scorsese, Martin Campbell</td>\n",
       "      <td>True</td>\n",
       "    </tr>\n",
       "    <tr>\n",
       "      <th>4</th>\n",
       "      <td>18</td>\n",
       "      <td>Four Rooms</td>\n",
       "      <td>1995</td>\n",
       "      <td>comedy</td>\n",
       "      <td>Allison Anders, Alexandre Rockwell, Quentin Ta...</td>\n",
       "      <td>True</td>\n",
       "    </tr>\n",
       "  </tbody>\n",
       "</table>\n",
       "</div>"
      ],
      "text/plain": [
       "   movieId                        title  year  \\\n",
       "0        1                    Toy Story  1995   \n",
       "1        7                      Sabrina  1995   \n",
       "2       12  Dracula: Dead and Loving It  1995   \n",
       "3       16                       Casino  1995   \n",
       "4       18                   Four Rooms  1995   \n",
       "\n",
       "                                        genres  \\\n",
       "0  adventure|animation|children|comedy|fantasy   \n",
       "1                               comedy|romance   \n",
       "2                                comedy|horror   \n",
       "3                                  crime|drama   \n",
       "4                                       comedy   \n",
       "\n",
       "                                            director  valid  \n",
       "0                         John Lasseter, Lee Unkrich   True  \n",
       "1                       Billy Wilder, Sydney Pollack   True  \n",
       "2                                         Mel Brooks   True  \n",
       "3                   Martin Scorsese, Martin Campbell   True  \n",
       "4  Allison Anders, Alexandre Rockwell, Quentin Ta...   True  "
      ]
     },
     "execution_count": 7,
     "metadata": {},
     "output_type": "execute_result"
    }
   ],
   "source": [
    "df_ml_movies = pd.read_csv('/home/ignacio/Datasets/Graph analysis/ml-valid-movies.csv')\n",
    "df_ml_movies.head()"
   ]
  },
  {
   "cell_type": "code",
   "execution_count": 8,
   "metadata": {
    "collapsed": false
   },
   "outputs": [
    {
     "data": {
      "text/plain": [
       "0                      toy story\n",
       "1                        sabrina\n",
       "2    dracula: dead and loving it\n",
       "3                         casino\n",
       "4                     four rooms\n",
       "Name: title, dtype: object"
      ]
     },
     "execution_count": 8,
     "metadata": {},
     "output_type": "execute_result"
    }
   ],
   "source": [
    "ml_titles = df_ml_movies['title']\n",
    "ml_titles = ml_titles.str.lower()\n",
    "ml_titles = ml_titles.drop_duplicates()\n",
    "ml_titles.head()"
   ]
  },
  {
   "cell_type": "code",
   "execution_count": 9,
   "metadata": {
    "collapsed": false
   },
   "outputs": [
    {
     "data": {
      "text/plain": [
       "518"
      ]
     },
     "execution_count": 9,
     "metadata": {},
     "output_type": "execute_result"
    }
   ],
   "source": [
    "len(ml_titles)"
   ]
  },
  {
   "cell_type": "code",
   "execution_count": 10,
   "metadata": {
    "collapsed": true
   },
   "outputs": [],
   "source": [
    "import re\n",
    "\n",
    "def exist_in_ml(x, amazon_titles):\n",
    "    #print(x)\n",
    "    pattern = re.compile('^' + x + '$')\n",
    "    result = amazon_titles[amazon_titles.str.contains(pattern)]\n",
    "    return result.to_dict()"
   ]
  },
  {
   "cell_type": "code",
   "execution_count": 11,
   "metadata": {
    "collapsed": false
   },
   "outputs": [
    {
     "data": {
      "text/plain": [
       "0    {98328: 'toy story', 24895: 'toy story'}\n",
       "1        {24601: 'sabrina', 28774: 'sabrina'}\n",
       "2                                          {}\n",
       "3                            {2103: 'casino'}\n",
       "4                       {24842: 'four rooms'}\n",
       "Name: title, dtype: object"
      ]
     },
     "execution_count": 11,
     "metadata": {},
     "output_type": "execute_result"
    }
   ],
   "source": [
    "intersect_movies = ml_titles.apply(exist_in_ml, amazon_titles=amazon_titles)\n",
    "intersect_movies.head()"
   ]
  },
  {
   "cell_type": "code",
   "execution_count": 12,
   "metadata": {
    "collapsed": false
   },
   "outputs": [
    {
     "data": {
      "text/plain": [
       "[98328, 24895]"
      ]
     },
     "execution_count": 12,
     "metadata": {},
     "output_type": "execute_result"
    }
   ],
   "source": [
    "list(intersect_movies[0].keys())"
   ]
  },
  {
   "cell_type": "code",
   "execution_count": 13,
   "metadata": {
    "collapsed": false
   },
   "outputs": [
    {
     "data": {
      "text/plain": [
       "0    [98328, 24895]\n",
       "1    [24601, 28774]\n",
       "2                []\n",
       "3            [2103]\n",
       "4           [24842]\n",
       "Name: title, dtype: object"
      ]
     },
     "execution_count": 13,
     "metadata": {},
     "output_type": "execute_result"
    }
   ],
   "source": [
    "intersect_keys = intersect_movies.apply(lambda x : list(x.keys()) )\n",
    "intersect_keys.head()"
   ]
  },
  {
   "cell_type": "code",
   "execution_count": 14,
   "metadata": {
    "collapsed": false
   },
   "outputs": [],
   "source": [
    "idx = intersect_keys.values\n",
    "idx_list = [x for index in idx for x in index]"
   ]
  },
  {
   "cell_type": "code",
   "execution_count": 15,
   "metadata": {
    "collapsed": false
   },
   "outputs": [
    {
     "data": {
      "text/plain": [
       "0    98328\n",
       "1    24895\n",
       "2    24601\n",
       "3    28774\n",
       "4     2103\n",
       "Name: idx, dtype: int64"
      ]
     },
     "execution_count": 15,
     "metadata": {},
     "output_type": "execute_result"
    }
   ],
   "source": [
    "idx_serie = pd.Series(idx_list, name='idx')\n",
    "idx_serie.head()"
   ]
  },
  {
   "cell_type": "code",
   "execution_count": 16,
   "metadata": {
    "collapsed": true
   },
   "outputs": [],
   "source": [
    "idx_serie=idx_serie.drop_duplicates()"
   ]
  },
  {
   "cell_type": "code",
   "execution_count": 17,
   "metadata": {
    "collapsed": false
   },
   "outputs": [
    {
     "data": {
      "text/html": [
       "<div>\n",
       "<style>\n",
       "    .dataframe thead tr:only-child th {\n",
       "        text-align: right;\n",
       "    }\n",
       "\n",
       "    .dataframe thead th {\n",
       "        text-align: left;\n",
       "    }\n",
       "\n",
       "    .dataframe tbody tr th {\n",
       "        vertical-align: top;\n",
       "    }\n",
       "</style>\n",
       "<table border=\"1\" class=\"dataframe\">\n",
       "  <thead>\n",
       "    <tr style=\"text-align: right;\">\n",
       "      <th></th>\n",
       "      <th>asin</th>\n",
       "      <th>salesRank</th>\n",
       "      <th>categories</th>\n",
       "      <th>description</th>\n",
       "      <th>title</th>\n",
       "      <th>related</th>\n",
       "      <th>price</th>\n",
       "      <th>imUrl</th>\n",
       "      <th>brand</th>\n",
       "    </tr>\n",
       "  </thead>\n",
       "  <tbody>\n",
       "    <tr>\n",
       "      <th>98328</th>\n",
       "      <td>B000GHDPXQ</td>\n",
       "      <td>{'Movies &amp; TV': 985449}</td>\n",
       "      <td>[['Movies &amp; TV', 'Movies']]</td>\n",
       "      <td>NaN</td>\n",
       "      <td>Toy Story</td>\n",
       "      <td>NaN</td>\n",
       "      <td>NaN</td>\n",
       "      <td>http://g-ecx.images-amazon.com/images/G/01/x-s...</td>\n",
       "      <td>NaN</td>\n",
       "    </tr>\n",
       "    <tr>\n",
       "      <th>24895</th>\n",
       "      <td>6304089767</td>\n",
       "      <td>{'Movies &amp; TV': 119681}</td>\n",
       "      <td>[['Movies &amp; TV', 'Movies']]</td>\n",
       "      <td>In the first full-length computer-animated mov...</td>\n",
       "      <td>Toy Story [VHS]</td>\n",
       "      <td>{'bought_together': ['B00003CX7L', 'B00005JKDQ...</td>\n",
       "      <td>3.41</td>\n",
       "      <td>http://ecx.images-amazon.com/images/I/51RC8ZR6...</td>\n",
       "      <td>NaN</td>\n",
       "    </tr>\n",
       "    <tr>\n",
       "      <th>24601</th>\n",
       "      <td>6304044836</td>\n",
       "      <td>{'Movies &amp; TV': 353633}</td>\n",
       "      <td>[['Movies &amp; TV', 'Movies']]</td>\n",
       "      <td>Julia Ormond faced one of the great challenges...</td>\n",
       "      <td>Sabrina [VHS]</td>\n",
       "      <td>{'also_bought': ['0767800451', '6304178352']}</td>\n",
       "      <td>5.43</td>\n",
       "      <td>http://ecx.images-amazon.com/images/I/71YBX7Z9...</td>\n",
       "      <td>NaN</td>\n",
       "    </tr>\n",
       "    <tr>\n",
       "      <th>28774</th>\n",
       "      <td>6305110859</td>\n",
       "      <td>{'Movies &amp; TV': 422488}</td>\n",
       "      <td>[['Movies &amp; TV', 'Movies']]</td>\n",
       "      <td>Audrey Hepburn is the delightful young Sabrina...</td>\n",
       "      <td>Sabrina</td>\n",
       "      <td>{'buy_after_viewing': ['B00BTYU3ZS', 'B00AEBB8...</td>\n",
       "      <td>8.00</td>\n",
       "      <td>http://ecx.images-amazon.com/images/I/4146E7JT...</td>\n",
       "      <td>NaN</td>\n",
       "    </tr>\n",
       "    <tr>\n",
       "      <th>2103</th>\n",
       "      <td>0783225792</td>\n",
       "      <td>{'Movies &amp; TV': 158336}</td>\n",
       "      <td>[['Movies &amp; TV', 'Movies']]</td>\n",
       "      <td>Director Martin Scorsese reunites with members...</td>\n",
       "      <td>Casino</td>\n",
       "      <td>{'buy_after_viewing': ['B000P0J09M', 'B000C20V...</td>\n",
       "      <td>2.99</td>\n",
       "      <td>http://ecx.images-amazon.com/images/I/712YQJ01...</td>\n",
       "      <td>NaN</td>\n",
       "    </tr>\n",
       "  </tbody>\n",
       "</table>\n",
       "</div>"
      ],
      "text/plain": [
       "             asin                salesRank                   categories  \\\n",
       "98328  B000GHDPXQ  {'Movies & TV': 985449}  [['Movies & TV', 'Movies']]   \n",
       "24895  6304089767  {'Movies & TV': 119681}  [['Movies & TV', 'Movies']]   \n",
       "24601  6304044836  {'Movies & TV': 353633}  [['Movies & TV', 'Movies']]   \n",
       "28774  6305110859  {'Movies & TV': 422488}  [['Movies & TV', 'Movies']]   \n",
       "2103   0783225792  {'Movies & TV': 158336}  [['Movies & TV', 'Movies']]   \n",
       "\n",
       "                                             description            title  \\\n",
       "98328                                                NaN        Toy Story   \n",
       "24895  In the first full-length computer-animated mov...  Toy Story [VHS]   \n",
       "24601  Julia Ormond faced one of the great challenges...    Sabrina [VHS]   \n",
       "28774  Audrey Hepburn is the delightful young Sabrina...          Sabrina   \n",
       "2103   Director Martin Scorsese reunites with members...           Casino   \n",
       "\n",
       "                                                 related  price  \\\n",
       "98328                                                NaN    NaN   \n",
       "24895  {'bought_together': ['B00003CX7L', 'B00005JKDQ...   3.41   \n",
       "24601      {'also_bought': ['0767800451', '6304178352']}   5.43   \n",
       "28774  {'buy_after_viewing': ['B00BTYU3ZS', 'B00AEBB8...   8.00   \n",
       "2103   {'buy_after_viewing': ['B000P0J09M', 'B000C20V...   2.99   \n",
       "\n",
       "                                                   imUrl brand  \n",
       "98328  http://g-ecx.images-amazon.com/images/G/01/x-s...   NaN  \n",
       "24895  http://ecx.images-amazon.com/images/I/51RC8ZR6...   NaN  \n",
       "24601  http://ecx.images-amazon.com/images/I/71YBX7Z9...   NaN  \n",
       "28774  http://ecx.images-amazon.com/images/I/4146E7JT...   NaN  \n",
       "2103   http://ecx.images-amazon.com/images/I/712YQJ01...   NaN  "
      ]
     },
     "execution_count": 17,
     "metadata": {},
     "output_type": "execute_result"
    }
   ],
   "source": [
    "df_moves_valid = df_movie_data.iloc[idx_serie]\n",
    "df_moves_valid.head()"
   ]
  },
  {
   "cell_type": "code",
   "execution_count": 18,
   "metadata": {
    "collapsed": false
   },
   "outputs": [
    {
     "data": {
      "text/plain": [
       "394"
      ]
     },
     "execution_count": 18,
     "metadata": {},
     "output_type": "execute_result"
    }
   ],
   "source": [
    "len(df_moves_valid)"
   ]
  },
  {
   "cell_type": "code",
   "execution_count": 19,
   "metadata": {
    "collapsed": true
   },
   "outputs": [],
   "source": [
    "df_moves_valid.to_csv('/home/ignacio/Datasets/Amazon/Data cleaned/movie_meta_valid_ii.csv', index=False)"
   ]
  },
  {
   "cell_type": "markdown",
   "metadata": {
    "collapsed": true
   },
   "source": [
    "#### movies intersection"
   ]
  },
  {
   "cell_type": "code",
   "execution_count": 20,
   "metadata": {
    "collapsed": false
   },
   "outputs": [
    {
     "data": {
      "text/html": [
       "<div>\n",
       "<style>\n",
       "    .dataframe thead tr:only-child th {\n",
       "        text-align: right;\n",
       "    }\n",
       "\n",
       "    .dataframe thead th {\n",
       "        text-align: left;\n",
       "    }\n",
       "\n",
       "    .dataframe tbody tr th {\n",
       "        vertical-align: top;\n",
       "    }\n",
       "</style>\n",
       "<table border=\"1\" class=\"dataframe\">\n",
       "  <thead>\n",
       "    <tr style=\"text-align: right;\">\n",
       "      <th></th>\n",
       "      <th>asin</th>\n",
       "      <th>salesRank</th>\n",
       "      <th>categories</th>\n",
       "      <th>description</th>\n",
       "      <th>title</th>\n",
       "      <th>related</th>\n",
       "      <th>price</th>\n",
       "      <th>imUrl</th>\n",
       "      <th>brand</th>\n",
       "    </tr>\n",
       "  </thead>\n",
       "  <tbody>\n",
       "    <tr>\n",
       "      <th>0</th>\n",
       "      <td>B000GHDPXQ</td>\n",
       "      <td>{'Movies &amp; TV': 985449}</td>\n",
       "      <td>[['Movies &amp; TV', 'Movies']]</td>\n",
       "      <td>NaN</td>\n",
       "      <td>Toy Story</td>\n",
       "      <td>NaN</td>\n",
       "      <td>NaN</td>\n",
       "      <td>http://g-ecx.images-amazon.com/images/G/01/x-s...</td>\n",
       "      <td>NaN</td>\n",
       "    </tr>\n",
       "    <tr>\n",
       "      <th>1</th>\n",
       "      <td>6304089767</td>\n",
       "      <td>{'Movies &amp; TV': 119681}</td>\n",
       "      <td>[['Movies &amp; TV', 'Movies']]</td>\n",
       "      <td>In the first full-length computer-animated mov...</td>\n",
       "      <td>Toy Story [VHS]</td>\n",
       "      <td>{'bought_together': ['B00003CX7L', 'B00005JKDQ...</td>\n",
       "      <td>3.41</td>\n",
       "      <td>http://ecx.images-amazon.com/images/I/51RC8ZR6...</td>\n",
       "      <td>NaN</td>\n",
       "    </tr>\n",
       "    <tr>\n",
       "      <th>2</th>\n",
       "      <td>6304044836</td>\n",
       "      <td>{'Movies &amp; TV': 353633}</td>\n",
       "      <td>[['Movies &amp; TV', 'Movies']]</td>\n",
       "      <td>Julia Ormond faced one of the great challenges...</td>\n",
       "      <td>Sabrina [VHS]</td>\n",
       "      <td>{'also_bought': ['0767800451', '6304178352']}</td>\n",
       "      <td>5.43</td>\n",
       "      <td>http://ecx.images-amazon.com/images/I/71YBX7Z9...</td>\n",
       "      <td>NaN</td>\n",
       "    </tr>\n",
       "    <tr>\n",
       "      <th>3</th>\n",
       "      <td>6305110859</td>\n",
       "      <td>{'Movies &amp; TV': 422488}</td>\n",
       "      <td>[['Movies &amp; TV', 'Movies']]</td>\n",
       "      <td>Audrey Hepburn is the delightful young Sabrina...</td>\n",
       "      <td>Sabrina</td>\n",
       "      <td>{'buy_after_viewing': ['B00BTYU3ZS', 'B00AEBB8...</td>\n",
       "      <td>8.00</td>\n",
       "      <td>http://ecx.images-amazon.com/images/I/4146E7JT...</td>\n",
       "      <td>NaN</td>\n",
       "    </tr>\n",
       "    <tr>\n",
       "      <th>4</th>\n",
       "      <td>0783225792</td>\n",
       "      <td>{'Movies &amp; TV': 158336}</td>\n",
       "      <td>[['Movies &amp; TV', 'Movies']]</td>\n",
       "      <td>Director Martin Scorsese reunites with members...</td>\n",
       "      <td>Casino</td>\n",
       "      <td>{'buy_after_viewing': ['B000P0J09M', 'B000C20V...</td>\n",
       "      <td>2.99</td>\n",
       "      <td>http://ecx.images-amazon.com/images/I/712YQJ01...</td>\n",
       "      <td>NaN</td>\n",
       "    </tr>\n",
       "  </tbody>\n",
       "</table>\n",
       "</div>"
      ],
      "text/plain": [
       "         asin                salesRank                   categories  \\\n",
       "0  B000GHDPXQ  {'Movies & TV': 985449}  [['Movies & TV', 'Movies']]   \n",
       "1  6304089767  {'Movies & TV': 119681}  [['Movies & TV', 'Movies']]   \n",
       "2  6304044836  {'Movies & TV': 353633}  [['Movies & TV', 'Movies']]   \n",
       "3  6305110859  {'Movies & TV': 422488}  [['Movies & TV', 'Movies']]   \n",
       "4  0783225792  {'Movies & TV': 158336}  [['Movies & TV', 'Movies']]   \n",
       "\n",
       "                                         description            title  \\\n",
       "0                                                NaN        Toy Story   \n",
       "1  In the first full-length computer-animated mov...  Toy Story [VHS]   \n",
       "2  Julia Ormond faced one of the great challenges...    Sabrina [VHS]   \n",
       "3  Audrey Hepburn is the delightful young Sabrina...          Sabrina   \n",
       "4  Director Martin Scorsese reunites with members...           Casino   \n",
       "\n",
       "                                             related  price  \\\n",
       "0                                                NaN    NaN   \n",
       "1  {'bought_together': ['B00003CX7L', 'B00005JKDQ...   3.41   \n",
       "2      {'also_bought': ['0767800451', '6304178352']}   5.43   \n",
       "3  {'buy_after_viewing': ['B00BTYU3ZS', 'B00AEBB8...   8.00   \n",
       "4  {'buy_after_viewing': ['B000P0J09M', 'B000C20V...   2.99   \n",
       "\n",
       "                                               imUrl brand  \n",
       "0  http://g-ecx.images-amazon.com/images/G/01/x-s...   NaN  \n",
       "1  http://ecx.images-amazon.com/images/I/51RC8ZR6...   NaN  \n",
       "2  http://ecx.images-amazon.com/images/I/71YBX7Z9...   NaN  \n",
       "3  http://ecx.images-amazon.com/images/I/4146E7JT...   NaN  \n",
       "4  http://ecx.images-amazon.com/images/I/712YQJ01...   NaN  "
      ]
     },
     "execution_count": 20,
     "metadata": {},
     "output_type": "execute_result"
    }
   ],
   "source": [
    "df_movies_valid = pd.read_csv('/home/ignacio/Datasets/Amazon/Data cleaned/movie_meta_valid_ii.csv')\n",
    "df_movies_valid.head()"
   ]
  },
  {
   "cell_type": "code",
   "execution_count": null,
   "metadata": {
    "collapsed": false
   },
   "outputs": [],
   "source": [
    "len(df_movies_valid)"
   ]
  },
  {
   "cell_type": "code",
   "execution_count": null,
   "metadata": {
    "collapsed": true
   },
   "outputs": [],
   "source": []
  },
  {
   "cell_type": "markdown",
   "metadata": {},
   "source": [
    "#### Movie ratings valid"
   ]
  },
  {
   "cell_type": "code",
   "execution_count": 21,
   "metadata": {
    "collapsed": false
   },
   "outputs": [
    {
     "data": {
      "text/html": [
       "<div>\n",
       "<style>\n",
       "    .dataframe thead tr:only-child th {\n",
       "        text-align: right;\n",
       "    }\n",
       "\n",
       "    .dataframe thead th {\n",
       "        text-align: left;\n",
       "    }\n",
       "\n",
       "    .dataframe tbody tr th {\n",
       "        vertical-align: top;\n",
       "    }\n",
       "</style>\n",
       "<table border=\"1\" class=\"dataframe\">\n",
       "  <thead>\n",
       "    <tr style=\"text-align: right;\">\n",
       "      <th></th>\n",
       "      <th>reviewerID</th>\n",
       "      <th>asin</th>\n",
       "      <th>rating</th>\n",
       "      <th>reviewTime</th>\n",
       "    </tr>\n",
       "  </thead>\n",
       "  <tbody>\n",
       "    <tr>\n",
       "      <th>0</th>\n",
       "      <td>A3R5OBKS7OM2IR</td>\n",
       "      <td>0000143502</td>\n",
       "      <td>5.0</td>\n",
       "      <td>1358380800</td>\n",
       "    </tr>\n",
       "    <tr>\n",
       "      <th>1</th>\n",
       "      <td>A3R5OBKS7OM2IR</td>\n",
       "      <td>0000143529</td>\n",
       "      <td>5.0</td>\n",
       "      <td>1380672000</td>\n",
       "    </tr>\n",
       "    <tr>\n",
       "      <th>2</th>\n",
       "      <td>AH3QC2PC1VTGP</td>\n",
       "      <td>0000143561</td>\n",
       "      <td>2.0</td>\n",
       "      <td>1216252800</td>\n",
       "    </tr>\n",
       "    <tr>\n",
       "      <th>3</th>\n",
       "      <td>A3LKP6WPMP9UKX</td>\n",
       "      <td>0000143588</td>\n",
       "      <td>5.0</td>\n",
       "      <td>1236902400</td>\n",
       "    </tr>\n",
       "    <tr>\n",
       "      <th>4</th>\n",
       "      <td>AVIY68KEPQ5ZD</td>\n",
       "      <td>0000143588</td>\n",
       "      <td>5.0</td>\n",
       "      <td>1232236800</td>\n",
       "    </tr>\n",
       "  </tbody>\n",
       "</table>\n",
       "</div>"
      ],
      "text/plain": [
       "       reviewerID        asin  rating  reviewTime\n",
       "0  A3R5OBKS7OM2IR  0000143502     5.0  1358380800\n",
       "1  A3R5OBKS7OM2IR  0000143529     5.0  1380672000\n",
       "2   AH3QC2PC1VTGP  0000143561     2.0  1216252800\n",
       "3  A3LKP6WPMP9UKX  0000143588     5.0  1236902400\n",
       "4   AVIY68KEPQ5ZD  0000143588     5.0  1232236800"
      ]
     },
     "execution_count": 21,
     "metadata": {},
     "output_type": "execute_result"
    }
   ],
   "source": [
    "df_movie_rating = pd.read_csv('/home/ignacio/Datasets/Amazon/ratings_Movies_and_TV.csv', header=None, names=['reviewerID', 'asin', 'rating', 'reviewTime'])\n",
    "df_movie_rating.head()"
   ]
  },
  {
   "cell_type": "code",
   "execution_count": 22,
   "metadata": {
    "collapsed": false
   },
   "outputs": [
    {
     "data": {
      "text/plain": [
       "4607047"
      ]
     },
     "execution_count": 22,
     "metadata": {},
     "output_type": "execute_result"
    }
   ],
   "source": [
    "len(df_movie_rating)"
   ]
  },
  {
   "cell_type": "code",
   "execution_count": 23,
   "metadata": {
    "collapsed": false
   },
   "outputs": [
    {
     "data": {
      "text/html": [
       "<div>\n",
       "<style>\n",
       "    .dataframe thead tr:only-child th {\n",
       "        text-align: right;\n",
       "    }\n",
       "\n",
       "    .dataframe thead th {\n",
       "        text-align: left;\n",
       "    }\n",
       "\n",
       "    .dataframe tbody tr th {\n",
       "        vertical-align: top;\n",
       "    }\n",
       "</style>\n",
       "<table border=\"1\" class=\"dataframe\">\n",
       "  <thead>\n",
       "    <tr style=\"text-align: right;\">\n",
       "      <th></th>\n",
       "      <th>reviewerID</th>\n",
       "      <th>asin</th>\n",
       "      <th>rating</th>\n",
       "      <th>reviewTime</th>\n",
       "    </tr>\n",
       "  </thead>\n",
       "  <tbody>\n",
       "    <tr>\n",
       "      <th>9337</th>\n",
       "      <td>A1DJ7NEM06M0EK</td>\n",
       "      <td>0764003828</td>\n",
       "      <td>5.0</td>\n",
       "      <td>1286236800</td>\n",
       "    </tr>\n",
       "    <tr>\n",
       "      <th>9338</th>\n",
       "      <td>AGEIT17HENDIS</td>\n",
       "      <td>0764003828</td>\n",
       "      <td>3.0</td>\n",
       "      <td>1185062400</td>\n",
       "    </tr>\n",
       "    <tr>\n",
       "      <th>9339</th>\n",
       "      <td>A1GGOC9PVDXW7Z</td>\n",
       "      <td>0764003828</td>\n",
       "      <td>2.0</td>\n",
       "      <td>1280016000</td>\n",
       "    </tr>\n",
       "    <tr>\n",
       "      <th>9340</th>\n",
       "      <td>AEC7JTYYQIGBF</td>\n",
       "      <td>0764003828</td>\n",
       "      <td>4.0</td>\n",
       "      <td>1190851200</td>\n",
       "    </tr>\n",
       "    <tr>\n",
       "      <th>9341</th>\n",
       "      <td>A2FY3784R6YDLQ</td>\n",
       "      <td>0764003828</td>\n",
       "      <td>4.0</td>\n",
       "      <td>1399680000</td>\n",
       "    </tr>\n",
       "  </tbody>\n",
       "</table>\n",
       "</div>"
      ],
      "text/plain": [
       "          reviewerID        asin  rating  reviewTime\n",
       "9337  A1DJ7NEM06M0EK  0764003828     5.0  1286236800\n",
       "9338   AGEIT17HENDIS  0764003828     3.0  1185062400\n",
       "9339  A1GGOC9PVDXW7Z  0764003828     2.0  1280016000\n",
       "9340   AEC7JTYYQIGBF  0764003828     4.0  1190851200\n",
       "9341  A2FY3784R6YDLQ  0764003828     4.0  1399680000"
      ]
     },
     "execution_count": 23,
     "metadata": {},
     "output_type": "execute_result"
    }
   ],
   "source": [
    "df_movie_rating_valid = df_movie_rating[df_movie_rating['asin'].isin(df_movies_valid['asin'])]\n",
    "df_movie_rating_valid.head()"
   ]
  },
  {
   "cell_type": "code",
   "execution_count": 24,
   "metadata": {
    "collapsed": false
   },
   "outputs": [
    {
     "data": {
      "text/plain": [
       "67193"
      ]
     },
     "execution_count": 24,
     "metadata": {},
     "output_type": "execute_result"
    }
   ],
   "source": [
    "len(df_movie_rating_valid)"
   ]
  },
  {
   "cell_type": "code",
   "execution_count": 25,
   "metadata": {
    "collapsed": true
   },
   "outputs": [],
   "source": [
    "df_movie_rating_valid.to_csv('/home/ignacio/Datasets/Amazon/Data cleaned/ratings_movies_valid_ii.csv', index=False)"
   ]
  },
  {
   "cell_type": "code",
   "execution_count": null,
   "metadata": {
    "collapsed": true
   },
   "outputs": [],
   "source": []
  },
  {
   "cell_type": "markdown",
   "metadata": {},
   "source": [
    "## Amazon Book data"
   ]
  },
  {
   "cell_type": "markdown",
   "metadata": {},
   "source": [
    "#### Save json.gz as csv"
   ]
  },
  {
   "cell_type": "code",
   "execution_count": null,
   "metadata": {
    "collapsed": false
   },
   "outputs": [],
   "source": [
    "df_book_data = getDF(path='/home/ignacio/Datasets/Amazon/meta_Books.json.gz')\n",
    "df_book_data.head()"
   ]
  },
  {
   "cell_type": "code",
   "execution_count": null,
   "metadata": {
    "collapsed": false
   },
   "outputs": [],
   "source": [
    "len(df_book_data)"
   ]
  },
  {
   "cell_type": "code",
   "execution_count": null,
   "metadata": {
    "collapsed": true
   },
   "outputs": [],
   "source": [
    "df_book_data.to_csv('/home/ignacio/Datasets/Amazon/book_meta.csv', index=False)"
   ]
  },
  {
   "cell_type": "markdown",
   "metadata": {},
   "source": [
    "### Clean data: intersect with goodreads books"
   ]
  },
  {
   "cell_type": "code",
   "execution_count": null,
   "metadata": {
    "collapsed": false
   },
   "outputs": [],
   "source": [
    "df_book_data = pd.read_csv('/home/ignacio/Datasets/Amazon/book_meta.csv')\n",
    "df_book_data.head()"
   ]
  },
  {
   "cell_type": "code",
   "execution_count": null,
   "metadata": {
    "collapsed": false
   },
   "outputs": [],
   "source": [
    "df_book_valid = pd.read_csv('/home/ignacio/Datasets/Graph analysis/bx-valid-book.csv')\n",
    "df_book_valid.head()"
   ]
  },
  {
   "cell_type": "code",
   "execution_count": null,
   "metadata": {
    "collapsed": false
   },
   "outputs": [],
   "source": [
    "amazon_book_title = df_book_data['title']\n",
    "amazon_book_title = amazon_book_title.dropna()\n",
    "amazon_book_title = amazon_book_title.str.lower()\n",
    "amazon_book_title = amazon_book_title.str.replace(r'[\\]\\(\\)\\\\\\'\\\":;]', '')\n",
    "amazon_book_title = amazon_book_title.str.replace(r'\\[', ' ')\n",
    "amazon_book_title = amazon_book_title.drop_duplicates()\n",
    "amazon_book_title.head()"
   ]
  },
  {
   "cell_type": "code",
   "execution_count": null,
   "metadata": {
    "collapsed": false
   },
   "outputs": [],
   "source": [
    "len(amazon_book_title)"
   ]
  },
  {
   "cell_type": "code",
   "execution_count": null,
   "metadata": {
    "collapsed": false
   },
   "outputs": [],
   "source": [
    "bx_book_title = df_book_valid['Book-Title']\n",
    "bx_book_title = bx_book_title.dropna()\n",
    "bx_book_title = bx_book_title.str.lower()\n",
    "bx_book_title = bx_book_title.str.replace(r'[\\(\\)\\\\\\'\\\":;]', '')\n",
    "bx_book_title = bx_book_title.drop([11911])\n",
    "bx_book_title = bx_book_title.drop_duplicates()\n",
    "bx_book_title.head()"
   ]
  },
  {
   "cell_type": "code",
   "execution_count": null,
   "metadata": {
    "collapsed": false
   },
   "outputs": [],
   "source": [
    "len(bx_book_title)"
   ]
  },
  {
   "cell_type": "code",
   "execution_count": null,
   "metadata": {
    "collapsed": false
   },
   "outputs": [],
   "source": [
    "frame = 2000\n",
    "max_frames = math.floor(len(bx_book_title)/frame)\n",
    "max_frames"
   ]
  },
  {
   "cell_type": "code",
   "execution_count": null,
   "metadata": {
    "collapsed": false
   },
   "outputs": [],
   "source": [
    "for i in np.arange(5, max_frames):\n",
    "    s_aux = bx_book_title[ i*frame:(i+1)*frame ].copy()\n",
    "    intersect_book = s_aux.apply(exist_in_ml, amazon_titles=amazon_book_title)\n",
    "    intersect_book.to_csv('/home/ignacio/Datasets/Graph analysis/intersect-book'+ str(i) +'.csv', index=False)\n",
    "    print('Iteration: '+ str(i))\n",
    "\n",
    "if len(bx_book_title) % frame != 0:\n",
    "    s_aux = bx_book_title[ max_frames*frame:len(bx_book_title) ].copy()\n",
    "    intersect_book = s_aux.apply(exist_in_ml, amazon_titles=amazon_book_title)\n",
    "    intersect_book.to_csv('/home/ignacio/Datasets/Graph analysis/intersect-book'+ str(max_frames) +'.csv', index=False)"
   ]
  },
  {
   "cell_type": "code",
   "execution_count": null,
   "metadata": {
    "collapsed": false
   },
   "outputs": [],
   "source": [
    "df_book_intersection = pd.read_csv('/home/ignacio/Datasets/Amazon/Book selection/intersect-book0.csv', header=None, names=['titles'])\n",
    "df_book_intersection.head()"
   ]
  },
  {
   "cell_type": "code",
   "execution_count": null,
   "metadata": {
    "collapsed": false
   },
   "outputs": [],
   "source": [
    "for i in np.arange(1, 11):\n",
    "    df_aux = pd.read_csv('/home/ignacio/Datasets/Amazon/Book selection/intersect-book'+str(i)+'.csv', header=None, names=['titles'])\n",
    "    df_book_intersection = pd.concat([df_book_intersection, df_aux])\n",
    "len(df_book_intersection)"
   ]
  },
  {
   "cell_type": "code",
   "execution_count": null,
   "metadata": {
    "collapsed": false
   },
   "outputs": [],
   "source": [
    "book_intersection = df_book_intersection['titles']\n",
    "book_intersection = book_intersection.str.replace(r'[\\{\\}]', '')\n",
    "book_intersection = book_intersection[book_intersection != '']\n",
    "book_intersection.head()"
   ]
  },
  {
   "cell_type": "code",
   "execution_count": null,
   "metadata": {
    "collapsed": false
   },
   "outputs": [],
   "source": [
    "len(book_intersection)"
   ]
  },
  {
   "cell_type": "code",
   "execution_count": null,
   "metadata": {
    "collapsed": true
   },
   "outputs": [],
   "source": [
    "book_intersection.to_csv('/home/ignacio/Datasets/Amazon/Book selection/book-intersect.csv', index=False)"
   ]
  },
  {
   "cell_type": "code",
   "execution_count": null,
   "metadata": {
    "collapsed": false
   },
   "outputs": [],
   "source": [
    "index_intersection = book_intersection.str.extract(r'(?P<index>\\d+):')\n",
    "index_intersection.head()"
   ]
  },
  {
   "cell_type": "code",
   "execution_count": null,
   "metadata": {
    "collapsed": false
   },
   "outputs": [],
   "source": [
    "index_intersection = index_intersection.apply(lambda x: int(x))"
   ]
  },
  {
   "cell_type": "code",
   "execution_count": null,
   "metadata": {
    "collapsed": false
   },
   "outputs": [],
   "source": [
    "df_book_intersection = df_book_data.iloc[index_intersection]\n",
    "df_book_intersection.head()"
   ]
  },
  {
   "cell_type": "code",
   "execution_count": null,
   "metadata": {
    "collapsed": true
   },
   "outputs": [],
   "source": [
    "df_book_intersection.to_csv('/home/ignacio/Datasets/Amazon/book-meta-valid.csv', index=False)"
   ]
  },
  {
   "cell_type": "markdown",
   "metadata": {},
   "source": [
    "#### Book meta valid"
   ]
  },
  {
   "cell_type": "code",
   "execution_count": null,
   "metadata": {
    "collapsed": false
   },
   "outputs": [],
   "source": [
    "book_meta_valid = pd.read_csv('/home/ignacio/Datasets/Amazon/book-meta-valid.csv')\n",
    "book_meta_valid.head()"
   ]
  },
  {
   "cell_type": "markdown",
   "metadata": {},
   "source": [
    "#### Book ratings valid"
   ]
  },
  {
   "cell_type": "code",
   "execution_count": null,
   "metadata": {
    "collapsed": false
   },
   "outputs": [],
   "source": [
    "book_ratings = pd.read_csv('/home/ignacio/Datasets/Amazon/ratings_Books.csv', header=None, names=['reviewerID', 'asin', 'rating', 'reviewTime'])\n",
    "book_ratings.head()"
   ]
  },
  {
   "cell_type": "code",
   "execution_count": null,
   "metadata": {
    "collapsed": false
   },
   "outputs": [],
   "source": [
    "df_books_ratings_valid = book_ratings[book_ratings['asin'].isin(book_meta_valid['asin'])]\n",
    "df_books_ratings_valid.head()"
   ]
  },
  {
   "cell_type": "code",
   "execution_count": null,
   "metadata": {
    "collapsed": false
   },
   "outputs": [],
   "source": [
    "len(df_books_ratings_valid)"
   ]
  },
  {
   "cell_type": "code",
   "execution_count": null,
   "metadata": {
    "collapsed": false
   },
   "outputs": [],
   "source": [
    "df_books_ratings_valid.to_csv('/home/ignacio/Datasets/Amazon/ratings_book_valid.csv', index=False)"
   ]
  },
  {
   "cell_type": "markdown",
   "metadata": {},
   "source": [
    "### Users in books and movie ratings "
   ]
  },
  {
   "cell_type": "code",
   "execution_count": 26,
   "metadata": {
    "collapsed": false
   },
   "outputs": [
    {
     "data": {
      "text/html": [
       "<div>\n",
       "<style>\n",
       "    .dataframe thead tr:only-child th {\n",
       "        text-align: right;\n",
       "    }\n",
       "\n",
       "    .dataframe thead th {\n",
       "        text-align: left;\n",
       "    }\n",
       "\n",
       "    .dataframe tbody tr th {\n",
       "        vertical-align: top;\n",
       "    }\n",
       "</style>\n",
       "<table border=\"1\" class=\"dataframe\">\n",
       "  <thead>\n",
       "    <tr style=\"text-align: right;\">\n",
       "      <th></th>\n",
       "      <th>reviewerID</th>\n",
       "      <th>asin</th>\n",
       "      <th>rating</th>\n",
       "      <th>reviewTime</th>\n",
       "    </tr>\n",
       "  </thead>\n",
       "  <tbody>\n",
       "    <tr>\n",
       "      <th>0</th>\n",
       "      <td>A1DJ7NEM06M0EK</td>\n",
       "      <td>0764003828</td>\n",
       "      <td>5.0</td>\n",
       "      <td>1286236800</td>\n",
       "    </tr>\n",
       "    <tr>\n",
       "      <th>1</th>\n",
       "      <td>AGEIT17HENDIS</td>\n",
       "      <td>0764003828</td>\n",
       "      <td>3.0</td>\n",
       "      <td>1185062400</td>\n",
       "    </tr>\n",
       "    <tr>\n",
       "      <th>2</th>\n",
       "      <td>A1GGOC9PVDXW7Z</td>\n",
       "      <td>0764003828</td>\n",
       "      <td>2.0</td>\n",
       "      <td>1280016000</td>\n",
       "    </tr>\n",
       "    <tr>\n",
       "      <th>3</th>\n",
       "      <td>AEC7JTYYQIGBF</td>\n",
       "      <td>0764003828</td>\n",
       "      <td>4.0</td>\n",
       "      <td>1190851200</td>\n",
       "    </tr>\n",
       "    <tr>\n",
       "      <th>4</th>\n",
       "      <td>A2FY3784R6YDLQ</td>\n",
       "      <td>0764003828</td>\n",
       "      <td>4.0</td>\n",
       "      <td>1399680000</td>\n",
       "    </tr>\n",
       "  </tbody>\n",
       "</table>\n",
       "</div>"
      ],
      "text/plain": [
       "       reviewerID        asin  rating  reviewTime\n",
       "0  A1DJ7NEM06M0EK  0764003828     5.0  1286236800\n",
       "1   AGEIT17HENDIS  0764003828     3.0  1185062400\n",
       "2  A1GGOC9PVDXW7Z  0764003828     2.0  1280016000\n",
       "3   AEC7JTYYQIGBF  0764003828     4.0  1190851200\n",
       "4  A2FY3784R6YDLQ  0764003828     4.0  1399680000"
      ]
     },
     "execution_count": 26,
     "metadata": {},
     "output_type": "execute_result"
    }
   ],
   "source": [
    "df_movie_ratings = pd.read_csv('/home/ignacio/Datasets/Amazon/Data cleaned/ratings_movies_valid_ii.csv')\n",
    "df_movie_ratings.head()"
   ]
  },
  {
   "cell_type": "code",
   "execution_count": 27,
   "metadata": {
    "collapsed": false
   },
   "outputs": [
    {
     "data": {
      "text/plain": [
       "67193"
      ]
     },
     "execution_count": 27,
     "metadata": {},
     "output_type": "execute_result"
    }
   ],
   "source": [
    "len(df_movie_ratings)"
   ]
  },
  {
   "cell_type": "code",
   "execution_count": 28,
   "metadata": {
    "collapsed": false
   },
   "outputs": [
    {
     "data": {
      "text/html": [
       "<div>\n",
       "<style>\n",
       "    .dataframe thead tr:only-child th {\n",
       "        text-align: right;\n",
       "    }\n",
       "\n",
       "    .dataframe thead th {\n",
       "        text-align: left;\n",
       "    }\n",
       "\n",
       "    .dataframe tbody tr th {\n",
       "        vertical-align: top;\n",
       "    }\n",
       "</style>\n",
       "<table border=\"1\" class=\"dataframe\">\n",
       "  <thead>\n",
       "    <tr style=\"text-align: right;\">\n",
       "      <th></th>\n",
       "      <th>reviewerID</th>\n",
       "      <th>asin</th>\n",
       "      <th>rating</th>\n",
       "      <th>reviewTime</th>\n",
       "    </tr>\n",
       "  </thead>\n",
       "  <tbody>\n",
       "    <tr>\n",
       "      <th>0</th>\n",
       "      <td>A17KD5LJUQOJHT</td>\n",
       "      <td>0002051850</td>\n",
       "      <td>5.0</td>\n",
       "      <td>999216000</td>\n",
       "    </tr>\n",
       "    <tr>\n",
       "      <th>1</th>\n",
       "      <td>A2ILMQSVK5KRTC</td>\n",
       "      <td>0002051850</td>\n",
       "      <td>1.0</td>\n",
       "      <td>1362614400</td>\n",
       "    </tr>\n",
       "    <tr>\n",
       "      <th>2</th>\n",
       "      <td>A361FWZ1HA9IPJ</td>\n",
       "      <td>0002051850</td>\n",
       "      <td>4.0</td>\n",
       "      <td>1213833600</td>\n",
       "    </tr>\n",
       "    <tr>\n",
       "      <th>3</th>\n",
       "      <td>A2I741VZ6F4RAJ</td>\n",
       "      <td>0002051850</td>\n",
       "      <td>5.0</td>\n",
       "      <td>1363910400</td>\n",
       "    </tr>\n",
       "    <tr>\n",
       "      <th>4</th>\n",
       "      <td>AOG084TKLL3X8</td>\n",
       "      <td>0002051850</td>\n",
       "      <td>4.0</td>\n",
       "      <td>1188432000</td>\n",
       "    </tr>\n",
       "  </tbody>\n",
       "</table>\n",
       "</div>"
      ],
      "text/plain": [
       "       reviewerID        asin  rating  reviewTime\n",
       "0  A17KD5LJUQOJHT  0002051850     5.0   999216000\n",
       "1  A2ILMQSVK5KRTC  0002051850     1.0  1362614400\n",
       "2  A361FWZ1HA9IPJ  0002051850     4.0  1213833600\n",
       "3  A2I741VZ6F4RAJ  0002051850     5.0  1363910400\n",
       "4   AOG084TKLL3X8  0002051850     4.0  1188432000"
      ]
     },
     "execution_count": 28,
     "metadata": {},
     "output_type": "execute_result"
    }
   ],
   "source": [
    "df_book_ratings = pd.read_csv('/home/ignacio/Datasets/Amazon/Data cleaned/ratings_book_valid.csv')\n",
    "df_book_ratings.head()"
   ]
  },
  {
   "cell_type": "code",
   "execution_count": 29,
   "metadata": {
    "collapsed": false
   },
   "outputs": [
    {
     "data": {
      "text/plain": [
       "223695"
      ]
     },
     "execution_count": 29,
     "metadata": {},
     "output_type": "execute_result"
    }
   ],
   "source": [
    "len(df_book_ratings)"
   ]
  },
  {
   "cell_type": "code",
   "execution_count": 30,
   "metadata": {
    "collapsed": false
   },
   "outputs": [
    {
     "data": {
      "text/plain": [
       "0    A1DJ7NEM06M0EK\n",
       "1     AGEIT17HENDIS\n",
       "2    A1GGOC9PVDXW7Z\n",
       "3     AEC7JTYYQIGBF\n",
       "4    A2FY3784R6YDLQ\n",
       "Name: reviewerID, dtype: object"
      ]
     },
     "execution_count": 30,
     "metadata": {},
     "output_type": "execute_result"
    }
   ],
   "source": [
    "users_movie = df_movie_ratings['reviewerID']\n",
    "users_movie = users_movie.drop_duplicates()\n",
    "users_movie.head()"
   ]
  },
  {
   "cell_type": "code",
   "execution_count": 31,
   "metadata": {
    "collapsed": false
   },
   "outputs": [
    {
     "data": {
      "text/plain": [
       "0    A17KD5LJUQOJHT\n",
       "1    A2ILMQSVK5KRTC\n",
       "2    A361FWZ1HA9IPJ\n",
       "3    A2I741VZ6F4RAJ\n",
       "4     AOG084TKLL3X8\n",
       "Name: reviewerID, dtype: object"
      ]
     },
     "execution_count": 31,
     "metadata": {},
     "output_type": "execute_result"
    }
   ],
   "source": [
    "users_book = df_book_ratings['reviewerID']\n",
    "users_book = users_book.drop_duplicates()\n",
    "users_book.head()"
   ]
  },
  {
   "cell_type": "code",
   "execution_count": 32,
   "metadata": {
    "collapsed": false
   },
   "outputs": [
    {
     "data": {
      "text/plain": [
       "165179"
      ]
     },
     "execution_count": 32,
     "metadata": {},
     "output_type": "execute_result"
    }
   ],
   "source": [
    "len(users_book)"
   ]
  },
  {
   "cell_type": "code",
   "execution_count": 33,
   "metadata": {
    "collapsed": false
   },
   "outputs": [
    {
     "data": {
      "text/plain": [
       "1      AGEIT17HENDIS\n",
       "2     A1GGOC9PVDXW7Z\n",
       "5     A34PAZQ73SL163\n",
       "8     A20IIR0422G3A5\n",
       "12     AW3VZ5O895LRK\n",
       "Name: reviewerID, dtype: object"
      ]
     },
     "execution_count": 33,
     "metadata": {},
     "output_type": "execute_result"
    }
   ],
   "source": [
    "users_intersect = users_movie[users_movie.isin(users_book)]\n",
    "users_intersect.head()"
   ]
  },
  {
   "cell_type": "code",
   "execution_count": 34,
   "metadata": {
    "collapsed": false
   },
   "outputs": [
    {
     "data": {
      "text/plain": [
       "4866"
      ]
     },
     "execution_count": 34,
     "metadata": {},
     "output_type": "execute_result"
    }
   ],
   "source": [
    "len(users_intersect)"
   ]
  },
  {
   "cell_type": "markdown",
   "metadata": {},
   "source": [
    "#### Movie ratings common users"
   ]
  },
  {
   "cell_type": "code",
   "execution_count": 35,
   "metadata": {
    "collapsed": false
   },
   "outputs": [
    {
     "data": {
      "text/html": [
       "<div>\n",
       "<style>\n",
       "    .dataframe thead tr:only-child th {\n",
       "        text-align: right;\n",
       "    }\n",
       "\n",
       "    .dataframe thead th {\n",
       "        text-align: left;\n",
       "    }\n",
       "\n",
       "    .dataframe tbody tr th {\n",
       "        vertical-align: top;\n",
       "    }\n",
       "</style>\n",
       "<table border=\"1\" class=\"dataframe\">\n",
       "  <thead>\n",
       "    <tr style=\"text-align: right;\">\n",
       "      <th></th>\n",
       "      <th>reviewerID</th>\n",
       "      <th>asin</th>\n",
       "      <th>rating</th>\n",
       "      <th>reviewTime</th>\n",
       "    </tr>\n",
       "  </thead>\n",
       "  <tbody>\n",
       "    <tr>\n",
       "      <th>1</th>\n",
       "      <td>AGEIT17HENDIS</td>\n",
       "      <td>0764003828</td>\n",
       "      <td>3.0</td>\n",
       "      <td>1185062400</td>\n",
       "    </tr>\n",
       "    <tr>\n",
       "      <th>2</th>\n",
       "      <td>A1GGOC9PVDXW7Z</td>\n",
       "      <td>0764003828</td>\n",
       "      <td>2.0</td>\n",
       "      <td>1280016000</td>\n",
       "    </tr>\n",
       "    <tr>\n",
       "      <th>5</th>\n",
       "      <td>A34PAZQ73SL163</td>\n",
       "      <td>0764003828</td>\n",
       "      <td>5.0</td>\n",
       "      <td>1110585600</td>\n",
       "    </tr>\n",
       "    <tr>\n",
       "      <th>8</th>\n",
       "      <td>A20IIR0422G3A5</td>\n",
       "      <td>0764003828</td>\n",
       "      <td>5.0</td>\n",
       "      <td>1115078400</td>\n",
       "    </tr>\n",
       "    <tr>\n",
       "      <th>12</th>\n",
       "      <td>AW3VZ5O895LRK</td>\n",
       "      <td>0764003828</td>\n",
       "      <td>4.0</td>\n",
       "      <td>1379116800</td>\n",
       "    </tr>\n",
       "  </tbody>\n",
       "</table>\n",
       "</div>"
      ],
      "text/plain": [
       "        reviewerID        asin  rating  reviewTime\n",
       "1    AGEIT17HENDIS  0764003828     3.0  1185062400\n",
       "2   A1GGOC9PVDXW7Z  0764003828     2.0  1280016000\n",
       "5   A34PAZQ73SL163  0764003828     5.0  1110585600\n",
       "8   A20IIR0422G3A5  0764003828     5.0  1115078400\n",
       "12   AW3VZ5O895LRK  0764003828     4.0  1379116800"
      ]
     },
     "execution_count": 35,
     "metadata": {},
     "output_type": "execute_result"
    }
   ],
   "source": [
    "df_movie_ratings_intersect = df_movie_ratings[df_movie_ratings['reviewerID'].isin(users_intersect)]\n",
    "df_movie_ratings_intersect.head()"
   ]
  },
  {
   "cell_type": "code",
   "execution_count": 36,
   "metadata": {
    "collapsed": false
   },
   "outputs": [
    {
     "data": {
      "text/plain": [
       "12471"
      ]
     },
     "execution_count": 36,
     "metadata": {},
     "output_type": "execute_result"
    }
   ],
   "source": [
    "len(df_movie_ratings_intersect)"
   ]
  },
  {
   "cell_type": "code",
   "execution_count": 37,
   "metadata": {
    "collapsed": false
   },
   "outputs": [],
   "source": [
    "df_movie_ratings_intersect.to_csv('/home/ignacio/Datasets/Amazon/Data cleaned/ratings_movie_intersect_ii.csv', index=False)"
   ]
  },
  {
   "cell_type": "markdown",
   "metadata": {},
   "source": [
    "#### Book ratings common users"
   ]
  },
  {
   "cell_type": "code",
   "execution_count": null,
   "metadata": {
    "collapsed": false
   },
   "outputs": [],
   "source": [
    "df_book_ratings_intersect = df_book_ratings[df_book_ratings['reviewerID'].isin(users_intersect)]\n",
    "df_book_ratings_intersect.head()"
   ]
  },
  {
   "cell_type": "code",
   "execution_count": null,
   "metadata": {
    "collapsed": false
   },
   "outputs": [],
   "source": [
    "len(df_book_ratings_intersect)"
   ]
  },
  {
   "cell_type": "code",
   "execution_count": null,
   "metadata": {
    "collapsed": false
   },
   "outputs": [],
   "source": [
    "df_book_ratings_intersect.to_csv('/home/ignacio/Datasets/Amazon/Data cleaned/ratings_book_intersect_ii.csv', index=False)"
   ]
  }
 ],
 "metadata": {
  "kernelspec": {
   "display_name": "Python 3",
   "language": "python",
   "name": "python3"
  },
  "language_info": {
   "codemirror_mode": {
    "name": "ipython",
    "version": 3
   },
   "file_extension": ".py",
   "mimetype": "text/x-python",
   "name": "python",
   "nbconvert_exporter": "python",
   "pygments_lexer": "ipython3",
   "version": "3.5.2"
  }
 },
 "nbformat": 4,
 "nbformat_minor": 2
}
