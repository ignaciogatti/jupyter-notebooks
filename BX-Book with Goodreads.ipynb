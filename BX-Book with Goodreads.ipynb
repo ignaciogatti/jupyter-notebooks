{
 "cells": [
  {
   "cell_type": "code",
   "execution_count": null,
   "metadata": {
    "collapsed": false
   },
   "outputs": [],
   "source": [
    "import pandas as pd\n",
    "import numpy as np\n",
    "import math\n",
    "from goodreads import client, shelf\n",
    "import oauth2 as oauth\n",
    "import urllib\n",
    "import collections"
   ]
  },
  {
   "cell_type": "markdown",
   "metadata": {},
   "source": [
    "## Get authentication oauth2"
   ]
  },
  {
   "cell_type": "code",
   "execution_count": null,
   "metadata": {
    "collapsed": true
   },
   "outputs": [],
   "source": [
    "url = 'http://www.goodreads.com'\n",
    "request_token_url = '%s/oauth/request_token/' % url\n",
    "authorize_url = '%s/oauth/authorize/' % url\n",
    "access_token_url = '%s/oauth/access_token/' % url"
   ]
  },
  {
   "cell_type": "code",
   "execution_count": null,
   "metadata": {
    "collapsed": false
   },
   "outputs": [],
   "source": [
    "gc = client.GoodreadsClient('63pG3gIBwuO4vq83YxHpw', 'p81lgA89eoowbbkVtsh7hdoB2fdW5ELeXijb2Kk')"
   ]
  },
  {
   "cell_type": "code",
   "execution_count": null,
   "metadata": {
    "collapsed": false
   },
   "outputs": [],
   "source": [
    "consumer = oauth.Consumer(key='63pG3gIBwuO4vq83YxHpw',\n",
    "                          secret='P4t2Nvwesy7h4DG9hTKdBbdQHlo76Uz7Nxd6iFJZU')\n",
    "\n",
    "\n",
    "oclient = oauth.Client(consumer)\n",
    "\n",
    "response, content = oclient.request(request_token_url, 'GET')\n",
    "if response['status'] != '200':\n",
    "    raise Exception('Invalid response: %s ' % response['status'])\n",
    "\n",
    "request_token = dict(urllib.parse.parse_qsl(content))\n",
    "\n",
    "authorize_link = '%s?oauth_token=%s' % (authorize_url,\n",
    "                                        request_token['oauth_token'])\n",
    "\n",
    "authorize_link"
   ]
  },
  {
   "cell_type": "markdown",
   "metadata": {},
   "source": [
    "## Get Titles from selected authors"
   ]
  },
  {
   "cell_type": "code",
   "execution_count": null,
   "metadata": {
    "collapsed": false
   },
   "outputs": [],
   "source": [
    "df_bx_book = pd.read_csv('/home/ignacio/Datasets/BX-CSV-Dump/BX-Books.csv', sep=';', encoding='iso-8859-15', error_bad_lines=False)\n",
    "df_bx_book.head()"
   ]
  },
  {
   "cell_type": "code",
   "execution_count": null,
   "metadata": {
    "collapsed": false
   },
   "outputs": [],
   "source": [
    "df_node_authors = pd.read_csv('/home/ignacio/Datasets/Graph analysis/authors_nodes.csv')\n",
    "df_node_authors.head()"
   ]
  },
  {
   "cell_type": "code",
   "execution_count": null,
   "metadata": {
    "collapsed": false
   },
   "outputs": [],
   "source": [
    "df_bx_book = df_bx_book[ df_bx_book['Book-Author'].isin( df_node_authors['Authors'] ) ]\n",
    "df_bx_book.head()"
   ]
  },
  {
   "cell_type": "code",
   "execution_count": null,
   "metadata": {
    "collapsed": false
   },
   "outputs": [],
   "source": [
    "len(df_bx_book)"
   ]
  },
  {
   "cell_type": "code",
   "execution_count": null,
   "metadata": {
    "collapsed": false
   },
   "outputs": [],
   "source": [
    "df_bx_book[df_bx_book['ISBN']=='1566191432']"
   ]
  },
  {
   "cell_type": "code",
   "execution_count": null,
   "metadata": {
    "collapsed": true
   },
   "outputs": [],
   "source": [
    "df_bx_book.to_csv('/home/ignacio/Datasets/BX-CSV-Dump/BX-Books-Subset.csv', index=False)"
   ]
  },
  {
   "cell_type": "markdown",
   "metadata": {},
   "source": [
    "## Get shelves from GoodReads"
   ]
  },
  {
   "cell_type": "code",
   "execution_count": null,
   "metadata": {
    "collapsed": false
   },
   "outputs": [],
   "source": [
    "df_bx_book = pd.read_csv('/home/ignacio/Datasets/BX-CSV-Dump/BX-Books-Subset.csv')\n",
    "#df_bx_book = df_bx_book[['ISBN', 'Book-Title', 'Book-Author', 'Year-Of-Publication', 'Publisher']]\n",
    "df_bx_book.head()"
   ]
  },
  {
   "cell_type": "markdown",
   "metadata": {},
   "source": [
    "### Modify information based on GoodReads"
   ]
  },
  {
   "cell_type": "code",
   "execution_count": null,
   "metadata": {
    "collapsed": false
   },
   "outputs": [],
   "source": [
    "df_bx_book['ISBN'] = df_bx_book['ISBN'].str.replace('0515134503','9780515134506')\n",
    "df_bx_book.head()"
   ]
  },
  {
   "cell_type": "code",
   "execution_count": null,
   "metadata": {
    "collapsed": true
   },
   "outputs": [],
   "source": [
    "df_bx_book = df_bx_book.drop([1123])"
   ]
  },
  {
   "cell_type": "markdown",
   "metadata": {},
   "source": [
    "### Function to find shelves"
   ]
  },
  {
   "cell_type": "code",
   "execution_count": null,
   "metadata": {
    "collapsed": true
   },
   "outputs": [],
   "source": [
    "gc = client.GoodreadsClient('63pG3gIBwuO4vq83YxHpw', 'P4t2Nvwesy7h4DG9hTKdBbdQHlo76Uz7Nxd6iFJZU')"
   ]
  },
  {
   "cell_type": "markdown",
   "metadata": {},
   "source": [
    "#### get popupar shelves"
   ]
  },
  {
   "cell_type": "code",
   "execution_count": null,
   "metadata": {
    "collapsed": true
   },
   "outputs": [],
   "source": [
    "def get_popular_shelves(book):\n",
    "    if type(book._book_dict['popular_shelves']['shelf']) is collections.OrderedDict :\n",
    "        return [shelf.GoodreadsShelf(book._book_dict['popular_shelves']['shelf'])]\n",
    "    else:\n",
    "        return [shelf.GoodreadsShelf(pop_shel) for pop_shel in book._book_dict['popular_shelves']['shelf']]\n",
    "    "
   ]
  },
  {
   "cell_type": "markdown",
   "metadata": {},
   "source": [
    "#### find shelves"
   ]
  },
  {
   "cell_type": "code",
   "execution_count": null,
   "metadata": {
    "collapsed": true
   },
   "outputs": [],
   "source": [
    "def find_shelves(row, isbn_list):\n",
    "#    print(row['ISBN'])\n",
    "    try:\n",
    "        book = gc.book(isbn=row['ISBN'])\n",
    "        result = get_popular_shelves(book)\n",
    "    except Exception:\n",
    "        print('ISBN '+ row['ISBN'] +' INVALID')\n",
    "        isbn_list.append( row['ISBN'] )\n",
    "        result = []\n",
    "    return str(result)"
   ]
  },
  {
   "cell_type": "code",
   "execution_count": null,
   "metadata": {
    "collapsed": false
   },
   "outputs": [],
   "source": [
    "frame = 100\n",
    "max_complete_frames = math.floor(len(df_bx_book)/frame)\n",
    "max_complete_frames"
   ]
  },
  {
   "cell_type": "code",
   "execution_count": null,
   "metadata": {
    "collapsed": true
   },
   "outputs": [],
   "source": [
    "isbn_invalid = []"
   ]
  },
  {
   "cell_type": "code",
   "execution_count": null,
   "metadata": {
    "collapsed": false
   },
   "outputs": [],
   "source": [
    "for i in np.arange(125, max_complete_frames):\n",
    "    df_test = df_bx_book.loc[i*frame : (i+1)*frame]\n",
    "    df_test['shelves'] = df_test.apply(find_shelves, axis=1, isbn_list=isbn_invalid)\n",
    "    df_test.to_csv('/home/ignacio/Datasets/BX-CSV-Dump/BX-book-shelves_'+ str(i) +'.csv', index=False)\n",
    "    print(\"Iteration \" + str(i) )"
   ]
  },
  {
   "cell_type": "code",
   "execution_count": null,
   "metadata": {
    "collapsed": false
   },
   "outputs": [],
   "source": [
    "if len(df_bx_book) % frame != 0:\n",
    "    df_test = df_bx_book.loc[max_complete_frames*frame : len(df_bx_book) ]\n",
    "    df_test['shelves'] = df_test.apply(find_shelves, axis=1, isbn_list=isbn_invalid)\n",
    "    df_test.to_csv('/home/ignacio/Datasets/BX-CSV-Dump/BX-book-shelves_'+ str(max_complete_frames) +'.csv', index=False)"
   ]
  },
  {
   "cell_type": "code",
   "execution_count": null,
   "metadata": {
    "collapsed": false
   },
   "outputs": [],
   "source": [
    "df_book_shelves = pd.read_csv('/home/ignacio/Datasets/BX-CSV-Dump/BX-book-shelves_0.csv')\n",
    "for i in np.arange(1,max_complete_frames+1):\n",
    "    df = pd.read_csv('/home/ignacio/Datasets/BX-CSV-Dump/BX-book-shelves_'+str(i)+'.csv')\n",
    "    df_book_shelves = pd.concat([df_book_shelves, df])\n",
    "df_book_shelves = df_book_shelves.reset_index()\n",
    "df_book_shelves.head()"
   ]
  },
  {
   "cell_type": "code",
   "execution_count": null,
   "metadata": {
    "collapsed": false
   },
   "outputs": [],
   "source": [
    "df_book_shelves = df_book_shelves.drop(axis=1, labels=['index'])\n",
    "df_book_shelves.head()"
   ]
  },
  {
   "cell_type": "code",
   "execution_count": null,
   "metadata": {
    "collapsed": true
   },
   "outputs": [],
   "source": [
    "df_book_shelves.to_csv('/home/ignacio/Datasets/BX-CSV-Dump/BX-book-shelves.csv', index=False)"
   ]
  },
  {
   "cell_type": "code",
   "execution_count": null,
   "metadata": {
    "collapsed": true
   },
   "outputs": [],
   "source": []
  },
  {
   "cell_type": "code",
   "execution_count": null,
   "metadata": {
    "collapsed": true
   },
   "outputs": [],
   "source": []
  },
  {
   "cell_type": "code",
   "execution_count": null,
   "metadata": {
    "collapsed": false,
    "scrolled": false
   },
   "outputs": [],
   "source": [
    "pop_shelve = book._book_dict['popular_shelves']"
   ]
  },
  {
   "cell_type": "code",
   "execution_count": null,
   "metadata": {
    "collapsed": false
   },
   "outputs": [],
   "source": [
    "type(pop_shelve['shelf']) is collections.OrderedDict"
   ]
  },
  {
   "cell_type": "code",
   "execution_count": null,
   "metadata": {
    "collapsed": false
   },
   "outputs": [],
   "source": [
    "get_popular_shelves(book)"
   ]
  },
  {
   "cell_type": "code",
   "execution_count": null,
   "metadata": {
    "collapsed": false
   },
   "outputs": [],
   "source": [
    "for k, v in pop_shelve['shelf'].items():\n",
    "    print(v)"
   ]
  },
  {
   "cell_type": "code",
   "execution_count": null,
   "metadata": {
    "collapsed": true
   },
   "outputs": [],
   "source": [
    "book2 = gc.book(isbn='2070360024')"
   ]
  },
  {
   "cell_type": "code",
   "execution_count": null,
   "metadata": {
    "collapsed": false
   },
   "outputs": [],
   "source": [
    "get_popular_shelves(book2)"
   ]
  },
  {
   "cell_type": "code",
   "execution_count": null,
   "metadata": {
    "collapsed": false
   },
   "outputs": [],
   "source": [
    "book2.average_rating"
   ]
  },
  {
   "cell_type": "code",
   "execution_count": null,
   "metadata": {
    "collapsed": false
   },
   "outputs": [],
   "source": [
    "pop_shelve2 = book2._book_dict['popular_shelves']\n",
    "pop_shelve2['shelf']"
   ]
  },
  {
   "cell_type": "code",
   "execution_count": null,
   "metadata": {
    "collapsed": false
   },
   "outputs": [],
   "source": [
    "print(shelves_list)"
   ]
  }
 ],
 "metadata": {
  "kernelspec": {
   "display_name": "Python 3",
   "language": "python",
   "name": "python3"
  },
  "language_info": {
   "codemirror_mode": {
    "name": "ipython",
    "version": 3
   },
   "file_extension": ".py",
   "mimetype": "text/x-python",
   "name": "python",
   "nbconvert_exporter": "python",
   "pygments_lexer": "ipython3",
   "version": "3.5.2"
  }
 },
 "nbformat": 4,
 "nbformat_minor": 2
}
