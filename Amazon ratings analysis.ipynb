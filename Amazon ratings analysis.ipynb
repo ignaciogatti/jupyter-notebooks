{
 "cells": [
  {
   "cell_type": "markdown",
   "metadata": {},
   "source": [
    "## Amazon ratings analysis"
   ]
  },
  {
   "cell_type": "code",
   "execution_count": 1,
   "metadata": {
    "collapsed": true
   },
   "outputs": [],
   "source": [
    "import pandas as pd\n",
    "import numpy as np\n",
    "import seaborn as sns\n",
    "import matplotlib.pyplot as plt \n",
    "\n",
    "%matplotlib inline"
   ]
  },
  {
   "cell_type": "markdown",
   "metadata": {},
   "source": [
    "#### movie_ratings"
   ]
  },
  {
   "cell_type": "code",
   "execution_count": 2,
   "metadata": {
    "collapsed": false
   },
   "outputs": [
    {
     "data": {
      "text/html": [
       "<div>\n",
       "<style>\n",
       "    .dataframe thead tr:only-child th {\n",
       "        text-align: right;\n",
       "    }\n",
       "\n",
       "    .dataframe thead th {\n",
       "        text-align: left;\n",
       "    }\n",
       "\n",
       "    .dataframe tbody tr th {\n",
       "        vertical-align: top;\n",
       "    }\n",
       "</style>\n",
       "<table border=\"1\" class=\"dataframe\">\n",
       "  <thead>\n",
       "    <tr style=\"text-align: right;\">\n",
       "      <th></th>\n",
       "      <th>userId</th>\n",
       "      <th>asin</th>\n",
       "      <th>rating</th>\n",
       "      <th>reviewTime</th>\n",
       "      <th>movieId</th>\n",
       "    </tr>\n",
       "  </thead>\n",
       "  <tbody>\n",
       "    <tr>\n",
       "      <th>0</th>\n",
       "      <td>AGEIT17HENDIS</td>\n",
       "      <td>0764003828</td>\n",
       "      <td>3.0</td>\n",
       "      <td>1185062400</td>\n",
       "      <td>1963</td>\n",
       "    </tr>\n",
       "    <tr>\n",
       "      <th>1</th>\n",
       "      <td>A1GGOC9PVDXW7Z</td>\n",
       "      <td>0764003828</td>\n",
       "      <td>2.0</td>\n",
       "      <td>1280016000</td>\n",
       "      <td>1963</td>\n",
       "    </tr>\n",
       "    <tr>\n",
       "      <th>2</th>\n",
       "      <td>A34PAZQ73SL163</td>\n",
       "      <td>0764003828</td>\n",
       "      <td>5.0</td>\n",
       "      <td>1110585600</td>\n",
       "      <td>1963</td>\n",
       "    </tr>\n",
       "    <tr>\n",
       "      <th>3</th>\n",
       "      <td>A20IIR0422G3A5</td>\n",
       "      <td>0764003828</td>\n",
       "      <td>5.0</td>\n",
       "      <td>1115078400</td>\n",
       "      <td>1963</td>\n",
       "    </tr>\n",
       "    <tr>\n",
       "      <th>4</th>\n",
       "      <td>AW3VZ5O895LRK</td>\n",
       "      <td>0764003828</td>\n",
       "      <td>4.0</td>\n",
       "      <td>1379116800</td>\n",
       "      <td>1963</td>\n",
       "    </tr>\n",
       "  </tbody>\n",
       "</table>\n",
       "</div>"
      ],
      "text/plain": [
       "           userId        asin  rating  reviewTime  movieId\n",
       "0   AGEIT17HENDIS  0764003828     3.0  1185062400     1963\n",
       "1  A1GGOC9PVDXW7Z  0764003828     2.0  1280016000     1963\n",
       "2  A34PAZQ73SL163  0764003828     5.0  1110585600     1963\n",
       "3  A20IIR0422G3A5  0764003828     5.0  1115078400     1963\n",
       "4   AW3VZ5O895LRK  0764003828     4.0  1379116800     1963"
      ]
     },
     "execution_count": 2,
     "metadata": {},
     "output_type": "execute_result"
    }
   ],
   "source": [
    "df_ratings_movie = pd.read_csv('/home/ignacio/Datasets/Amazon/Data cleaned/ratings_movie_intersect_greater_1.csv') \n",
    "df_ratings_movie.head()"
   ]
  },
  {
   "cell_type": "code",
   "execution_count": 31,
   "metadata": {
    "collapsed": false
   },
   "outputs": [
    {
     "data": {
      "text/plain": [
       "userId\n",
       "A106016KSI0YQ     13\n",
       "A10E3F50DIUJEE     4\n",
       "A10EH95EUDO9W3     4\n",
       "A10Q8NIFOVOHFV     2\n",
       "A10X0JN8KTK89H     2\n",
       "dtype: int64"
      ]
     },
     "execution_count": 31,
     "metadata": {},
     "output_type": "execute_result"
    }
   ],
   "source": [
    "df_users_group_movie = df_ratings_movie.groupby('userId').size()\n",
    "df_users_group_movie.head()"
   ]
  },
  {
   "cell_type": "code",
   "execution_count": 32,
   "metadata": {
    "collapsed": false
   },
   "outputs": [
    {
     "data": {
      "text/html": [
       "<div>\n",
       "<style>\n",
       "    .dataframe thead tr:only-child th {\n",
       "        text-align: right;\n",
       "    }\n",
       "\n",
       "    .dataframe thead th {\n",
       "        text-align: left;\n",
       "    }\n",
       "\n",
       "    .dataframe tbody tr th {\n",
       "        vertical-align: top;\n",
       "    }\n",
       "</style>\n",
       "<table border=\"1\" class=\"dataframe\">\n",
       "  <thead>\n",
       "    <tr style=\"text-align: right;\">\n",
       "      <th></th>\n",
       "      <th>index</th>\n",
       "      <th>count</th>\n",
       "    </tr>\n",
       "  </thead>\n",
       "  <tbody>\n",
       "    <tr>\n",
       "      <th>0</th>\n",
       "      <td>2</td>\n",
       "      <td>522</td>\n",
       "    </tr>\n",
       "    <tr>\n",
       "      <th>1</th>\n",
       "      <td>3</td>\n",
       "      <td>239</td>\n",
       "    </tr>\n",
       "    <tr>\n",
       "      <th>2</th>\n",
       "      <td>4</td>\n",
       "      <td>154</td>\n",
       "    </tr>\n",
       "    <tr>\n",
       "      <th>3</th>\n",
       "      <td>5</td>\n",
       "      <td>94</td>\n",
       "    </tr>\n",
       "    <tr>\n",
       "      <th>4</th>\n",
       "      <td>6</td>\n",
       "      <td>81</td>\n",
       "    </tr>\n",
       "  </tbody>\n",
       "</table>\n",
       "</div>"
      ],
      "text/plain": [
       "   index  count\n",
       "0      2    522\n",
       "1      3    239\n",
       "2      4    154\n",
       "3      5     94\n",
       "4      6     81"
      ]
     },
     "execution_count": 32,
     "metadata": {},
     "output_type": "execute_result"
    }
   ],
   "source": [
    "movie_dist = df_users_group_movie.value_counts().reset_index(name='count')\n",
    "#movie_dist = movie_dist.rename('movie dist')\n",
    "movie_dist.head()"
   ]
  },
  {
   "cell_type": "code",
   "execution_count": 37,
   "metadata": {
    "collapsed": false
   },
   "outputs": [
    {
     "data": {
      "text/plain": [
       "<matplotlib.axes._subplots.AxesSubplot at 0x7febbaeee518>"
      ]
     },
     "execution_count": 37,
     "metadata": {},
     "output_type": "execute_result"
    },
    {
     "data": {
      "image/png": "[encoded data removed]",
      "text/plain": [
       "<matplotlib.figure.Figure at 0x7febbb378c88>"
      ]
     },
     "metadata": {},
     "output_type": "display_data"
    }
   ],
   "source": [
    "plt.figure(figsize=(12,10))\n",
    "sns.barplot(x='index', y='count', data=movie_dist)\n",
    "#g.set_xticklabels(labels=df_genres['genre'],rotation=45)"
   ]
  },
  {
   "cell_type": "code",
   "execution_count": null,
   "metadata": {
    "collapsed": false
   },
   "outputs": [],
   "source": [
    "df_users_group_movie = df_users_group_movie[df_users_group_movie > 1]\n",
    "df_users_group_movie.head()"
   ]
  },
  {
   "cell_type": "code",
   "execution_count": null,
   "metadata": {
    "collapsed": false
   },
   "outputs": [],
   "source": [
    "df_ratings_movie = df_ratings_movie[df_ratings_movie['userId'].isin(list(df_users_group_movie.index))]\n",
    "df_ratings_movie.head()"
   ]
  },
  {
   "cell_type": "code",
   "execution_count": null,
   "metadata": {
    "collapsed": false
   },
   "outputs": [],
   "source": [
    "len(df_ratings_movie['userId'].unique())"
   ]
  },
  {
   "cell_type": "code",
   "execution_count": 34,
   "metadata": {
    "collapsed": true
   },
   "outputs": [],
   "source": [
    "df_ratings_movie.to_csv('/home/ignacio/Datasets/Amazon/Data cleaned/ratings_movie_intersect_greater_1.csv', index=False)"
   ]
  },
  {
   "cell_type": "markdown",
   "metadata": {},
   "source": [
    "#### Book-ratings"
   ]
  },
  {
   "cell_type": "code",
   "execution_count": 8,
   "metadata": {
    "collapsed": false
   },
   "outputs": [
    {
     "data": {
      "text/html": [
       "<div>\n",
       "<style>\n",
       "    .dataframe thead tr:only-child th {\n",
       "        text-align: right;\n",
       "    }\n",
       "\n",
       "    .dataframe thead th {\n",
       "        text-align: left;\n",
       "    }\n",
       "\n",
       "    .dataframe tbody tr th {\n",
       "        vertical-align: top;\n",
       "    }\n",
       "</style>\n",
       "<table border=\"1\" class=\"dataframe\">\n",
       "  <thead>\n",
       "    <tr style=\"text-align: right;\">\n",
       "      <th></th>\n",
       "      <th>userId</th>\n",
       "      <th>asin</th>\n",
       "      <th>rating</th>\n",
       "      <th>reviewTime</th>\n",
       "      <th>ISBN</th>\n",
       "    </tr>\n",
       "  </thead>\n",
       "  <tbody>\n",
       "    <tr>\n",
       "      <th>0</th>\n",
       "      <td>AGEIT17HENDIS</td>\n",
       "      <td>0002051850</td>\n",
       "      <td>4.0</td>\n",
       "      <td>1148860800</td>\n",
       "      <td>0684803356</td>\n",
       "    </tr>\n",
       "    <tr>\n",
       "      <th>1</th>\n",
       "      <td>A2RM9L2MM9EQVE</td>\n",
       "      <td>0002051850</td>\n",
       "      <td>5.0</td>\n",
       "      <td>1222905600</td>\n",
       "      <td>0684803356</td>\n",
       "    </tr>\n",
       "    <tr>\n",
       "      <th>2</th>\n",
       "      <td>AHCVWPLA1O4X8</td>\n",
       "      <td>0002051850</td>\n",
       "      <td>5.0</td>\n",
       "      <td>1059696000</td>\n",
       "      <td>0684803356</td>\n",
       "    </tr>\n",
       "    <tr>\n",
       "      <th>3</th>\n",
       "      <td>A4BNZ1OSBO77S</td>\n",
       "      <td>0002051850</td>\n",
       "      <td>5.0</td>\n",
       "      <td>1059350400</td>\n",
       "      <td>0684803356</td>\n",
       "    </tr>\n",
       "    <tr>\n",
       "      <th>4</th>\n",
       "      <td>A4X7FBQ5SKPI6</td>\n",
       "      <td>0002051850</td>\n",
       "      <td>5.0</td>\n",
       "      <td>1186185600</td>\n",
       "      <td>0684803356</td>\n",
       "    </tr>\n",
       "  </tbody>\n",
       "</table>\n",
       "</div>"
      ],
      "text/plain": [
       "           userId        asin  rating  reviewTime        ISBN\n",
       "0   AGEIT17HENDIS  0002051850     4.0  1148860800  0684803356\n",
       "1  A2RM9L2MM9EQVE  0002051850     5.0  1222905600  0684803356\n",
       "2   AHCVWPLA1O4X8  0002051850     5.0  1059696000  0684803356\n",
       "3   A4BNZ1OSBO77S  0002051850     5.0  1059350400  0684803356\n",
       "4   A4X7FBQ5SKPI6  0002051850     5.0  1186185600  0684803356"
      ]
     },
     "execution_count": 8,
     "metadata": {},
     "output_type": "execute_result"
    }
   ],
   "source": [
    "df_ratings_book = pd.read_csv('/home/ignacio/Datasets/Amazon/Data cleaned/ratings_book_intersect_greater_1.csv')\n",
    "df_ratings_book.head()"
   ]
  },
  {
   "cell_type": "code",
   "execution_count": 35,
   "metadata": {
    "collapsed": false
   },
   "outputs": [
    {
     "data": {
      "text/plain": [
       "userId\n",
       "A106016KSI0YQ     33\n",
       "A10E3F50DIUJEE     6\n",
       "A10EH95EUDO9W3     4\n",
       "A10Q8NIFOVOHFV     2\n",
       "A10X0JN8KTK89H     7\n",
       "dtype: int64"
      ]
     },
     "execution_count": 35,
     "metadata": {},
     "output_type": "execute_result"
    }
   ],
   "source": [
    "df_users_group_book = df_ratings_book.groupby('userId').size()\n",
    "df_users_group_book.head()"
   ]
  },
  {
   "cell_type": "code",
   "execution_count": 36,
   "metadata": {
    "collapsed": false
   },
   "outputs": [
    {
     "data": {
      "text/html": [
       "<div>\n",
       "<style>\n",
       "    .dataframe thead tr:only-child th {\n",
       "        text-align: right;\n",
       "    }\n",
       "\n",
       "    .dataframe thead th {\n",
       "        text-align: left;\n",
       "    }\n",
       "\n",
       "    .dataframe tbody tr th {\n",
       "        vertical-align: top;\n",
       "    }\n",
       "</style>\n",
       "<table border=\"1\" class=\"dataframe\">\n",
       "  <thead>\n",
       "    <tr style=\"text-align: right;\">\n",
       "      <th></th>\n",
       "      <th>index</th>\n",
       "      <th>count</th>\n",
       "    </tr>\n",
       "  </thead>\n",
       "  <tbody>\n",
       "    <tr>\n",
       "      <th>0</th>\n",
       "      <td>2</td>\n",
       "      <td>217</td>\n",
       "    </tr>\n",
       "    <tr>\n",
       "      <th>1</th>\n",
       "      <td>3</td>\n",
       "      <td>176</td>\n",
       "    </tr>\n",
       "    <tr>\n",
       "      <th>2</th>\n",
       "      <td>4</td>\n",
       "      <td>137</td>\n",
       "    </tr>\n",
       "    <tr>\n",
       "      <th>3</th>\n",
       "      <td>5</td>\n",
       "      <td>112</td>\n",
       "    </tr>\n",
       "    <tr>\n",
       "      <th>4</th>\n",
       "      <td>6</td>\n",
       "      <td>86</td>\n",
       "    </tr>\n",
       "  </tbody>\n",
       "</table>\n",
       "</div>"
      ],
      "text/plain": [
       "   index  count\n",
       "0      2    217\n",
       "1      3    176\n",
       "2      4    137\n",
       "3      5    112\n",
       "4      6     86"
      ]
     },
     "execution_count": 36,
     "metadata": {},
     "output_type": "execute_result"
    }
   ],
   "source": [
    "book_dist = df_users_group_book.value_counts().reset_index(name='count')\n",
    "#movie_dist = movie_dist.rename('movie dist')\n",
    "book_dist.head()"
   ]
  },
  {
   "cell_type": "code",
   "execution_count": 18,
   "metadata": {
    "collapsed": true
   },
   "outputs": [],
   "source": [
    "xlabels =[ x if x%5==0 else '' for x in list(book_dist['index'])]"
   ]
  },
  {
   "cell_type": "code",
   "execution_count": 38,
   "metadata": {
    "collapsed": false
   },
   "outputs": [
    {
     "data": {
      "image/png": "[encoded data removed]",
      "text/plain": [
       "<matplotlib.figure.Figure at 0x7febbb065860>"
      ]
     },
     "metadata": {},
     "output_type": "display_data"
    }
   ],
   "source": [
    "plt.figure(figsize=(12,10))\n",
    "g = sns.barplot(x='index', y='count', data=book_dist)\n",
    "#g.set_xticklabels(labels=xlabels,rotation=45)"
   ]
  },
  {
   "cell_type": "code",
   "execution_count": null,
   "metadata": {
    "collapsed": false
   },
   "outputs": [],
   "source": [
    "df_users_group_book = df_users_group_book[df_users_group_book > 1]\n",
    "df_users_group_book.head()"
   ]
  },
  {
   "cell_type": "code",
   "execution_count": null,
   "metadata": {
    "collapsed": false
   },
   "outputs": [],
   "source": [
    "df_ratings_book = df_ratings_book[df_ratings_book['userId'].isin(list(df_users_group_book.index))]\n",
    "df_ratings_book.head()"
   ]
  },
  {
   "cell_type": "code",
   "execution_count": null,
   "metadata": {
    "collapsed": false
   },
   "outputs": [],
   "source": [
    "len(df_ratings_book['userId'].unique())"
   ]
  },
  {
   "cell_type": "code",
   "execution_count": 39,
   "metadata": {
    "collapsed": true
   },
   "outputs": [],
   "source": [
    "df_ratings_book.to_csv('/home/ignacio/Datasets/Amazon/Data cleaned/ratings_book_intersect_greater_1.csv', index=False)"
   ]
  },
  {
   "cell_type": "markdown",
   "metadata": {},
   "source": [
    "## Intersect users ratings"
   ]
  },
  {
   "cell_type": "code",
   "execution_count": 21,
   "metadata": {
    "collapsed": false
   },
   "outputs": [
    {
     "data": {
      "text/plain": [
       "0    AGEIT17HENDIS\n",
       "2    AHCVWPLA1O4X8\n",
       "3    A4BNZ1OSBO77S\n",
       "4    A4X7FBQ5SKPI6\n",
       "6    AI37YX1U4KB1L\n",
       "Name: userId, dtype: object"
      ]
     },
     "execution_count": 21,
     "metadata": {},
     "output_type": "execute_result"
    }
   ],
   "source": [
    "users_intersect = df_ratings_book['userId'][df_ratings_book['userId'].isin(df_ratings_movie['userId'])]\n",
    "users_intersect.head()"
   ]
  },
  {
   "cell_type": "code",
   "execution_count": 23,
   "metadata": {
    "collapsed": false
   },
   "outputs": [
    {
     "data": {
      "text/plain": [
       "1384"
      ]
     },
     "execution_count": 23,
     "metadata": {},
     "output_type": "execute_result"
    }
   ],
   "source": [
    "len(users_intersect.unique())"
   ]
  },
  {
   "cell_type": "code",
   "execution_count": 24,
   "metadata": {
    "collapsed": false
   },
   "outputs": [
    {
     "data": {
      "text/html": [
       "<div>\n",
       "<style>\n",
       "    .dataframe thead tr:only-child th {\n",
       "        text-align: right;\n",
       "    }\n",
       "\n",
       "    .dataframe thead th {\n",
       "        text-align: left;\n",
       "    }\n",
       "\n",
       "    .dataframe tbody tr th {\n",
       "        vertical-align: top;\n",
       "    }\n",
       "</style>\n",
       "<table border=\"1\" class=\"dataframe\">\n",
       "  <thead>\n",
       "    <tr style=\"text-align: right;\">\n",
       "      <th></th>\n",
       "      <th>userId</th>\n",
       "      <th>asin</th>\n",
       "      <th>rating</th>\n",
       "      <th>reviewTime</th>\n",
       "      <th>movieId</th>\n",
       "    </tr>\n",
       "  </thead>\n",
       "  <tbody>\n",
       "    <tr>\n",
       "      <th>0</th>\n",
       "      <td>AGEIT17HENDIS</td>\n",
       "      <td>0764003828</td>\n",
       "      <td>3.0</td>\n",
       "      <td>1185062400</td>\n",
       "      <td>1963</td>\n",
       "    </tr>\n",
       "    <tr>\n",
       "      <th>2</th>\n",
       "      <td>A34PAZQ73SL163</td>\n",
       "      <td>0764003828</td>\n",
       "      <td>5.0</td>\n",
       "      <td>1110585600</td>\n",
       "      <td>1963</td>\n",
       "    </tr>\n",
       "    <tr>\n",
       "      <th>3</th>\n",
       "      <td>A20IIR0422G3A5</td>\n",
       "      <td>0764003828</td>\n",
       "      <td>5.0</td>\n",
       "      <td>1115078400</td>\n",
       "      <td>1963</td>\n",
       "    </tr>\n",
       "    <tr>\n",
       "      <th>4</th>\n",
       "      <td>AW3VZ5O895LRK</td>\n",
       "      <td>0764003828</td>\n",
       "      <td>4.0</td>\n",
       "      <td>1379116800</td>\n",
       "      <td>1963</td>\n",
       "    </tr>\n",
       "    <tr>\n",
       "      <th>5</th>\n",
       "      <td>A161ANWB62G3M8</td>\n",
       "      <td>0764003828</td>\n",
       "      <td>5.0</td>\n",
       "      <td>1222041600</td>\n",
       "      <td>1963</td>\n",
       "    </tr>\n",
       "  </tbody>\n",
       "</table>\n",
       "</div>"
      ],
      "text/plain": [
       "           userId        asin  rating  reviewTime  movieId\n",
       "0   AGEIT17HENDIS  0764003828     3.0  1185062400     1963\n",
       "2  A34PAZQ73SL163  0764003828     5.0  1110585600     1963\n",
       "3  A20IIR0422G3A5  0764003828     5.0  1115078400     1963\n",
       "4   AW3VZ5O895LRK  0764003828     4.0  1379116800     1963\n",
       "5  A161ANWB62G3M8  0764003828     5.0  1222041600     1963"
      ]
     },
     "execution_count": 24,
     "metadata": {},
     "output_type": "execute_result"
    }
   ],
   "source": [
    "df_ratings_movie = df_ratings_movie[df_ratings_movie['userId'].isin(users_intersect)]\n",
    "df_ratings_movie.head()"
   ]
  },
  {
   "cell_type": "code",
   "execution_count": 41,
   "metadata": {
    "collapsed": false
   },
   "outputs": [],
   "source": [
    "user_example = df_ratings_movie[df_ratings_movie['userId'] == 'AGEIT17HENDIS']"
   ]
  },
  {
   "cell_type": "code",
   "execution_count": 42,
   "metadata": {
    "collapsed": false
   },
   "outputs": [
    {
     "data": {
      "text/plain": [
       "28"
      ]
     },
     "execution_count": 42,
     "metadata": {},
     "output_type": "execute_result"
    }
   ],
   "source": [
    "len(user_example)"
   ]
  },
  {
   "cell_type": "code",
   "execution_count": 27,
   "metadata": {
    "collapsed": false
   },
   "outputs": [
    {
     "data": {
      "text/html": [
       "<div>\n",
       "<style>\n",
       "    .dataframe thead tr:only-child th {\n",
       "        text-align: right;\n",
       "    }\n",
       "\n",
       "    .dataframe thead th {\n",
       "        text-align: left;\n",
       "    }\n",
       "\n",
       "    .dataframe tbody tr th {\n",
       "        vertical-align: top;\n",
       "    }\n",
       "</style>\n",
       "<table border=\"1\" class=\"dataframe\">\n",
       "  <thead>\n",
       "    <tr style=\"text-align: right;\">\n",
       "      <th></th>\n",
       "      <th>userId</th>\n",
       "      <th>asin</th>\n",
       "      <th>rating</th>\n",
       "      <th>reviewTime</th>\n",
       "      <th>ISBN</th>\n",
       "    </tr>\n",
       "  </thead>\n",
       "  <tbody>\n",
       "    <tr>\n",
       "      <th>0</th>\n",
       "      <td>AGEIT17HENDIS</td>\n",
       "      <td>0002051850</td>\n",
       "      <td>4.0</td>\n",
       "      <td>1148860800</td>\n",
       "      <td>0684803356</td>\n",
       "    </tr>\n",
       "    <tr>\n",
       "      <th>2</th>\n",
       "      <td>AHCVWPLA1O4X8</td>\n",
       "      <td>0002051850</td>\n",
       "      <td>5.0</td>\n",
       "      <td>1059696000</td>\n",
       "      <td>0684803356</td>\n",
       "    </tr>\n",
       "    <tr>\n",
       "      <th>3</th>\n",
       "      <td>A4BNZ1OSBO77S</td>\n",
       "      <td>0002051850</td>\n",
       "      <td>5.0</td>\n",
       "      <td>1059350400</td>\n",
       "      <td>0684803356</td>\n",
       "    </tr>\n",
       "    <tr>\n",
       "      <th>4</th>\n",
       "      <td>A4X7FBQ5SKPI6</td>\n",
       "      <td>0002051850</td>\n",
       "      <td>5.0</td>\n",
       "      <td>1186185600</td>\n",
       "      <td>0684803356</td>\n",
       "    </tr>\n",
       "    <tr>\n",
       "      <th>6</th>\n",
       "      <td>AI37YX1U4KB1L</td>\n",
       "      <td>0002051850</td>\n",
       "      <td>5.0</td>\n",
       "      <td>1046822400</td>\n",
       "      <td>0684803356</td>\n",
       "    </tr>\n",
       "  </tbody>\n",
       "</table>\n",
       "</div>"
      ],
      "text/plain": [
       "          userId        asin  rating  reviewTime        ISBN\n",
       "0  AGEIT17HENDIS  0002051850     4.0  1148860800  0684803356\n",
       "2  AHCVWPLA1O4X8  0002051850     5.0  1059696000  0684803356\n",
       "3  A4BNZ1OSBO77S  0002051850     5.0  1059350400  0684803356\n",
       "4  A4X7FBQ5SKPI6  0002051850     5.0  1186185600  0684803356\n",
       "6  AI37YX1U4KB1L  0002051850     5.0  1046822400  0684803356"
      ]
     },
     "execution_count": 27,
     "metadata": {},
     "output_type": "execute_result"
    }
   ],
   "source": [
    "df_ratings_book = df_ratings_book[df_ratings_book['userId'].isin(users_intersect)]\n",
    "df_ratings_book.head()"
   ]
  },
  {
   "cell_type": "code",
   "execution_count": 43,
   "metadata": {
    "collapsed": false
   },
   "outputs": [],
   "source": [
    "user_example_book = df_ratings_book[df_ratings_book['userId'] == 'AGEIT17HENDIS']"
   ]
  },
  {
   "cell_type": "code",
   "execution_count": 44,
   "metadata": {
    "collapsed": false
   },
   "outputs": [
    {
     "data": {
      "text/plain": [
       "56"
      ]
     },
     "execution_count": 44,
     "metadata": {},
     "output_type": "execute_result"
    }
   ],
   "source": [
    "len(user_example_book)"
   ]
  }
 ],
 "metadata": {
  "kernelspec": {
   "display_name": "Python 3",
   "language": "python",
   "name": "python3"
  },
  "language_info": {
   "codemirror_mode": {
    "name": "ipython",
    "version": 3
   },
   "file_extension": ".py",
   "mimetype": "text/x-python",
   "name": "python",
   "nbconvert_exporter": "python",
   "pygments_lexer": "ipython3",
   "version": "3.5.2"
  }
 },
 "nbformat": 4,
 "nbformat_minor": 2
}
