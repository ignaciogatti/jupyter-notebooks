{
 "cells": [
  {
   "cell_type": "markdown",
   "metadata": {},
   "source": [
    "## MAE/MSE metrics"
   ]
  },
  {
   "cell_type": "markdown",
   "metadata": {},
   "source": [
    "### Book to origen space"
   ]
  },
  {
   "cell_type": "code",
   "execution_count": null,
   "metadata": {
    "collapsed": true
   },
   "outputs": [],
   "source": [
    "import pandas as pd\n",
    "import numpy as np\n",
    "from sklearn.metrics import mean_absolute_error, mean_squared_error"
   ]
  },
  {
   "cell_type": "code",
   "execution_count": null,
   "metadata": {
    "collapsed": false
   },
   "outputs": [],
   "source": [
    "df_prediction = pd.read_csv('/home/ignacio/Datasets/Amazon/Data cleaned/Recommendation/recommendation_book_to_origen_space.csv', index_col=0)\n",
    "df_prediction = df_prediction.reset_index(drop=True)\n",
    "df_prediction.head()"
   ]
  },
  {
   "cell_type": "code",
   "execution_count": null,
   "metadata": {
    "collapsed": false
   },
   "outputs": [],
   "source": [
    "df_book_ratings = pd.read_csv('/home/ignacio/Datasets/Amazon/Data cleaned/ratings_book_intersect_greater_1.csv')\n",
    "df_book_ratings.head()"
   ]
  },
  {
   "cell_type": "code",
   "execution_count": null,
   "metadata": {
    "collapsed": false
   },
   "outputs": [],
   "source": [
    "df_ratings = df_book_ratings[df_book_ratings['userId'] == 'AGEIT17HENDIS']\n",
    "len(df_ratings)"
   ]
  },
  {
   "cell_type": "code",
   "execution_count": null,
   "metadata": {
    "collapsed": false
   },
   "outputs": [],
   "source": [
    "df_ratings_join = pd.merge(df_ratings, df_prediction[['ISBN', 'rating']], how='left', left_on='ISBN', right_on='ISBN')\n",
    "df_ratings_join = df_ratings_join.dropna()\n",
    "len(df_ratings_join)"
   ]
  },
  {
   "cell_type": "code",
   "execution_count": null,
   "metadata": {
    "collapsed": false
   },
   "outputs": [],
   "source": [
    "mean_absolute_error(y_true=df_ratings_join['rating_x'], y_pred=df_ratings_join['rating_y'])"
   ]
  },
  {
   "cell_type": "code",
   "execution_count": null,
   "metadata": {
    "collapsed": false
   },
   "outputs": [],
   "source": [
    "mean_squared_error(y_true=df_ratings_join['rating_x'], y_pred=df_ratings_join['rating_y'])"
   ]
  },
  {
   "cell_type": "markdown",
   "metadata": {},
   "source": [
    "### User to target space"
   ]
  },
  {
   "cell_type": "code",
   "execution_count": null,
   "metadata": {
    "collapsed": false
   },
   "outputs": [],
   "source": [
    "df_prediction_u = pd.read_csv('/home/ignacio/Datasets/Amazon/Data cleaned/Recommendation/recommendation_user_to_target_space.csv', index_col=0)\n",
    "df_prediction_u = df_prediction_u.reset_index(drop=True)\n",
    "df_prediction_u.head()"
   ]
  },
  {
   "cell_type": "code",
   "execution_count": null,
   "metadata": {
    "collapsed": false
   },
   "outputs": [],
   "source": [
    "df_book_ratings = pd.read_csv('/home/ignacio/Datasets/Amazon/Data cleaned/ratings_book_intersect_greater_1.csv')\n",
    "df_book_ratings.head()"
   ]
  },
  {
   "cell_type": "code",
   "execution_count": null,
   "metadata": {
    "collapsed": false
   },
   "outputs": [],
   "source": [
    "df_ratings_join_u = pd.merge(df_ratings, df_prediction_u[['ISBN', 'rating']], how='left', left_on='ISBN', right_on='ISBN')\n",
    "df_ratings_join_u = df_ratings_join_u.dropna()\n",
    "len(df_ratings_join_u)"
   ]
  },
  {
   "cell_type": "code",
   "execution_count": null,
   "metadata": {
    "collapsed": false
   },
   "outputs": [],
   "source": [
    "mean_absolute_error(y_true=df_ratings_join_u['rating_x'], y_pred=df_ratings_join_u['rating_y'])"
   ]
  },
  {
   "cell_type": "code",
   "execution_count": null,
   "metadata": {
    "collapsed": false
   },
   "outputs": [],
   "source": [
    "mean_squared_error(y_true=df_ratings_join_u['rating_x'], y_pred=df_ratings_join_u['rating_y'])"
   ]
  }
 ],
 "metadata": {
  "kernelspec": {
   "display_name": "Python 3",
   "language": "python",
   "name": "python3"
  },
  "language_info": {
   "codemirror_mode": {
    "name": "ipython",
    "version": 3
   },
   "file_extension": ".py",
   "mimetype": "text/x-python",
   "name": "python",
   "nbconvert_exporter": "python",
   "pygments_lexer": "ipython3",
   "version": "3.5.2"
  }
 },
 "nbformat": 4,
 "nbformat_minor": 2
}
