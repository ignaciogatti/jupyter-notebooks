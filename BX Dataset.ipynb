{
 "cells": [
  {
   "cell_type": "code",
   "execution_count": 1,
   "metadata": {
    "collapsed": true
   },
   "outputs": [],
   "source": [
    "import pandas as pd\n",
    "import rdflib as rdf\n",
    "from SPARQLWrapper import SPARQLWrapper, JSON\n",
    "import math\n",
    "import numpy as np\n",
    "import re"
   ]
  },
  {
   "cell_type": "code",
   "execution_count": null,
   "metadata": {
    "collapsed": false
   },
   "outputs": [],
   "source": [
    "df_bx = pd.read_csv('/home/ignacio/Datasets/BX-CSV-Dump/BX-Book-Ratings.csv', sep=';', encoding='iso-8859-15')\n",
    "df_bx.head()"
   ]
  },
  {
   "cell_type": "code",
   "execution_count": null,
   "metadata": {
    "collapsed": false
   },
   "outputs": [],
   "source": [
    "df_bx_users = pd.read_csv('/home/ignacio/Datasets/BX-CSV-Dump/BX-Users.csv', sep=';', encoding='iso-8859-15')\n",
    "df_bx_users.head()"
   ]
  },
  {
   "cell_type": "code",
   "execution_count": null,
   "metadata": {
    "collapsed": false
   },
   "outputs": [],
   "source": [
    "df_bx_book = pd.read_csv('/home/ignacio/Datasets/BX-CSV-Dump/BX-Books.csv', sep=';', encoding='iso-8859-15', error_bad_lines=False)\n",
    "df_bx_book.head()"
   ]
  },
  {
   "cell_type": "code",
   "execution_count": null,
   "metadata": {
    "collapsed": false
   },
   "outputs": [],
   "source": [
    "df_author = df_bx_book['Book-Author']"
   ]
  },
  {
   "cell_type": "code",
   "execution_count": null,
   "metadata": {
    "collapsed": false
   },
   "outputs": [],
   "source": [
    "df_author.head()"
   ]
  },
  {
   "cell_type": "code",
   "execution_count": null,
   "metadata": {
    "collapsed": false
   },
   "outputs": [],
   "source": [
    "len(df_author)"
   ]
  },
  {
   "cell_type": "code",
   "execution_count": null,
   "metadata": {
    "collapsed": false
   },
   "outputs": [],
   "source": [
    "df_author = df_author.drop_duplicates()"
   ]
  },
  {
   "cell_type": "code",
   "execution_count": null,
   "metadata": {
    "collapsed": false
   },
   "outputs": [],
   "source": [
    "len(df_author)"
   ]
  },
  {
   "cell_type": "code",
   "execution_count": null,
   "metadata": {
    "collapsed": false
   },
   "outputs": [],
   "source": [
    "df_author=df_author.str.lower()"
   ]
  },
  {
   "cell_type": "code",
   "execution_count": null,
   "metadata": {
    "collapsed": true
   },
   "outputs": [],
   "source": [
    "df_author = df_author.drop_duplicates()"
   ]
  },
  {
   "cell_type": "code",
   "execution_count": null,
   "metadata": {
    "collapsed": false
   },
   "outputs": [],
   "source": [
    "len(df_author)"
   ]
  },
  {
   "cell_type": "code",
   "execution_count": null,
   "metadata": {
    "collapsed": true
   },
   "outputs": [],
   "source": [
    "df_author = df_author.str.title()"
   ]
  },
  {
   "cell_type": "code",
   "execution_count": null,
   "metadata": {
    "collapsed": false
   },
   "outputs": [],
   "source": [
    "df_author.head(50)"
   ]
  },
  {
   "cell_type": "code",
   "execution_count": null,
   "metadata": {
    "collapsed": true
   },
   "outputs": [],
   "source": [
    "df_author.to_csv('/home/ignacio/Datasets/BX-CSV-Dump/BX-Author.csv', index=False)"
   ]
  },
  {
   "cell_type": "code",
   "execution_count": null,
   "metadata": {
    "collapsed": false
   },
   "outputs": [],
   "source": [
    "df_bx_book[df_bx_book['Book-Author'].str.contains('Italo Calvino')]"
   ]
  },
  {
   "cell_type": "markdown",
   "metadata": {},
   "source": [
    "## Get author influence information from dbpedia"
   ]
  },
  {
   "cell_type": "markdown",
   "metadata": {},
   "source": [
    "#### Clean dataset (drop duplicate values)"
   ]
  },
  {
   "cell_type": "code",
   "execution_count": 2,
   "metadata": {
    "collapsed": false
   },
   "outputs": [
    {
     "data": {
      "text/html": [
       "<div>\n",
       "<style>\n",
       "    .dataframe thead tr:only-child th {\n",
       "        text-align: right;\n",
       "    }\n",
       "\n",
       "    .dataframe thead th {\n",
       "        text-align: left;\n",
       "    }\n",
       "\n",
       "    .dataframe tbody tr th {\n",
       "        vertical-align: top;\n",
       "    }\n",
       "</style>\n",
       "<table border=\"1\" class=\"dataframe\">\n",
       "  <thead>\n",
       "    <tr style=\"text-align: right;\">\n",
       "      <th></th>\n",
       "      <th>Authors</th>\n",
       "      <th>Authors_mod</th>\n",
       "    </tr>\n",
       "  </thead>\n",
       "  <tbody>\n",
       "    <tr>\n",
       "      <th>0</th>\n",
       "      <td>Mark P. O. Morford</td>\n",
       "      <td>Mark P.+ O.+ Morford</td>\n",
       "    </tr>\n",
       "    <tr>\n",
       "      <th>1</th>\n",
       "      <td>Richard Bruce Wright</td>\n",
       "      <td>Richard Bruce Wright</td>\n",
       "    </tr>\n",
       "    <tr>\n",
       "      <th>2</th>\n",
       "      <td>Carlo D'Este</td>\n",
       "      <td>Carlo D'Este</td>\n",
       "    </tr>\n",
       "    <tr>\n",
       "      <th>3</th>\n",
       "      <td>Gina Bari Kolata</td>\n",
       "      <td>Gina Bari Kolata</td>\n",
       "    </tr>\n",
       "    <tr>\n",
       "      <th>4</th>\n",
       "      <td>Amy Tan</td>\n",
       "      <td>Amy Tan</td>\n",
       "    </tr>\n",
       "    <tr>\n",
       "      <th>5</th>\n",
       "      <td>Robert Cowley</td>\n",
       "      <td>Robert Cowley</td>\n",
       "    </tr>\n",
       "    <tr>\n",
       "      <th>6</th>\n",
       "      <td>Scott Turow</td>\n",
       "      <td>Scott Turow</td>\n",
       "    </tr>\n",
       "    <tr>\n",
       "      <th>7</th>\n",
       "      <td>David Cordingly</td>\n",
       "      <td>David Cordingly</td>\n",
       "    </tr>\n",
       "    <tr>\n",
       "      <th>8</th>\n",
       "      <td>Ann Beattie</td>\n",
       "      <td>Ann Beattie</td>\n",
       "    </tr>\n",
       "    <tr>\n",
       "      <th>9</th>\n",
       "      <td>David Adams Richards</td>\n",
       "      <td>David Adams Richards</td>\n",
       "    </tr>\n",
       "    <tr>\n",
       "      <th>10</th>\n",
       "      <td>Adam Lebor</td>\n",
       "      <td>Adam Lebor</td>\n",
       "    </tr>\n",
       "    <tr>\n",
       "      <th>11</th>\n",
       "      <td>Sheila Heti</td>\n",
       "      <td>Sheila Heti</td>\n",
       "    </tr>\n",
       "    <tr>\n",
       "      <th>12</th>\n",
       "      <td>Jack Canfield</td>\n",
       "      <td>Jack Canfield</td>\n",
       "    </tr>\n",
       "    <tr>\n",
       "      <th>13</th>\n",
       "      <td>Loren D. Estleman</td>\n",
       "      <td>Loren D.+ Estleman</td>\n",
       "    </tr>\n",
       "    <tr>\n",
       "      <th>14</th>\n",
       "      <td>Robert Hendrickson</td>\n",
       "      <td>Robert Hendrickson</td>\n",
       "    </tr>\n",
       "    <tr>\n",
       "      <th>15</th>\n",
       "      <td>Julia Oliver</td>\n",
       "      <td>Julia Oliver</td>\n",
       "    </tr>\n",
       "    <tr>\n",
       "      <th>16</th>\n",
       "      <td>John Grisham</td>\n",
       "      <td>John Grisham</td>\n",
       "    </tr>\n",
       "    <tr>\n",
       "      <th>17</th>\n",
       "      <td>Toni Morrison</td>\n",
       "      <td>Toni Morrison</td>\n",
       "    </tr>\n",
       "    <tr>\n",
       "      <th>18</th>\n",
       "      <td>The Onion</td>\n",
       "      <td>The Onion</td>\n",
       "    </tr>\n",
       "    <tr>\n",
       "      <th>19</th>\n",
       "      <td>Celia Brooks Brown</td>\n",
       "      <td>Celia Brooks Brown</td>\n",
       "    </tr>\n",
       "    <tr>\n",
       "      <th>20</th>\n",
       "      <td>Mary-Kate &amp;Amp; Ashley Olsen</td>\n",
       "      <td>Mary-Kate &amp;Amp; Ashley Olsen</td>\n",
       "    </tr>\n",
       "    <tr>\n",
       "      <th>21</th>\n",
       "      <td>Robynn Clairday</td>\n",
       "      <td>Robynn Clairday</td>\n",
       "    </tr>\n",
       "    <tr>\n",
       "      <th>22</th>\n",
       "      <td>Kathleen Duey</td>\n",
       "      <td>Kathleen Duey</td>\n",
       "    </tr>\n",
       "    <tr>\n",
       "      <th>23</th>\n",
       "      <td>Rich Shapero</td>\n",
       "      <td>Rich Shapero</td>\n",
       "    </tr>\n",
       "    <tr>\n",
       "      <th>24</th>\n",
       "      <td>Michael Crichton</td>\n",
       "      <td>Michael Crichton</td>\n",
       "    </tr>\n",
       "  </tbody>\n",
       "</table>\n",
       "</div>"
      ],
      "text/plain": [
       "                         Authors                   Authors_mod\n",
       "0             Mark P. O. Morford          Mark P.+ O.+ Morford\n",
       "1           Richard Bruce Wright          Richard Bruce Wright\n",
       "2                   Carlo D'Este                  Carlo D'Este\n",
       "3               Gina Bari Kolata              Gina Bari Kolata\n",
       "4                        Amy Tan                       Amy Tan\n",
       "5                  Robert Cowley                 Robert Cowley\n",
       "6                    Scott Turow                   Scott Turow\n",
       "7                David Cordingly               David Cordingly\n",
       "8                    Ann Beattie                   Ann Beattie\n",
       "9           David Adams Richards          David Adams Richards\n",
       "10                    Adam Lebor                    Adam Lebor\n",
       "11                   Sheila Heti                   Sheila Heti\n",
       "12                 Jack Canfield                 Jack Canfield\n",
       "13             Loren D. Estleman            Loren D.+ Estleman\n",
       "14            Robert Hendrickson            Robert Hendrickson\n",
       "15                  Julia Oliver                  Julia Oliver\n",
       "16                  John Grisham                  John Grisham\n",
       "17                 Toni Morrison                 Toni Morrison\n",
       "18                     The Onion                     The Onion\n",
       "19            Celia Brooks Brown            Celia Brooks Brown\n",
       "20  Mary-Kate &Amp; Ashley Olsen  Mary-Kate &Amp; Ashley Olsen\n",
       "21               Robynn Clairday               Robynn Clairday\n",
       "22                 Kathleen Duey                 Kathleen Duey\n",
       "23                  Rich Shapero                  Rich Shapero\n",
       "24              Michael Crichton              Michael Crichton"
      ]
     },
     "execution_count": 2,
     "metadata": {},
     "output_type": "execute_result"
    }
   ],
   "source": [
    "df_authors = pd.read_csv('/home/ignacio/Datasets/BX-CSV-Dump/BX-Author.csv')\n",
    "df_authors.head(25)"
   ]
  },
  {
   "cell_type": "code",
   "execution_count": 3,
   "metadata": {
    "collapsed": false
   },
   "outputs": [
    {
     "data": {
      "text/plain": [
       "Series([], Name: Authors, dtype: object)"
      ]
     },
     "execution_count": 3,
     "metadata": {},
     "output_type": "execute_result"
    }
   ],
   "source": [
    "df_authors_abr = df_authors['Authors'].str.findall(r'^([A-Z](\\.)?\\s)+[A-Z][a-z]+$')\n",
    "df_authors_abr = df_authors_abr[df_authors_abr.str.len() > 0]\n",
    "df_authors_abr.head(10)"
   ]
  },
  {
   "cell_type": "code",
   "execution_count": null,
   "metadata": {
    "collapsed": false
   },
   "outputs": [],
   "source": [
    "df_authors = df_authors['Authors'].str.replace(r'[\\\\\\\"]', '')"
   ]
  },
  {
   "cell_type": "code",
   "execution_count": null,
   "metadata": {
    "collapsed": true
   },
   "outputs": [],
   "source": [
    "df_authors['Authors'] = df_authors['Authors'].str.replace(r'[\\[\\]]', '')\n",
    "df_authors['Authors_mod'] = df_authors['Authors_mod'].str.replace(r'[\\[\\]]', '')"
   ]
  },
  {
   "cell_type": "code",
   "execution_count": null,
   "metadata": {
    "collapsed": false
   },
   "outputs": [],
   "source": [
    "df_authors.head()"
   ]
  },
  {
   "cell_type": "code",
   "execution_count": null,
   "metadata": {
    "collapsed": false
   },
   "outputs": [],
   "source": [
    "df_authors_abr.iloc[0]"
   ]
  },
  {
   "cell_type": "code",
   "execution_count": null,
   "metadata": {
    "collapsed": false
   },
   "outputs": [],
   "source": [
    "len(df_authors_abr)"
   ]
  },
  {
   "cell_type": "code",
   "execution_count": null,
   "metadata": {
    "collapsed": false
   },
   "outputs": [],
   "source": [
    "df_authors = df_authors.drop(list(df_authors_abr.index))\n",
    "df_authors.head(25)"
   ]
  },
  {
   "cell_type": "code",
   "execution_count": null,
   "metadata": {
    "collapsed": false
   },
   "outputs": [],
   "source": [
    "len(df_authors)"
   ]
  },
  {
   "cell_type": "code",
   "execution_count": null,
   "metadata": {
    "collapsed": false
   },
   "outputs": [],
   "source": [
    "df_aux = pd.DataFrame(data= df_authors.values, columns=['Authors'])\n",
    "df_authors = df_aux\n",
    "df_authors.head()"
   ]
  },
  {
   "cell_type": "code",
   "execution_count": null,
   "metadata": {
    "collapsed": false
   },
   "outputs": [],
   "source": [
    "df_authors['Authors_mod'] = df_authors['Authors'].str.replace(r'\\.\\s', '.+ ')\n",
    "df_authors.head()"
   ]
  },
  {
   "cell_type": "code",
   "execution_count": null,
   "metadata": {
    "collapsed": false
   },
   "outputs": [],
   "source": [
    "df_authors = df_authors.drop([94221])\n",
    "df_authors.head()"
   ]
  },
  {
   "cell_type": "code",
   "execution_count": null,
   "metadata": {
    "collapsed": false
   },
   "outputs": [],
   "source": [
    "df_authors.to_csv('/home/ignacio/Datasets/BX-CSV-Dump/BX-Author.csv', index=False)"
   ]
  },
  {
   "cell_type": "markdown",
   "metadata": {},
   "source": [
    "#### BDpedia query"
   ]
  },
  {
   "cell_type": "code",
   "execution_count": null,
   "metadata": {
    "collapsed": false
   },
   "outputs": [],
   "source": [
    "sparql = SPARQLWrapper(\"http://dbpedia.org/sparql\")"
   ]
  },
  {
   "cell_type": "code",
   "execution_count": null,
   "metadata": {
    "collapsed": true
   },
   "outputs": [],
   "source": [
    "def find_influence( row ):\n",
    "    \n",
    "    sparql = SPARQLWrapper(\"http://dbpedia.org/sparql\")\n",
    "    \n",
    "    stm = \"\"\"\n",
    "        SELECT DISTINCT ?Aname \n",
    "        where {\n",
    "          ?A dbo:influenced ?B.\n",
    "          ?A a dbo:Person.\n",
    "          ?B a dbo:Person.\n",
    "          ?B foaf:name ?Bname .\n",
    "          ?A foaf:name ?Aname \n",
    "          FILTER(regex(?Bname, \\\"\"\"\"+ row['Authors_mod'] +\"\"\"\\\"))\n",
    "         }\"\"\"\n",
    "         \n",
    "    sparql.setQuery(stm)\n",
    "    sparql.setReturnFormat(JSON)\n",
    "    results = sparql.query().convert()\n",
    "    director = []\n",
    "    for result in results[\"results\"][\"bindings\"]:\n",
    "        director.append(result[\"Aname\"][\"value\"])\n",
    "    return director"
   ]
  },
  {
   "cell_type": "code",
   "execution_count": null,
   "metadata": {
    "collapsed": false
   },
   "outputs": [],
   "source": [
    "frame = 1000\n",
    "max_complete_frames = math.floor(len(df_authors)/frame)\n",
    "max_complete_frames"
   ]
  },
  {
   "cell_type": "code",
   "execution_count": null,
   "metadata": {
    "collapsed": false
   },
   "outputs": [],
   "source": [
    "for i in np.arange(94, max_complete_frames):\n",
    "    df_test = df_authors.loc[i*frame : (i+1)*frame]\n",
    "    df_test['influenced'] = df_test.apply(find_influence, axis=1)\n",
    "    df_test.to_csv('/home/ignacio/Datasets/BX-CSV-Dump/BX-authors-influence_'+ str(i) +'.csv', index=False)\n",
    "    print(\"Iteration \" + str(i) )\n"
   ]
  },
  {
   "cell_type": "code",
   "execution_count": null,
   "metadata": {
    "collapsed": false
   },
   "outputs": [],
   "source": [
    "if len(df_authors) % frame != 0:\n",
    "    df_test = df_authors.loc[max_complete_frames*frame : len(df_authors) ]\n",
    "    df_test['influenced'] = df_test.apply(find_influence, axis=1)\n",
    "    df_test.to_csv('/home/ignacio/Datasets/BX-CSV-Dump/BX-authors-influence_'+ str(max_complete_frames ) +'.csv', index=False)"
   ]
  },
  {
   "cell_type": "code",
   "execution_count": null,
   "metadata": {
    "collapsed": false
   },
   "outputs": [],
   "source": [
    "df_authors_influence = pd.read_csv('/home/ignacio/Datasets/BX-CSV-Dump/BX-authors-influence_0.csv')\n",
    "\n",
    "for i in range(max_complete_frames+1):\n",
    "    df_aux = pd.read_csv('/home/ignacio/Datasets/BX-CSV-Dump/BX-authors-influence_'+ str(i) +'.csv')\n",
    "    df_authors_influence = pd.concat([df_authors_influence, df_aux], ignore_index=True)\n",
    "    \n",
    "df_authors_influence.head()"
   ]
  },
  {
   "cell_type": "code",
   "execution_count": null,
   "metadata": {
    "collapsed": false
   },
   "outputs": [],
   "source": [
    "df_authors_influence = df_authors_influence.drop(['Authors_mod'], axis=1)\n",
    "df_authors_influence.head()"
   ]
  },
  {
   "cell_type": "code",
   "execution_count": null,
   "metadata": {
    "collapsed": false
   },
   "outputs": [],
   "source": [
    "df_authors_influence['influenced'] = df_authors_influence['influenced'].str.replace(r'[\\[\\]\\'\\']', '')\n",
    "df_authors_influence = df_authors_influence[df_authors_influence['influenced'].str.len() > 0]\n",
    "df_authors_influence.head()"
   ]
  },
  {
   "cell_type": "code",
   "execution_count": null,
   "metadata": {
    "collapsed": false
   },
   "outputs": [],
   "source": [
    "len(df_authors_influence)"
   ]
  },
  {
   "cell_type": "code",
   "execution_count": null,
   "metadata": {
    "collapsed": true
   },
   "outputs": [],
   "source": [
    "df_authors_influence.to_csv('/home/ignacio/Datasets/BX-CSV-Dump/BX-authors-influence-edge.csv', index=False)"
   ]
  },
  {
   "cell_type": "markdown",
   "metadata": {
    "collapsed": true
   },
   "source": [
    "## Clean duplicates author last-name"
   ]
  },
  {
   "cell_type": "code",
   "execution_count": null,
   "metadata": {
    "collapsed": false
   },
   "outputs": [],
   "source": [
    "df_authors_edge = pd.read_csv('/home/ignacio/Datasets/BX-CSV-Dump/BX-authors-influence-edge.csv')\n",
    "df_authors_edge.head()"
   ]
  },
  {
   "cell_type": "code",
   "execution_count": null,
   "metadata": {
    "collapsed": false
   },
   "outputs": [],
   "source": [
    "len(df_authors_edge)"
   ]
  },
  {
   "cell_type": "code",
   "execution_count": null,
   "metadata": {
    "collapsed": false
   },
   "outputs": [],
   "source": [
    "df_authors_edge = df_authors_edge.drop_duplicates(subset=['Authors'])\n",
    "len(df_authors_edge)"
   ]
  },
  {
   "cell_type": "code",
   "execution_count": null,
   "metadata": {
    "collapsed": false
   },
   "outputs": [],
   "source": [
    "s_authors = df_authors_edge['Authors']\n",
    "s_authors.head()"
   ]
  },
  {
   "cell_type": "code",
   "execution_count": null,
   "metadata": {
    "collapsed": false
   },
   "outputs": [],
   "source": [
    "s_authors = s_authors.drop_duplicates()\n",
    "len(s_authors)"
   ]
  },
  {
   "cell_type": "code",
   "execution_count": null,
   "metadata": {
    "collapsed": false
   },
   "outputs": [],
   "source": [
    "df_authors_edge.to_csv('/home/ignacio/Datasets/BX-CSV-Dump/BX-authors-influence-edge.csv', index=False)"
   ]
  },
  {
   "cell_type": "code",
   "execution_count": null,
   "metadata": {
    "collapsed": true
   },
   "outputs": [],
   "source": [
    "def find_duplicate_last_name(row, df):\n",
    "    regx = re.compile('.+' + row + '$')\n",
    "    df_aux = df[df['Authors'].str.contains(regx)]\n",
    "    if len(df_aux) == 0 :\n",
    "        return False\n",
    "    else:\n",
    "        return True\n",
    "    "
   ]
  },
  {
   "cell_type": "code",
   "execution_count": null,
   "metadata": {
    "collapsed": false
   },
   "outputs": [],
   "source": [
    "author_last_name = df_authors_edge['Authors'].str.findall(r'^[A-Z][a-z]+$')\n",
    "author_last_name = author_last_name[ author_last_name.str.len() > 0]\n",
    "author_last_name.head()"
   ]
  },
  {
   "cell_type": "code",
   "execution_count": null,
   "metadata": {
    "collapsed": true
   },
   "outputs": [],
   "source": [
    "author_last_name = author_last_name.apply(lambda x : x[0])"
   ]
  },
  {
   "cell_type": "code",
   "execution_count": null,
   "metadata": {
    "collapsed": false
   },
   "outputs": [],
   "source": [
    "author_last_name.head()"
   ]
  },
  {
   "cell_type": "code",
   "execution_count": null,
   "metadata": {
    "collapsed": false
   },
   "outputs": [],
   "source": [
    "duplicates = author_last_name.apply(find_duplicate_last_name, df=df_authors_edge)\n",
    "duplicates.head()"
   ]
  },
  {
   "cell_type": "code",
   "execution_count": null,
   "metadata": {
    "collapsed": false
   },
   "outputs": [],
   "source": [
    "len(duplicates)"
   ]
  },
  {
   "cell_type": "code",
   "execution_count": null,
   "metadata": {
    "collapsed": false
   },
   "outputs": [],
   "source": [
    "duplicates = duplicates[duplicates == True ]\n",
    "duplicates.head()"
   ]
  },
  {
   "cell_type": "code",
   "execution_count": null,
   "metadata": {
    "collapsed": false
   },
   "outputs": [],
   "source": [
    "df_authors_edge = df_authors_edge.drop(duplicates.index)\n",
    "df_authors_edge.head(30)"
   ]
  },
  {
   "cell_type": "code",
   "execution_count": null,
   "metadata": {
    "collapsed": false
   },
   "outputs": [],
   "source": [
    "df_authors_edge.to_csv('/home/ignacio/Datasets/BX-CSV-Dump/BX-authors-influence-edge.csv', index=False)"
   ]
  },
  {
   "cell_type": "code",
   "execution_count": null,
   "metadata": {
    "collapsed": true
   },
   "outputs": [],
   "source": []
  },
  {
   "cell_type": "code",
   "execution_count": null,
   "metadata": {
    "collapsed": false
   },
   "outputs": [],
   "source": [
    "regx = re.compile('.+' + author_last_name.iloc[0] + '$')\n",
    "regx"
   ]
  },
  {
   "cell_type": "code",
   "execution_count": null,
   "metadata": {
    "collapsed": false
   },
   "outputs": [],
   "source": [
    "df_aux = df_authors_edge[df_authors_edge['Authors'].str.contains(regx)]"
   ]
  },
  {
   "cell_type": "code",
   "execution_count": null,
   "metadata": {
    "collapsed": false
   },
   "outputs": [],
   "source": [
    "len(df_aux)"
   ]
  },
  {
   "cell_type": "code",
   "execution_count": null,
   "metadata": {
    "collapsed": false
   },
   "outputs": [],
   "source": [
    "df_test = df_authors.loc[[497]]\n",
    "df_test"
   ]
  },
  {
   "cell_type": "code",
   "execution_count": null,
   "metadata": {
    "collapsed": false
   },
   "outputs": [],
   "source": [
    "df_baudelaire = s_authors.str.findall(r'.*Stuart$')\n",
    "df_baudelaire = df_baudelaire[df_baudelaire.str.len() > 0]\n",
    "df_baudelaire"
   ]
  },
  {
   "cell_type": "code",
   "execution_count": null,
   "metadata": {
    "collapsed": false
   },
   "outputs": [],
   "source": [
    "s_list = list(df_authors_edge.loc[[497]]['influenced'])"
   ]
  },
  {
   "cell_type": "code",
   "execution_count": null,
   "metadata": {
    "collapsed": true
   },
   "outputs": [],
   "source": [
    "s_list = s_list[0].split(r', ')"
   ]
  },
  {
   "cell_type": "code",
   "execution_count": null,
   "metadata": {
    "collapsed": false
   },
   "outputs": [],
   "source": [
    "len(s_list)"
   ]
  },
  {
   "cell_type": "code",
   "execution_count": null,
   "metadata": {
    "collapsed": false
   },
   "outputs": [],
   "source": [
    "df_test['influenced'] = df_test.apply(find_influence, axis=1)\n",
    "df_test"
   ]
  }
 ],
 "metadata": {
  "kernelspec": {
   "display_name": "Python 3",
   "language": "python",
   "name": "python3"
  },
  "language_info": {
   "codemirror_mode": {
    "name": "ipython",
    "version": 3
   },
   "file_extension": ".py",
   "mimetype": "text/x-python",
   "name": "python",
   "nbconvert_exporter": "python",
   "pygments_lexer": "ipython3",
   "version": "3.5.2"
  }
 },
 "nbformat": 4,
 "nbformat_minor": 2
}
