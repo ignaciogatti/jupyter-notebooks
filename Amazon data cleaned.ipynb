{
 "cells": [
  {
   "cell_type": "code",
   "execution_count": 2,
   "metadata": {
    "collapsed": true
   },
   "outputs": [],
   "source": [
    "import pandas as pd\n",
    "import numpy as np"
   ]
  },
  {
   "cell_type": "code",
   "execution_count": null,
   "metadata": {
    "collapsed": true
   },
   "outputs": [],
   "source": [
    "def get_title_clean(df, col):\n",
    "    book_title = df[col]\n",
    "    #book_title = amazon_book_title.dropna()\n",
    "    book_title = book_title.str.lower()\n",
    "    book_title = book_title.str.replace(r'[\\]\\(\\)\\\\\\'\\\":;]', '')\n",
    "    book_title = book_title.str.replace(r'\\[', ' ')\n",
    "    return book_title"
   ]
  },
  {
   "cell_type": "markdown",
   "metadata": {},
   "source": [
    "## Book genre addition"
   ]
  },
  {
   "cell_type": "code",
   "execution_count": null,
   "metadata": {
    "collapsed": false
   },
   "outputs": [],
   "source": [
    "df_book_meta = pd.read_csv('/home/ignacio/Datasets/Amazon/Data cleaned/book-meta-valid.csv')\n",
    "df_book_meta.head()"
   ]
  },
  {
   "cell_type": "code",
   "execution_count": null,
   "metadata": {
    "collapsed": false
   },
   "outputs": [],
   "source": [
    "df_book_genres = pd.read_csv('/home/ignacio/Datasets/Graph analysis/bx-valid-book.csv')\n",
    "df_book_genres.head()"
   ]
  },
  {
   "cell_type": "code",
   "execution_count": null,
   "metadata": {
    "collapsed": false
   },
   "outputs": [],
   "source": [
    "df_book_meta['title clean'] = get_title_clean(df_book_meta, 'title')\n",
    "df_book_meta.head()"
   ]
  },
  {
   "cell_type": "code",
   "execution_count": null,
   "metadata": {
    "collapsed": false
   },
   "outputs": [],
   "source": [
    "df_book_meta = df_book_meta[['title', 'asin', 'description', 'title clean']]\n",
    "df_book_meta.head()"
   ]
  },
  {
   "cell_type": "code",
   "execution_count": null,
   "metadata": {
    "collapsed": false
   },
   "outputs": [],
   "source": [
    "df_book_meta.isnull().any()"
   ]
  },
  {
   "cell_type": "code",
   "execution_count": null,
   "metadata": {
    "collapsed": true
   },
   "outputs": [],
   "source": [
    "df_book_meta['description'] = df_book_meta['description'].fillna('no description')"
   ]
  },
  {
   "cell_type": "code",
   "execution_count": null,
   "metadata": {
    "collapsed": false
   },
   "outputs": [],
   "source": [
    "df_book_genres['title clean'] = get_title_clean(df_book_genres, 'Book-Title')\n",
    "df_book_genres.head()"
   ]
  },
  {
   "cell_type": "code",
   "execution_count": null,
   "metadata": {
    "collapsed": false
   },
   "outputs": [],
   "source": [
    "df_book_genres.isnull().any()"
   ]
  },
  {
   "cell_type": "code",
   "execution_count": null,
   "metadata": {
    "collapsed": false
   },
   "outputs": [],
   "source": [
    "df_book_genres = df_book_genres.fillna('no description')"
   ]
  },
  {
   "cell_type": "code",
   "execution_count": null,
   "metadata": {
    "collapsed": false
   },
   "outputs": [],
   "source": [
    "df_book_meta['shelves'] = df_book_meta['title clean'].apply(\n",
    "    lambda x : df_book_genres[df_book_genres['title clean'].str.contains(x)]['common-shelves'].drop_duplicates().values)\n",
    "df_book_meta.head()"
   ]
  },
  {
   "cell_type": "code",
   "execution_count": null,
   "metadata": {
    "collapsed": false
   },
   "outputs": [],
   "source": [
    "df_book_meta['shelves'] = df_book_meta['shelves'].apply(\n",
    "    lambda shels : '|'.join([x for x in shels if x != 'no description']))\n",
    "df_book_meta.head()"
   ]
  },
  {
   "cell_type": "code",
   "execution_count": null,
   "metadata": {
    "collapsed": true
   },
   "outputs": [],
   "source": [
    "df_book_meta['author'] = df_book_meta['title clean'].apply(\n",
    "    lambda x : df_book_genres[df_book_genres['title clean'].str.contains(x)]['Book-Author'].drop_duplicates().values)"
   ]
  },
  {
   "cell_type": "code",
   "execution_count": null,
   "metadata": {
    "collapsed": false
   },
   "outputs": [],
   "source": [
    "df_book_meta['author'] = df_book_meta['author'].apply(lambda x : x[0] if len(x)!=0 else 'no author')\n",
    "df_book_meta.head()"
   ]
  },
  {
   "cell_type": "code",
   "execution_count": null,
   "metadata": {
    "collapsed": true
   },
   "outputs": [],
   "source": [
    "df_book_meta['ISBN'] = df_book_meta['title clean'].apply(\n",
    "    lambda x : df_book_genres[df_book_genres['title clean'].str.contains(x)]['ISBN'].drop_duplicates().values)\n",
    "df_book_valid.head()"
   ]
  },
  {
   "cell_type": "code",
   "execution_count": null,
   "metadata": {
    "collapsed": false
   },
   "outputs": [],
   "source": [
    "df_book_meta.to_csv('/home/ignacio/Datasets/Amazon/Data cleaned/book_meta_valid_shelves.csv', index=False)"
   ]
  },
  {
   "cell_type": "markdown",
   "metadata": {
    "collapsed": true
   },
   "source": [
    "### Book average rating add (from GoodReads)"
   ]
  },
  {
   "cell_type": "code",
   "execution_count": 1,
   "metadata": {
    "collapsed": true
   },
   "outputs": [],
   "source": [
    "from goodreads import client, shelf\n",
    "import oauth2 as oauth\n",
    "import urllib\n",
    "\n",
    "\n",
    "gc = client.GoodreadsClient('63pG3gIBwuO4vq83YxHpw', 'P4t2Nvwesy7h4DG9hTKdBbdQHlo76Uz7Nxd6iFJZU')"
   ]
  },
  {
   "cell_type": "code",
   "execution_count": 3,
   "metadata": {
    "collapsed": false
   },
   "outputs": [
    {
     "data": {
      "text/html": [
       "<div>\n",
       "<style>\n",
       "    .dataframe thead tr:only-child th {\n",
       "        text-align: right;\n",
       "    }\n",
       "\n",
       "    .dataframe thead th {\n",
       "        text-align: left;\n",
       "    }\n",
       "\n",
       "    .dataframe tbody tr th {\n",
       "        vertical-align: top;\n",
       "    }\n",
       "</style>\n",
       "<table border=\"1\" class=\"dataframe\">\n",
       "  <thead>\n",
       "    <tr style=\"text-align: right;\">\n",
       "      <th></th>\n",
       "      <th>ISBN</th>\n",
       "      <th>Book-Title</th>\n",
       "      <th>Book-Author</th>\n",
       "      <th>common-shelves</th>\n",
       "      <th>description</th>\n",
       "      <th>asin</th>\n",
       "    </tr>\n",
       "  </thead>\n",
       "  <tbody>\n",
       "    <tr>\n",
       "      <th>0</th>\n",
       "      <td>0399135782</td>\n",
       "      <td>The Kitchen God's Wife</td>\n",
       "      <td>Amy Tan</td>\n",
       "      <td>romance|war|drama</td>\n",
       "      <td>Tan can relax. If The Joy Luck Club was an ast...</td>\n",
       "      <td>0143038109</td>\n",
       "    </tr>\n",
       "    <tr>\n",
       "      <th>1</th>\n",
       "      <td>0446310786</td>\n",
       "      <td>To Kill a Mockingbird</td>\n",
       "      <td>Harper Lee</td>\n",
       "      <td>crime|mystery|drama</td>\n",
       "      <td>\"When he was nearly thirteen, my brother Jem g...</td>\n",
       "      <td>0060194995</td>\n",
       "    </tr>\n",
       "    <tr>\n",
       "      <th>2</th>\n",
       "      <td>055321215X</td>\n",
       "      <td>Pride and Prejudice</td>\n",
       "      <td>Jane Austen</td>\n",
       "      <td>historical-romance|drama</td>\n",
       "      <td>no description</td>\n",
       "      <td>0030514878</td>\n",
       "    </tr>\n",
       "    <tr>\n",
       "      <th>3</th>\n",
       "      <td>0553582747</td>\n",
       "      <td>From the Corner of His Eye</td>\n",
       "      <td>Dean Koontz</td>\n",
       "      <td>fantasy|urban-fantasy|horror-suspense|suspense...</td>\n",
       "      <td>Horrormeister Koontz looks heavenward for insp...</td>\n",
       "      <td>0553502697</td>\n",
       "    </tr>\n",
       "    <tr>\n",
       "      <th>4</th>\n",
       "      <td>0380715899</td>\n",
       "      <td>A Soldier of the Great War</td>\n",
       "      <td>Mark Helprin</td>\n",
       "      <td>the-great-war|adventure|war-memoirs|world-war-...</td>\n",
       "      <td>With energetic, often lyrical prose capable of...</td>\n",
       "      <td>0151836000</td>\n",
       "    </tr>\n",
       "  </tbody>\n",
       "</table>\n",
       "</div>"
      ],
      "text/plain": [
       "         ISBN                  Book-Title   Book-Author  \\\n",
       "0  0399135782      The Kitchen God's Wife       Amy Tan   \n",
       "1  0446310786       To Kill a Mockingbird    Harper Lee   \n",
       "2  055321215X         Pride and Prejudice   Jane Austen   \n",
       "3  0553582747  From the Corner of His Eye   Dean Koontz   \n",
       "4  0380715899  A Soldier of the Great War  Mark Helprin   \n",
       "\n",
       "                                      common-shelves  \\\n",
       "0                                  romance|war|drama   \n",
       "1                                crime|mystery|drama   \n",
       "2                           historical-romance|drama   \n",
       "3  fantasy|urban-fantasy|horror-suspense|suspense...   \n",
       "4  the-great-war|adventure|war-memoirs|world-war-...   \n",
       "\n",
       "                                         description        asin  \n",
       "0  Tan can relax. If The Joy Luck Club was an ast...  0143038109  \n",
       "1  \"When he was nearly thirteen, my brother Jem g...  0060194995  \n",
       "2                                     no description  0030514878  \n",
       "3  Horrormeister Koontz looks heavenward for insp...  0553502697  \n",
       "4  With energetic, often lyrical prose capable of...  0151836000  "
      ]
     },
     "execution_count": 3,
     "metadata": {},
     "output_type": "execute_result"
    }
   ],
   "source": [
    "df_book_meta = pd.read_csv('/home/ignacio/Datasets/Amazon/Data cleaned/book_meta_valid_shelves.csv')\n",
    "df_book_meta.head()"
   ]
  },
  {
   "cell_type": "code",
   "execution_count": 7,
   "metadata": {
    "collapsed": true
   },
   "outputs": [],
   "source": [
    "def get_average_rating( isbn ):\n",
    "    try:\n",
    "        book = gc.book(isbn=isbn)\n",
    "        result = book.average_rating\n",
    "    except Exception:\n",
    "        print('INVALID ISBN ' + isbn)\n",
    "        result = 0\n",
    "    return result"
   ]
  },
  {
   "cell_type": "code",
   "execution_count": 9,
   "metadata": {
    "collapsed": false
   },
   "outputs": [
    {
     "data": {
      "text/plain": [
       "62"
      ]
     },
     "execution_count": 9,
     "metadata": {},
     "output_type": "execute_result"
    }
   ],
   "source": [
    "import math\n",
    "\n",
    "frame = 100\n",
    "max_complete_frames = math.floor(len(df_book_meta)/frame)\n",
    "max_complete_frames"
   ]
  },
  {
   "cell_type": "code",
   "execution_count": 10,
   "metadata": {
    "collapsed": false
   },
   "outputs": [
    {
     "name": "stderr",
     "output_type": "stream",
     "text": [
      "/usr/local/lib/python3.5/dist-packages/ipykernel_launcher.py:3: SettingWithCopyWarning: \n",
      "A value is trying to be set on a copy of a slice from a DataFrame.\n",
      "Try using .loc[row_indexer,col_indexer] = value instead\n",
      "\n",
      "See the caveats in the documentation: http://pandas.pydata.org/pandas-docs/stable/indexing.html#indexing-view-versus-copy\n",
      "  This is separate from the ipykernel package so we can avoid doing imports until\n"
     ]
    },
    {
     "name": "stdout",
     "output_type": "stream",
     "text": [
      "INVALID ISBN B000069F44\n",
      "INVALID ISBN 0378023624\n",
      "INVALID ISBN 0340213361\n",
      "INVALID ISBN 840100926X\n",
      "INVALID ISBN 0553408909\n",
      "INVALID ISBN 020168859x\n",
      "INVALID ISBN 1570821739\n",
      "INVALID ISBN 3822895849\n",
      "INVALID ISBN 8476729332\n",
      "INVALID ISBN B00013AFZQ\n",
      "INVALID ISBN 0739436376\n",
      "INVALID ISBN 1404354077\n",
      "INVALID ISBN 8425400538\n",
      "INVALID ISBN 140432741x\n",
      "INVALID ISBN 0394178092\n",
      "INVALID ISBN 0449210340\n",
      "INVALID ISBN 0449210359\n",
      "INVALID ISBN 0091832314\n",
      "INVALID ISBN B00005TZWI\n",
      "INVALID ISBN 0718217217\n",
      "INVALID ISBN 087220460x\n"
     ]
    },
    {
     "data": {
      "text/html": [
       "<div>\n",
       "<style>\n",
       "    .dataframe thead tr:only-child th {\n",
       "        text-align: right;\n",
       "    }\n",
       "\n",
       "    .dataframe thead th {\n",
       "        text-align: left;\n",
       "    }\n",
       "\n",
       "    .dataframe tbody tr th {\n",
       "        vertical-align: top;\n",
       "    }\n",
       "</style>\n",
       "<table border=\"1\" class=\"dataframe\">\n",
       "  <thead>\n",
       "    <tr style=\"text-align: right;\">\n",
       "      <th></th>\n",
       "      <th>ISBN</th>\n",
       "      <th>Book-Title</th>\n",
       "      <th>Book-Author</th>\n",
       "      <th>common-shelves</th>\n",
       "      <th>description</th>\n",
       "      <th>asin</th>\n",
       "    </tr>\n",
       "  </thead>\n",
       "  <tbody>\n",
       "    <tr>\n",
       "      <th>0</th>\n",
       "      <td>0399135782</td>\n",
       "      <td>The Kitchen God's Wife</td>\n",
       "      <td>Amy Tan</td>\n",
       "      <td>romance|war|drama</td>\n",
       "      <td>Tan can relax. If The Joy Luck Club was an ast...</td>\n",
       "      <td>0143038109</td>\n",
       "    </tr>\n",
       "    <tr>\n",
       "      <th>1</th>\n",
       "      <td>0446310786</td>\n",
       "      <td>To Kill a Mockingbird</td>\n",
       "      <td>Harper Lee</td>\n",
       "      <td>crime|mystery|drama</td>\n",
       "      <td>\"When he was nearly thirteen, my brother Jem g...</td>\n",
       "      <td>0060194995</td>\n",
       "    </tr>\n",
       "    <tr>\n",
       "      <th>2</th>\n",
       "      <td>055321215X</td>\n",
       "      <td>Pride and Prejudice</td>\n",
       "      <td>Jane Austen</td>\n",
       "      <td>historical-romance|drama</td>\n",
       "      <td>no description</td>\n",
       "      <td>0030514878</td>\n",
       "    </tr>\n",
       "    <tr>\n",
       "      <th>3</th>\n",
       "      <td>0553582747</td>\n",
       "      <td>From the Corner of His Eye</td>\n",
       "      <td>Dean Koontz</td>\n",
       "      <td>fantasy|urban-fantasy|horror-suspense|suspense...</td>\n",
       "      <td>Horrormeister Koontz looks heavenward for insp...</td>\n",
       "      <td>0553502697</td>\n",
       "    </tr>\n",
       "    <tr>\n",
       "      <th>4</th>\n",
       "      <td>0380715899</td>\n",
       "      <td>A Soldier of the Great War</td>\n",
       "      <td>Mark Helprin</td>\n",
       "      <td>the-great-war|adventure|war-memoirs|world-war-...</td>\n",
       "      <td>With energetic, often lyrical prose capable of...</td>\n",
       "      <td>0151836000</td>\n",
       "    </tr>\n",
       "  </tbody>\n",
       "</table>\n",
       "</div>"
      ],
      "text/plain": [
       "         ISBN                  Book-Title   Book-Author  \\\n",
       "0  0399135782      The Kitchen God's Wife       Amy Tan   \n",
       "1  0446310786       To Kill a Mockingbird    Harper Lee   \n",
       "2  055321215X         Pride and Prejudice   Jane Austen   \n",
       "3  0553582747  From the Corner of His Eye   Dean Koontz   \n",
       "4  0380715899  A Soldier of the Great War  Mark Helprin   \n",
       "\n",
       "                                      common-shelves  \\\n",
       "0                                  romance|war|drama   \n",
       "1                                crime|mystery|drama   \n",
       "2                           historical-romance|drama   \n",
       "3  fantasy|urban-fantasy|horror-suspense|suspense...   \n",
       "4  the-great-war|adventure|war-memoirs|world-war-...   \n",
       "\n",
       "                                         description        asin  \n",
       "0  Tan can relax. If The Joy Luck Club was an ast...  0143038109  \n",
       "1  \"When he was nearly thirteen, my brother Jem g...  0060194995  \n",
       "2                                     no description  0030514878  \n",
       "3  Horrormeister Koontz looks heavenward for insp...  0553502697  \n",
       "4  With energetic, often lyrical prose capable of...  0151836000  "
      ]
     },
     "execution_count": 10,
     "metadata": {},
     "output_type": "execute_result"
    }
   ],
   "source": [
    "for i in np.arange(0, max_complete_frames):\n",
    "    df_aux = df_book_meta.loc[i*frame : (i+1)*frame]\n",
    "    df_aux['average rating'] = df_aux['ISBN'].apply(get_average_rating)\n",
    "    df_aux.to_csv('/home/ignacio/Datasets/Amazon/Data cleaned/Book_rating_'+ str(i) +'.csv', index=False)\n",
    "\n",
    "df_book_meta.head()"
   ]
  },
  {
   "cell_type": "code",
   "execution_count": 12,
   "metadata": {
    "collapsed": false
   },
   "outputs": [
    {
     "name": "stderr",
     "output_type": "stream",
     "text": [
      "/usr/local/lib/python3.5/dist-packages/ipykernel_launcher.py:3: SettingWithCopyWarning: \n",
      "A value is trying to be set on a copy of a slice from a DataFrame.\n",
      "Try using .loc[row_indexer,col_indexer] = value instead\n",
      "\n",
      "See the caveats in the documentation: http://pandas.pydata.org/pandas-docs/stable/indexing.html#indexing-view-versus-copy\n",
      "  This is separate from the ipykernel package so we can avoid doing imports until\n"
     ]
    }
   ],
   "source": [
    "if len(df_book_meta)%frame != 0 :\n",
    "    df_aux = df_book_meta.loc[max_complete_frames*frame:]\n",
    "    df_aux['average rating'] = df_aux['ISBN'].apply(get_average_rating)\n",
    "    df_aux.to_csv('/home/ignacio/Datasets/Amazon/Data cleaned/Book_rating_'+ str(max_complete_frames) +'.csv', index=False)"
   ]
  },
  {
   "cell_type": "code",
   "execution_count": 13,
   "metadata": {
    "collapsed": false
   },
   "outputs": [
    {
     "data": {
      "text/html": [
       "<div>\n",
       "<style>\n",
       "    .dataframe thead tr:only-child th {\n",
       "        text-align: right;\n",
       "    }\n",
       "\n",
       "    .dataframe thead th {\n",
       "        text-align: left;\n",
       "    }\n",
       "\n",
       "    .dataframe tbody tr th {\n",
       "        vertical-align: top;\n",
       "    }\n",
       "</style>\n",
       "<table border=\"1\" class=\"dataframe\">\n",
       "  <thead>\n",
       "    <tr style=\"text-align: right;\">\n",
       "      <th></th>\n",
       "      <th>ISBN</th>\n",
       "      <th>Book-Title</th>\n",
       "      <th>Book-Author</th>\n",
       "      <th>common-shelves</th>\n",
       "      <th>description</th>\n",
       "      <th>asin</th>\n",
       "      <th>average rating</th>\n",
       "    </tr>\n",
       "  </thead>\n",
       "  <tbody>\n",
       "    <tr>\n",
       "      <th>0</th>\n",
       "      <td>0399135782</td>\n",
       "      <td>The Kitchen God's Wife</td>\n",
       "      <td>Amy Tan</td>\n",
       "      <td>romance|war|drama</td>\n",
       "      <td>Tan can relax. If The Joy Luck Club was an ast...</td>\n",
       "      <td>0143038109</td>\n",
       "      <td>3.99</td>\n",
       "    </tr>\n",
       "    <tr>\n",
       "      <th>1</th>\n",
       "      <td>0446310786</td>\n",
       "      <td>To Kill a Mockingbird</td>\n",
       "      <td>Harper Lee</td>\n",
       "      <td>crime|mystery|drama</td>\n",
       "      <td>\"When he was nearly thirteen, my brother Jem g...</td>\n",
       "      <td>0060194995</td>\n",
       "      <td>4.26</td>\n",
       "    </tr>\n",
       "    <tr>\n",
       "      <th>2</th>\n",
       "      <td>055321215X</td>\n",
       "      <td>Pride and Prejudice</td>\n",
       "      <td>Jane Austen</td>\n",
       "      <td>historical-romance|drama</td>\n",
       "      <td>no description</td>\n",
       "      <td>0030514878</td>\n",
       "      <td>4.25</td>\n",
       "    </tr>\n",
       "    <tr>\n",
       "      <th>3</th>\n",
       "      <td>0553582747</td>\n",
       "      <td>From the Corner of His Eye</td>\n",
       "      <td>Dean Koontz</td>\n",
       "      <td>fantasy|urban-fantasy|horror-suspense|suspense...</td>\n",
       "      <td>Horrormeister Koontz looks heavenward for insp...</td>\n",
       "      <td>0553502697</td>\n",
       "      <td>4.01</td>\n",
       "    </tr>\n",
       "    <tr>\n",
       "      <th>4</th>\n",
       "      <td>0380715899</td>\n",
       "      <td>A Soldier of the Great War</td>\n",
       "      <td>Mark Helprin</td>\n",
       "      <td>the-great-war|adventure|war-memoirs|world-war-...</td>\n",
       "      <td>With energetic, often lyrical prose capable of...</td>\n",
       "      <td>0151836000</td>\n",
       "      <td>4.35</td>\n",
       "    </tr>\n",
       "  </tbody>\n",
       "</table>\n",
       "</div>"
      ],
      "text/plain": [
       "         ISBN                  Book-Title   Book-Author  \\\n",
       "0  0399135782      The Kitchen God's Wife       Amy Tan   \n",
       "1  0446310786       To Kill a Mockingbird    Harper Lee   \n",
       "2  055321215X         Pride and Prejudice   Jane Austen   \n",
       "3  0553582747  From the Corner of His Eye   Dean Koontz   \n",
       "4  0380715899  A Soldier of the Great War  Mark Helprin   \n",
       "\n",
       "                                      common-shelves  \\\n",
       "0                                  romance|war|drama   \n",
       "1                                crime|mystery|drama   \n",
       "2                           historical-romance|drama   \n",
       "3  fantasy|urban-fantasy|horror-suspense|suspense...   \n",
       "4  the-great-war|adventure|war-memoirs|world-war-...   \n",
       "\n",
       "                                         description        asin  \\\n",
       "0  Tan can relax. If The Joy Luck Club was an ast...  0143038109   \n",
       "1  \"When he was nearly thirteen, my brother Jem g...  0060194995   \n",
       "2                                     no description  0030514878   \n",
       "3  Horrormeister Koontz looks heavenward for insp...  0553502697   \n",
       "4  With energetic, often lyrical prose capable of...  0151836000   \n",
       "\n",
       "   average rating  \n",
       "0            3.99  \n",
       "1            4.26  \n",
       "2            4.25  \n",
       "3            4.01  \n",
       "4            4.35  "
      ]
     },
     "execution_count": 13,
     "metadata": {},
     "output_type": "execute_result"
    }
   ],
   "source": [
    "df_book_meta = pd.read_csv('/home/ignacio/Datasets/Amazon/Data cleaned/Book_rating_0.csv')\n",
    "df_book_meta.head()"
   ]
  },
  {
   "cell_type": "code",
   "execution_count": 14,
   "metadata": {
    "collapsed": false
   },
   "outputs": [
    {
     "data": {
      "text/plain": [
       "6292"
      ]
     },
     "execution_count": 14,
     "metadata": {},
     "output_type": "execute_result"
    }
   ],
   "source": [
    "for i in np.arange(1, max_complete_frames + 1):\n",
    "    df_aux = pd.read_csv('/home/ignacio/Datasets/Amazon/Data cleaned/Book_rating_'+str(i)+'.csv')\n",
    "    df_book_meta = pd.concat([df_book_meta, df_aux])\n",
    "len(df_book_meta)"
   ]
  },
  {
   "cell_type": "code",
   "execution_count": 15,
   "metadata": {
    "collapsed": true
   },
   "outputs": [],
   "source": [
    "df_book_meta.to_csv('/home/ignacio/Datasets/Amazon/Data cleaned/book_meta_valid_shelves_rating.csv', index=False)"
   ]
  },
  {
   "cell_type": "markdown",
   "metadata": {},
   "source": [
    "## Movie genre addition"
   ]
  },
  {
   "cell_type": "code",
   "execution_count": null,
   "metadata": {
    "collapsed": false
   },
   "outputs": [],
   "source": [
    "df_movie_meta = pd.read_csv('/home/ignacio/Datasets/Amazon/Data cleaned/movie_meta_valid.csv')\n",
    "df_movie_meta.head()"
   ]
  },
  {
   "cell_type": "code",
   "execution_count": null,
   "metadata": {
    "collapsed": false
   },
   "outputs": [],
   "source": [
    "df_movie_genre = pd.read_csv('/home/ignacio/Datasets/Graph analysis/ml-valid-movies.csv')\n",
    "df_movie_genre.head()"
   ]
  },
  {
   "cell_type": "code",
   "execution_count": null,
   "metadata": {
    "collapsed": false
   },
   "outputs": [],
   "source": [
    "df_movie_meta = df_movie_meta[['asin','title', 'description']]\n",
    "df_movie_meta.head()"
   ]
  },
  {
   "cell_type": "code",
   "execution_count": null,
   "metadata": {
    "collapsed": true
   },
   "outputs": [],
   "source": [
    "df_movie_meta = df_movie_meta.fillna('no description')"
   ]
  },
  {
   "cell_type": "code",
   "execution_count": null,
   "metadata": {
    "collapsed": false
   },
   "outputs": [],
   "source": [
    "df_movie_meta['title'] = df_movie_meta['title'].str.replace(r' ?\\[VHS\\] ?', '')\n",
    "df_movie_meta['title'] = df_movie_meta['title'].str.replace(r' ?DVD ?', '')\n",
    "df_movie_meta.head()"
   ]
  },
  {
   "cell_type": "code",
   "execution_count": null,
   "metadata": {
    "collapsed": false
   },
   "outputs": [],
   "source": [
    "df_movie_genre['title clean'] = get_title_clean(df_movie_genre, 'title')\n",
    "df_movie_genre.head()"
   ]
  },
  {
   "cell_type": "code",
   "execution_count": null,
   "metadata": {
    "collapsed": false
   },
   "outputs": [],
   "source": [
    "df_movie_meta['title clean'] = get_title_clean(df_movie_meta, 'title')\n",
    "df_movie_meta.head()"
   ]
  },
  {
   "cell_type": "code",
   "execution_count": null,
   "metadata": {
    "collapsed": false
   },
   "outputs": [],
   "source": [
    "df_movie_meta['genres'] = ''\n",
    "df_movie_meta['director'] = ''\n",
    "df_movie_meta.head()"
   ]
  },
  {
   "cell_type": "code",
   "execution_count": null,
   "metadata": {
    "collapsed": true
   },
   "outputs": [],
   "source": [
    "import re\n",
    "\n",
    "def get_asins(row, df_movie_meta):\n",
    "    pattern = '^' + row['title clean'] +'$'\n",
    "    regex = re.compile(pattern)\n",
    "    asins = df_movie_meta[df_movie_meta['title clean'].str.contains(pattern)]['asin'].drop_duplicates()\n",
    "    df_movie_meta['genres'] = df_movie_meta.apply(lambda x : x['genres'] + '|' +row['genres'] if x['asin'] in asins.values else x['genres'], axis=1)\n",
    "    df_movie_meta['director'] = df_movie_meta.apply(lambda x: x['director'] + ', ' +row['director'] if x['asin'] in asins.values else x['director'], axis=1)\n",
    "    return True"
   ]
  },
  {
   "cell_type": "code",
   "execution_count": null,
   "metadata": {
    "collapsed": false
   },
   "outputs": [],
   "source": [
    "frame = 100\n",
    "max_frames = int(np.floor(len(df_movie_genre)/frame))\n",
    "max_frames"
   ]
  },
  {
   "cell_type": "code",
   "execution_count": null,
   "metadata": {
    "collapsed": false
   },
   "outputs": [],
   "source": [
    "for i in np.arange(0, max_frames):\n",
    "    df_aux = df_movie_genre.iloc[i*frame : (i+1)*frame ].copy()\n",
    "    df_aux.apply(get_asins, axis=1, df_movie_meta=df_movie_meta)\n",
    "    df_movie_meta.to_csv('/home/ignacio/Datasets/Amazon/Data cleaned/Temporal/movie_meta_valid_genres.csv')\n",
    "    print('Iteration: ' + str(i))"
   ]
  },
  {
   "cell_type": "code",
   "execution_count": null,
   "metadata": {
    "collapsed": false
   },
   "outputs": [],
   "source": [
    "df_movie_meta.head()"
   ]
  },
  {
   "cell_type": "code",
   "execution_count": null,
   "metadata": {
    "collapsed": false
   },
   "outputs": [],
   "source": [
    "if len(df_movie_genre)%frame != 0:\n",
    "    df_aux = df_movie_genre.iloc[max_frames*frame:].copy()\n",
    "    df_aux.apply(get_asins, axis=1, df_movie_meta=df_movie_meta)\n",
    "\n",
    "df_movie_meta.head()"
   ]
  },
  {
   "cell_type": "code",
   "execution_count": null,
   "metadata": {
    "collapsed": true
   },
   "outputs": [],
   "source": [
    "df_movie_meta.to_csv('/home/ignacio/Datasets/Amazon/Data cleaned/movie_meta_valid_genres.csv', index=False)"
   ]
  },
  {
   "cell_type": "code",
   "execution_count": null,
   "metadata": {
    "collapsed": true
   },
   "outputs": [],
   "source": []
  },
  {
   "cell_type": "code",
   "execution_count": null,
   "metadata": {
    "collapsed": false
   },
   "outputs": [],
   "source": [
    "df_movie_meta[df_movie_meta['title clean'].str.contains(r'^toy story$')]['asin'].drop_duplicates()"
   ]
  },
  {
   "cell_type": "code",
   "execution_count": null,
   "metadata": {
    "collapsed": false
   },
   "outputs": [],
   "source": [
    "df_movie_meta.iloc[69898]"
   ]
  },
  {
   "cell_type": "code",
   "execution_count": null,
   "metadata": {
    "collapsed": false
   },
   "outputs": [],
   "source": [
    "df_movie_genre[df_movie_genre['title clean'] == 'jackie brown']"
   ]
  },
  {
   "cell_type": "code",
   "execution_count": null,
   "metadata": {
    "collapsed": false
   },
   "outputs": [],
   "source": [
    "df_movie_genre['title clean'][99]"
   ]
  },
  {
   "cell_type": "code",
   "execution_count": null,
   "metadata": {
    "collapsed": false
   },
   "outputs": [],
   "source": [
    "df_movie_genre['asins'] = df_movie_genre.apply(get_asins, axis=1, df_movie_meta=df_movie_meta)\n",
    "df_movie_genre.head()"
   ]
  },
  {
   "cell_type": "code",
   "execution_count": null,
   "metadata": {
    "collapsed": false
   },
   "outputs": [],
   "source": [
    "asins = df_movie_meta[df_movie_meta['title clean'].str.contains('jackie brown')]['asin'].drop_duplicates()\n",
    "asins"
   ]
  },
  {
   "cell_type": "code",
   "execution_count": null,
   "metadata": {
    "collapsed": false
   },
   "outputs": [],
   "source": [
    "df_movie_meta['asin'][0] in asins.values"
   ]
  },
  {
   "cell_type": "code",
   "execution_count": null,
   "metadata": {
    "collapsed": false
   },
   "outputs": [],
   "source": [
    "df_movie_meta['genres'] = df_movie_meta.apply(lambda x : df_movie_genre['genres'][99] if x['asin'] in asins.values else '', axis=1) \n",
    "df_movie_meta.head()"
   ]
  },
  {
   "cell_type": "markdown",
   "metadata": {},
   "source": [
    "## Normalize data cleaned"
   ]
  },
  {
   "cell_type": "markdown",
   "metadata": {},
   "source": [
    "### Book normalize"
   ]
  },
  {
   "cell_type": "code",
   "execution_count": null,
   "metadata": {
    "collapsed": false
   },
   "outputs": [],
   "source": [
    "df_bx_book = pd.read_csv('/home/ignacio/Datasets/Graph analysis/bx-valid-book.csv')\n",
    "df_bx_book.head()"
   ]
  },
  {
   "cell_type": "code",
   "execution_count": null,
   "metadata": {
    "collapsed": false
   },
   "outputs": [],
   "source": [
    "df_book_valid = pd.read_csv('/home/ignacio/Datasets/Amazon/Data cleaned/book_meta_valid_shelves.csv')\n",
    "df_book_valid.head()"
   ]
  },
  {
   "cell_type": "code",
   "execution_count": null,
   "metadata": {
    "collapsed": false
   },
   "outputs": [],
   "source": [
    "df_book_valid = df_book_valid.dropna(subset=['ISBN'])\n",
    "df_book_valid.head()"
   ]
  },
  {
   "cell_type": "code",
   "execution_count": null,
   "metadata": {
    "collapsed": true
   },
   "outputs": [],
   "source": [
    "df_book_valid['common-shelves'] = df_book_valid['common-shelves'].fillna('no-description')"
   ]
  },
  {
   "cell_type": "code",
   "execution_count": null,
   "metadata": {
    "collapsed": false
   },
   "outputs": [],
   "source": [
    "df_book_valid = df_book_valid[['ISBN', 'Book-Title', 'Book-Author', 'common-shelves', 'description', 'asin']]\n",
    "df_book_valid.head()"
   ]
  },
  {
   "cell_type": "code",
   "execution_count": null,
   "metadata": {
    "collapsed": true
   },
   "outputs": [],
   "source": [
    "df_book_valid.to_csv('/home/ignacio/Datasets/Amazon/Data cleaned/book_meta_valid_shelves.csv', index=False)"
   ]
  },
  {
   "cell_type": "code",
   "execution_count": null,
   "metadata": {
    "collapsed": true
   },
   "outputs": [],
   "source": []
  },
  {
   "cell_type": "markdown",
   "metadata": {},
   "source": [
    "### Movie normalize"
   ]
  },
  {
   "cell_type": "code",
   "execution_count": null,
   "metadata": {
    "collapsed": false
   },
   "outputs": [],
   "source": [
    "df_ml_movies = pd.read_csv('/home/ignacio/Datasets/Graph analysis/ml-valid-movies.csv')\n",
    "df_ml_movies.head()"
   ]
  },
  {
   "cell_type": "code",
   "execution_count": null,
   "metadata": {
    "collapsed": false
   },
   "outputs": [],
   "source": [
    "df_ml_movies['title clean'] = get_title_clean(df_ml_movies, 'title')\n",
    "df_ml_movies.head()"
   ]
  },
  {
   "cell_type": "code",
   "execution_count": null,
   "metadata": {
    "collapsed": false
   },
   "outputs": [],
   "source": [
    "df_movie_valid = pd.read_csv('/home/ignacio/Datasets/Amazon/Data cleaned/movie_meta_valid_genres.csv')\n",
    "df_movie_valid.head()"
   ]
  },
  {
   "cell_type": "code",
   "execution_count": null,
   "metadata": {
    "collapsed": false
   },
   "outputs": [],
   "source": [
    "df_movie_valid['movieId'] = df_movie_valid['title clean'].apply(\n",
    "    lambda x : df_ml_movies[df_ml_movies['title clean'].str.contains(x)]['movieId'].drop_duplicates().values )\n",
    "df_movie_valid.head()"
   ]
  },
  {
   "cell_type": "code",
   "execution_count": null,
   "metadata": {
    "collapsed": false
   },
   "outputs": [],
   "source": [
    "df_movie_valid['movieId'] = df_movie_valid['movieId'].apply(lambda x : x[0] if len(x) != 0 else '')\n",
    "df_movie_valid.head()"
   ]
  },
  {
   "cell_type": "code",
   "execution_count": null,
   "metadata": {
    "collapsed": false
   },
   "outputs": [],
   "source": [
    "df_movie_valid['director'] = df_movie_valid['director'].str.split(r', ')\n",
    "df_movie_valid.head()"
   ]
  },
  {
   "cell_type": "code",
   "execution_count": null,
   "metadata": {
    "collapsed": false
   },
   "outputs": [],
   "source": [
    "df_movie_valid['director'] = df_movie_valid['director'].apply(lambda x : list(set(x)))\n",
    "df_movie_valid.head()"
   ]
  },
  {
   "cell_type": "code",
   "execution_count": null,
   "metadata": {
    "collapsed": false
   },
   "outputs": [],
   "source": [
    "df_movie_valid['director'] = df_movie_valid['director'].apply(lambda x : ', '.join(x) if len(x) > 1 else x[0])\n",
    "df_movie_valid.head()"
   ]
  },
  {
   "cell_type": "code",
   "execution_count": null,
   "metadata": {
    "collapsed": false
   },
   "outputs": [],
   "source": [
    "df_movie_valid = df_movie_valid[['movieId', 'title', 'genres', 'director', 'description', 'asin']]\n",
    "df_movie_valid.head()"
   ]
  },
  {
   "cell_type": "code",
   "execution_count": null,
   "metadata": {
    "collapsed": true
   },
   "outputs": [],
   "source": [
    "df_movie_valid.to_csv('/home/ignacio/Datasets/Amazon/Data cleaned/movie_meta_valid_genres.csv', index=False)"
   ]
  },
  {
   "cell_type": "code",
   "execution_count": null,
   "metadata": {
    "collapsed": true
   },
   "outputs": [],
   "source": []
  },
  {
   "cell_type": "markdown",
   "metadata": {},
   "source": [
    "### movie-rating normalize"
   ]
  },
  {
   "cell_type": "code",
   "execution_count": null,
   "metadata": {
    "collapsed": false
   },
   "outputs": [],
   "source": [
    "df_movie_ratings = pd.read_csv('/home/ignacio/Datasets/Graph analysis/ml-ratings.csv')\n",
    "df_movie_ratings.head()"
   ]
  },
  {
   "cell_type": "code",
   "execution_count": 2,
   "metadata": {
    "collapsed": false
   },
   "outputs": [
    {
     "data": {
      "text/html": [
       "<div>\n",
       "<style>\n",
       "    .dataframe thead tr:only-child th {\n",
       "        text-align: right;\n",
       "    }\n",
       "\n",
       "    .dataframe thead th {\n",
       "        text-align: left;\n",
       "    }\n",
       "\n",
       "    .dataframe tbody tr th {\n",
       "        vertical-align: top;\n",
       "    }\n",
       "</style>\n",
       "<table border=\"1\" class=\"dataframe\">\n",
       "  <thead>\n",
       "    <tr style=\"text-align: right;\">\n",
       "      <th></th>\n",
       "      <th>userId</th>\n",
       "      <th>asin</th>\n",
       "      <th>rating</th>\n",
       "      <th>reviewTime</th>\n",
       "      <th>movieId</th>\n",
       "    </tr>\n",
       "  </thead>\n",
       "  <tbody>\n",
       "    <tr>\n",
       "      <th>0</th>\n",
       "      <td>AGEIT17HENDIS</td>\n",
       "      <td>0764003828</td>\n",
       "      <td>3.0</td>\n",
       "      <td>1185062400</td>\n",
       "      <td>1963</td>\n",
       "    </tr>\n",
       "    <tr>\n",
       "      <th>1</th>\n",
       "      <td>A1GGOC9PVDXW7Z</td>\n",
       "      <td>0764003828</td>\n",
       "      <td>2.0</td>\n",
       "      <td>1280016000</td>\n",
       "      <td>1963</td>\n",
       "    </tr>\n",
       "    <tr>\n",
       "      <th>2</th>\n",
       "      <td>A34PAZQ73SL163</td>\n",
       "      <td>0764003828</td>\n",
       "      <td>5.0</td>\n",
       "      <td>1110585600</td>\n",
       "      <td>1963</td>\n",
       "    </tr>\n",
       "    <tr>\n",
       "      <th>3</th>\n",
       "      <td>A20IIR0422G3A5</td>\n",
       "      <td>0764003828</td>\n",
       "      <td>5.0</td>\n",
       "      <td>1115078400</td>\n",
       "      <td>1963</td>\n",
       "    </tr>\n",
       "    <tr>\n",
       "      <th>4</th>\n",
       "      <td>AW3VZ5O895LRK</td>\n",
       "      <td>0764003828</td>\n",
       "      <td>4.0</td>\n",
       "      <td>1379116800</td>\n",
       "      <td>1963</td>\n",
       "    </tr>\n",
       "  </tbody>\n",
       "</table>\n",
       "</div>"
      ],
      "text/plain": [
       "           userId        asin  rating  reviewTime  movieId\n",
       "0   AGEIT17HENDIS  0764003828     3.0  1185062400     1963\n",
       "1  A1GGOC9PVDXW7Z  0764003828     2.0  1280016000     1963\n",
       "2  A34PAZQ73SL163  0764003828     5.0  1110585600     1963\n",
       "3  A20IIR0422G3A5  0764003828     5.0  1115078400     1963\n",
       "4   AW3VZ5O895LRK  0764003828     4.0  1379116800     1963"
      ]
     },
     "execution_count": 2,
     "metadata": {},
     "output_type": "execute_result"
    }
   ],
   "source": [
    "df_movie_ratings = pd.read_csv('/home/ignacio/Datasets/Amazon/Data cleaned/ratings_movie_intersect_ii.csv')\n",
    "df_movie_ratings.head()"
   ]
  },
  {
   "cell_type": "code",
   "execution_count": null,
   "metadata": {
    "collapsed": false
   },
   "outputs": [],
   "source": [
    "len(df_movie_ratings)"
   ]
  },
  {
   "cell_type": "code",
   "execution_count": null,
   "metadata": {
    "collapsed": false
   },
   "outputs": [],
   "source": [
    "df_join_movie_ratings = pd.merge(df_movie_ratings, df_movie_valid[['asin', 'movieId']], how='left', left_on='asin', right_on='asin')\n",
    "df_join_movie_ratings.head()"
   ]
  },
  {
   "cell_type": "code",
   "execution_count": null,
   "metadata": {
    "collapsed": false
   },
   "outputs": [],
   "source": [
    "len(df_join_movie_ratings)"
   ]
  },
  {
   "cell_type": "code",
   "execution_count": null,
   "metadata": {
    "collapsed": false
   },
   "outputs": [],
   "source": [
    "df_join_movie_ratings = df_join_movie_ratings.rename(index=str, columns={'reviewerID': 'userId'})\n",
    "df_join_movie_ratings.head()"
   ]
  },
  {
   "cell_type": "code",
   "execution_count": null,
   "metadata": {
    "collapsed": true
   },
   "outputs": [],
   "source": [
    "df_join_movie_ratings.to_csv('/home/ignacio/Datasets/Amazon/Data cleaned/ratings_movie_intersect_ii.csv', index=False)"
   ]
  },
  {
   "cell_type": "markdown",
   "metadata": {},
   "source": [
    "### book-rating normalize"
   ]
  },
  {
   "cell_type": "code",
   "execution_count": 5,
   "metadata": {
    "collapsed": false
   },
   "outputs": [
    {
     "data": {
      "text/html": [
       "<div>\n",
       "<style>\n",
       "    .dataframe thead tr:only-child th {\n",
       "        text-align: right;\n",
       "    }\n",
       "\n",
       "    .dataframe thead th {\n",
       "        text-align: left;\n",
       "    }\n",
       "\n",
       "    .dataframe tbody tr th {\n",
       "        vertical-align: top;\n",
       "    }\n",
       "</style>\n",
       "<table border=\"1\" class=\"dataframe\">\n",
       "  <thead>\n",
       "    <tr style=\"text-align: right;\">\n",
       "      <th></th>\n",
       "      <th>ISBN</th>\n",
       "      <th>Book-Title</th>\n",
       "      <th>Book-Author</th>\n",
       "      <th>common-shelves</th>\n",
       "      <th>description</th>\n",
       "      <th>asin</th>\n",
       "    </tr>\n",
       "  </thead>\n",
       "  <tbody>\n",
       "    <tr>\n",
       "      <th>0</th>\n",
       "      <td>0399135782</td>\n",
       "      <td>The Kitchen God's Wife</td>\n",
       "      <td>Amy Tan</td>\n",
       "      <td>romance|war|drama</td>\n",
       "      <td>Tan can relax. If The Joy Luck Club was an ast...</td>\n",
       "      <td>0143038109</td>\n",
       "    </tr>\n",
       "    <tr>\n",
       "      <th>1</th>\n",
       "      <td>0446310786</td>\n",
       "      <td>To Kill a Mockingbird</td>\n",
       "      <td>Harper Lee</td>\n",
       "      <td>crime|mystery|drama</td>\n",
       "      <td>\"When he was nearly thirteen, my brother Jem g...</td>\n",
       "      <td>0060194995</td>\n",
       "    </tr>\n",
       "    <tr>\n",
       "      <th>2</th>\n",
       "      <td>055321215X</td>\n",
       "      <td>Pride and Prejudice</td>\n",
       "      <td>Jane Austen</td>\n",
       "      <td>historical-romance|drama</td>\n",
       "      <td>no description</td>\n",
       "      <td>0030514878</td>\n",
       "    </tr>\n",
       "    <tr>\n",
       "      <th>3</th>\n",
       "      <td>0553582747</td>\n",
       "      <td>From the Corner of His Eye</td>\n",
       "      <td>Dean Koontz</td>\n",
       "      <td>fantasy|urban-fantasy|horror-suspense|suspense...</td>\n",
       "      <td>Horrormeister Koontz looks heavenward for insp...</td>\n",
       "      <td>0553502697</td>\n",
       "    </tr>\n",
       "    <tr>\n",
       "      <th>4</th>\n",
       "      <td>0380715899</td>\n",
       "      <td>A Soldier of the Great War</td>\n",
       "      <td>Mark Helprin</td>\n",
       "      <td>the-great-war|adventure|war-memoirs|world-war-...</td>\n",
       "      <td>With energetic, often lyrical prose capable of...</td>\n",
       "      <td>0151836000</td>\n",
       "    </tr>\n",
       "  </tbody>\n",
       "</table>\n",
       "</div>"
      ],
      "text/plain": [
       "         ISBN                  Book-Title   Book-Author  \\\n",
       "0  0399135782      The Kitchen God's Wife       Amy Tan   \n",
       "1  0446310786       To Kill a Mockingbird    Harper Lee   \n",
       "2  055321215X         Pride and Prejudice   Jane Austen   \n",
       "3  0553582747  From the Corner of His Eye   Dean Koontz   \n",
       "4  0380715899  A Soldier of the Great War  Mark Helprin   \n",
       "\n",
       "                                      common-shelves  \\\n",
       "0                                  romance|war|drama   \n",
       "1                                crime|mystery|drama   \n",
       "2                           historical-romance|drama   \n",
       "3  fantasy|urban-fantasy|horror-suspense|suspense...   \n",
       "4  the-great-war|adventure|war-memoirs|world-war-...   \n",
       "\n",
       "                                         description        asin  \n",
       "0  Tan can relax. If The Joy Luck Club was an ast...  0143038109  \n",
       "1  \"When he was nearly thirteen, my brother Jem g...  0060194995  \n",
       "2                                     no description  0030514878  \n",
       "3  Horrormeister Koontz looks heavenward for insp...  0553502697  \n",
       "4  With energetic, often lyrical prose capable of...  0151836000  "
      ]
     },
     "execution_count": 5,
     "metadata": {},
     "output_type": "execute_result"
    }
   ],
   "source": [
    "df_book_valid = pd.read_csv('/home/ignacio/Datasets/Amazon/Data cleaned/book_meta_valid_shelves.csv')\n",
    "df_book_valid.head()"
   ]
  },
  {
   "cell_type": "code",
   "execution_count": 3,
   "metadata": {
    "collapsed": false
   },
   "outputs": [
    {
     "data": {
      "text/html": [
       "<div>\n",
       "<style>\n",
       "    .dataframe thead tr:only-child th {\n",
       "        text-align: right;\n",
       "    }\n",
       "\n",
       "    .dataframe thead th {\n",
       "        text-align: left;\n",
       "    }\n",
       "\n",
       "    .dataframe tbody tr th {\n",
       "        vertical-align: top;\n",
       "    }\n",
       "</style>\n",
       "<table border=\"1\" class=\"dataframe\">\n",
       "  <thead>\n",
       "    <tr style=\"text-align: right;\">\n",
       "      <th></th>\n",
       "      <th>reviewerID</th>\n",
       "      <th>asin</th>\n",
       "      <th>rating</th>\n",
       "      <th>reviewTime</th>\n",
       "    </tr>\n",
       "  </thead>\n",
       "  <tbody>\n",
       "    <tr>\n",
       "      <th>0</th>\n",
       "      <td>AGEIT17HENDIS</td>\n",
       "      <td>0002051850</td>\n",
       "      <td>4.0</td>\n",
       "      <td>1148860800</td>\n",
       "    </tr>\n",
       "    <tr>\n",
       "      <th>1</th>\n",
       "      <td>A2RM9L2MM9EQVE</td>\n",
       "      <td>0002051850</td>\n",
       "      <td>5.0</td>\n",
       "      <td>1222905600</td>\n",
       "    </tr>\n",
       "    <tr>\n",
       "      <th>2</th>\n",
       "      <td>AHCVWPLA1O4X8</td>\n",
       "      <td>0002051850</td>\n",
       "      <td>5.0</td>\n",
       "      <td>1059696000</td>\n",
       "    </tr>\n",
       "    <tr>\n",
       "      <th>3</th>\n",
       "      <td>A4BNZ1OSBO77S</td>\n",
       "      <td>0002051850</td>\n",
       "      <td>5.0</td>\n",
       "      <td>1059350400</td>\n",
       "    </tr>\n",
       "    <tr>\n",
       "      <th>4</th>\n",
       "      <td>A3EYOITBD7ZXOV</td>\n",
       "      <td>0002051850</td>\n",
       "      <td>2.0</td>\n",
       "      <td>1198627200</td>\n",
       "    </tr>\n",
       "  </tbody>\n",
       "</table>\n",
       "</div>"
      ],
      "text/plain": [
       "       reviewerID        asin  rating  reviewTime\n",
       "0   AGEIT17HENDIS  0002051850     4.0  1148860800\n",
       "1  A2RM9L2MM9EQVE  0002051850     5.0  1222905600\n",
       "2   AHCVWPLA1O4X8  0002051850     5.0  1059696000\n",
       "3   A4BNZ1OSBO77S  0002051850     5.0  1059350400\n",
       "4  A3EYOITBD7ZXOV  0002051850     2.0  1198627200"
      ]
     },
     "execution_count": 3,
     "metadata": {},
     "output_type": "execute_result"
    }
   ],
   "source": [
    "df_book_ratings_join = pd.read_csv('/home/ignacio/Datasets/Amazon/Data cleaned/ratings_book_intersect_ii.csv')\n",
    "df_book_ratings_join.head()"
   ]
  },
  {
   "cell_type": "code",
   "execution_count": 4,
   "metadata": {
    "collapsed": false
   },
   "outputs": [
    {
     "data": {
      "text/html": [
       "<div>\n",
       "<style>\n",
       "    .dataframe thead tr:only-child th {\n",
       "        text-align: right;\n",
       "    }\n",
       "\n",
       "    .dataframe thead th {\n",
       "        text-align: left;\n",
       "    }\n",
       "\n",
       "    .dataframe tbody tr th {\n",
       "        vertical-align: top;\n",
       "    }\n",
       "</style>\n",
       "<table border=\"1\" class=\"dataframe\">\n",
       "  <thead>\n",
       "    <tr style=\"text-align: right;\">\n",
       "      <th></th>\n",
       "      <th>userId</th>\n",
       "      <th>asin</th>\n",
       "      <th>rating</th>\n",
       "      <th>reviewTime</th>\n",
       "    </tr>\n",
       "  </thead>\n",
       "  <tbody>\n",
       "    <tr>\n",
       "      <th>0</th>\n",
       "      <td>AGEIT17HENDIS</td>\n",
       "      <td>0002051850</td>\n",
       "      <td>4.0</td>\n",
       "      <td>1148860800</td>\n",
       "    </tr>\n",
       "    <tr>\n",
       "      <th>1</th>\n",
       "      <td>A2RM9L2MM9EQVE</td>\n",
       "      <td>0002051850</td>\n",
       "      <td>5.0</td>\n",
       "      <td>1222905600</td>\n",
       "    </tr>\n",
       "    <tr>\n",
       "      <th>2</th>\n",
       "      <td>AHCVWPLA1O4X8</td>\n",
       "      <td>0002051850</td>\n",
       "      <td>5.0</td>\n",
       "      <td>1059696000</td>\n",
       "    </tr>\n",
       "    <tr>\n",
       "      <th>3</th>\n",
       "      <td>A4BNZ1OSBO77S</td>\n",
       "      <td>0002051850</td>\n",
       "      <td>5.0</td>\n",
       "      <td>1059350400</td>\n",
       "    </tr>\n",
       "    <tr>\n",
       "      <th>4</th>\n",
       "      <td>A3EYOITBD7ZXOV</td>\n",
       "      <td>0002051850</td>\n",
       "      <td>2.0</td>\n",
       "      <td>1198627200</td>\n",
       "    </tr>\n",
       "  </tbody>\n",
       "</table>\n",
       "</div>"
      ],
      "text/plain": [
       "           userId        asin  rating  reviewTime\n",
       "0   AGEIT17HENDIS  0002051850     4.0  1148860800\n",
       "1  A2RM9L2MM9EQVE  0002051850     5.0  1222905600\n",
       "2   AHCVWPLA1O4X8  0002051850     5.0  1059696000\n",
       "3   A4BNZ1OSBO77S  0002051850     5.0  1059350400\n",
       "4  A3EYOITBD7ZXOV  0002051850     2.0  1198627200"
      ]
     },
     "execution_count": 4,
     "metadata": {},
     "output_type": "execute_result"
    }
   ],
   "source": [
    "df_book_ratings_join = df_book_ratings_join.rename(index=str, columns={'reviewerID': 'userId'})\n",
    "df_book_ratings_join.head()"
   ]
  },
  {
   "cell_type": "code",
   "execution_count": 6,
   "metadata": {
    "collapsed": false
   },
   "outputs": [
    {
     "data": {
      "text/html": [
       "<div>\n",
       "<style>\n",
       "    .dataframe thead tr:only-child th {\n",
       "        text-align: right;\n",
       "    }\n",
       "\n",
       "    .dataframe thead th {\n",
       "        text-align: left;\n",
       "    }\n",
       "\n",
       "    .dataframe tbody tr th {\n",
       "        vertical-align: top;\n",
       "    }\n",
       "</style>\n",
       "<table border=\"1\" class=\"dataframe\">\n",
       "  <thead>\n",
       "    <tr style=\"text-align: right;\">\n",
       "      <th></th>\n",
       "      <th>userId</th>\n",
       "      <th>asin</th>\n",
       "      <th>rating</th>\n",
       "      <th>reviewTime</th>\n",
       "      <th>ISBN</th>\n",
       "    </tr>\n",
       "  </thead>\n",
       "  <tbody>\n",
       "    <tr>\n",
       "      <th>0</th>\n",
       "      <td>AGEIT17HENDIS</td>\n",
       "      <td>0002051850</td>\n",
       "      <td>4.0</td>\n",
       "      <td>1148860800</td>\n",
       "      <td>0684803356</td>\n",
       "    </tr>\n",
       "    <tr>\n",
       "      <th>1</th>\n",
       "      <td>A2RM9L2MM9EQVE</td>\n",
       "      <td>0002051850</td>\n",
       "      <td>5.0</td>\n",
       "      <td>1222905600</td>\n",
       "      <td>0684803356</td>\n",
       "    </tr>\n",
       "    <tr>\n",
       "      <th>2</th>\n",
       "      <td>AHCVWPLA1O4X8</td>\n",
       "      <td>0002051850</td>\n",
       "      <td>5.0</td>\n",
       "      <td>1059696000</td>\n",
       "      <td>0684803356</td>\n",
       "    </tr>\n",
       "    <tr>\n",
       "      <th>3</th>\n",
       "      <td>A4BNZ1OSBO77S</td>\n",
       "      <td>0002051850</td>\n",
       "      <td>5.0</td>\n",
       "      <td>1059350400</td>\n",
       "      <td>0684803356</td>\n",
       "    </tr>\n",
       "    <tr>\n",
       "      <th>4</th>\n",
       "      <td>A3EYOITBD7ZXOV</td>\n",
       "      <td>0002051850</td>\n",
       "      <td>2.0</td>\n",
       "      <td>1198627200</td>\n",
       "      <td>0684803356</td>\n",
       "    </tr>\n",
       "  </tbody>\n",
       "</table>\n",
       "</div>"
      ],
      "text/plain": [
       "           userId        asin  rating  reviewTime        ISBN\n",
       "0   AGEIT17HENDIS  0002051850     4.0  1148860800  0684803356\n",
       "1  A2RM9L2MM9EQVE  0002051850     5.0  1222905600  0684803356\n",
       "2   AHCVWPLA1O4X8  0002051850     5.0  1059696000  0684803356\n",
       "3   A4BNZ1OSBO77S  0002051850     5.0  1059350400  0684803356\n",
       "4  A3EYOITBD7ZXOV  0002051850     2.0  1198627200  0684803356"
      ]
     },
     "execution_count": 6,
     "metadata": {},
     "output_type": "execute_result"
    }
   ],
   "source": [
    "df_book_ratings_join = pd.merge(df_book_ratings_join, df_book_valid[['asin', 'ISBN']], how='left', right_on='asin', left_on='asin')\n",
    "df_book_ratings_join.head()"
   ]
  },
  {
   "cell_type": "code",
   "execution_count": 9,
   "metadata": {
    "collapsed": false
   },
   "outputs": [
    {
     "data": {
      "text/plain": [
       "29695"
      ]
     },
     "execution_count": 9,
     "metadata": {},
     "output_type": "execute_result"
    }
   ],
   "source": [
    "len(df_book_ratings_join)"
   ]
  },
  {
   "cell_type": "code",
   "execution_count": 10,
   "metadata": {
    "collapsed": false
   },
   "outputs": [
    {
     "data": {
      "text/plain": [
       "29694"
      ]
     },
     "execution_count": 10,
     "metadata": {},
     "output_type": "execute_result"
    }
   ],
   "source": [
    "df_book_ratings_join = df_book_ratings_join.dropna(subset=['ISBN'])\n",
    "len(df_book_ratings_join)"
   ]
  },
  {
   "cell_type": "code",
   "execution_count": 11,
   "metadata": {
    "collapsed": true
   },
   "outputs": [],
   "source": [
    "df_book_ratings_join.to_csv('/home/ignacio/Datasets/Amazon/Data cleaned/ratings_book_intersect_ii.csv', index=False)"
   ]
  },
  {
   "cell_type": "code",
   "execution_count": null,
   "metadata": {
    "collapsed": true
   },
   "outputs": [],
   "source": []
  },
  {
   "cell_type": "code",
   "execution_count": null,
   "metadata": {
    "collapsed": true
   },
   "outputs": [],
   "source": []
  },
  {
   "cell_type": "code",
   "execution_count": null,
   "metadata": {
    "collapsed": false
   },
   "outputs": [],
   "source": [
    "df_movie_valid['genres'] = df_movie_valid['genres'].apply(lambda x : x[1:] if x[0] == '|' else x)\n",
    "df_movie_valid['director'] = df_movie_valid['director'].apply(lambda x : x[2:] if x[:2] == ', ' else x)\n",
    "df_movie_valid.head()"
   ]
  },
  {
   "cell_type": "code",
   "execution_count": null,
   "metadata": {
    "collapsed": false
   },
   "outputs": [],
   "source": [
    "len(df_movie_valid)"
   ]
  },
  {
   "cell_type": "code",
   "execution_count": null,
   "metadata": {
    "collapsed": false
   },
   "outputs": [],
   "source": [
    "df_movie_valid['director'][0]"
   ]
  },
  {
   "cell_type": "code",
   "execution_count": null,
   "metadata": {
    "collapsed": false
   },
   "outputs": [],
   "source": [
    "df_movie_valid.isnull().any()"
   ]
  }
 ],
 "metadata": {
  "kernelspec": {
   "display_name": "Python 3",
   "language": "python",
   "name": "python3"
  },
  "language_info": {
   "codemirror_mode": {
    "name": "ipython",
    "version": 3
   },
   "file_extension": ".py",
   "mimetype": "text/x-python",
   "name": "python",
   "nbconvert_exporter": "python",
   "pygments_lexer": "ipython3",
   "version": "3.5.2"
  }
 },
 "nbformat": 4,
 "nbformat_minor": 2
}
